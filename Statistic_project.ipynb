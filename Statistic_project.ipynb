{
 "cells": [
  {
   "cell_type": "markdown",
   "metadata": {
    "toc": true
   },
   "source": [
    "<h1><span class=\"tocSkip\"></span></h1>\n",
    "<div class=\"toc\"><ul class=\"toc-item\"><li><span><a href=\"#Содержание\" data-toc-modified-id=\"Содержание-1\"><span class=\"toc-item-num\">1&nbsp;&nbsp;</span>Содержание</a></span></li><li><span><a href=\"#1.Обработка-Данных\" data-toc-modified-id=\"1.Обработка-Данных-2\"><span class=\"toc-item-num\">2&nbsp;&nbsp;</span>1.Обработка Данных</a></span></li><li><span><a href=\"#3.Подготовка-расчётных-данных\" data-toc-modified-id=\"3.Подготовка-расчётных-данных-3\"><span class=\"toc-item-num\">3&nbsp;&nbsp;</span>3.Подготовка расчётных данных</a></span></li><li><span><a href=\"#4.Анализ-Данных\" data-toc-modified-id=\"4.Анализ-Данных-4\"><span class=\"toc-item-num\">4&nbsp;&nbsp;</span>4.Анализ Данных</a></span></li><li><span><a href=\"#5.Проверка-гипотез-(анализ-выручки)\" data-toc-modified-id=\"5.Проверка-гипотез-(анализ-выручки)-5\"><span class=\"toc-item-num\">5&nbsp;&nbsp;</span>5.Проверка гипотез (анализ выручки)</a></span></li><li><span><a href=\"#6.Гистограммы-для-распределения-выручки.\" data-toc-modified-id=\"6.Гистограммы-для-распределения-выручки.-6\"><span class=\"toc-item-num\">6&nbsp;&nbsp;</span>6.Гистограммы для распределения выручки.</a></span></li><li><span><a href=\"#7.Вывод\" data-toc-modified-id=\"7.Вывод-7\"><span class=\"toc-item-num\">7&nbsp;&nbsp;</span>7.Вывод</a></span></li></ul></div>"
   ]
  },
  {
   "cell_type": "markdown",
   "metadata": {},
   "source": [
    "<h1>Содержание</h1>"
   ]
  },
  {
   "cell_type": "markdown",
   "metadata": {},
   "source": [
    "\n",
    "<ol>\n",
    "  <li >Обработка Данных</li>\n",
    "     <li> Подготовка Данных </li>\n",
    "     <li> Подготовка расчётных данных</li>\n",
    "     <li>Анализ Данных</li>\n",
    "     <li>Проверка гипотез (анализ выручки)</li>\n",
    "   <li> Гистограммы для распределения выручки</li>\n",
    "    <li>Вывод</li>\n",
    "\n",
    "</ol>"
   ]
  },
  {
   "cell_type": "markdown",
   "metadata": {},
   "source": [
    "<h1 name = 'Analys'>1.Обработка Данных</h1>"
   ]
  },
  {
   "cell_type": "code",
   "execution_count": 1,
   "metadata": {},
   "outputs": [],
   "source": [
    "#Импортируем все необходимые нам библиотеки\n",
    "import pandas as pd\n",
    "import warnings\n",
    "import matplotlib.pyplot as plt\n",
    "import math\n",
    "import numpy as np\n",
    "import seaborn as sns\n",
    "from scipy import stats as st"
   ]
  },
  {
   "cell_type": "code",
   "execution_count": 2,
   "metadata": {},
   "outputs": [
    {
     "name": "stdout",
     "output_type": "stream",
     "text": [
      "<class 'pandas.core.frame.DataFrame'>\n",
      "RangeIndex: 202607 entries, 0 to 202606\n",
      "Data columns (total 4 columns):\n",
      "id           202607 non-null object\n",
      "call_date    202607 non-null object\n",
      "duration     202607 non-null float64\n",
      "user_id      202607 non-null int64\n",
      "dtypes: float64(1), int64(1), object(2)\n",
      "memory usage: 6.2+ MB\n"
     ]
    },
    {
     "data": {
      "text/html": [
       "<div>\n",
       "<style scoped>\n",
       "    .dataframe tbody tr th:only-of-type {\n",
       "        vertical-align: middle;\n",
       "    }\n",
       "\n",
       "    .dataframe tbody tr th {\n",
       "        vertical-align: top;\n",
       "    }\n",
       "\n",
       "    .dataframe thead th {\n",
       "        text-align: right;\n",
       "    }\n",
       "</style>\n",
       "<table border=\"1\" class=\"dataframe\">\n",
       "  <thead>\n",
       "    <tr style=\"text-align: right;\">\n",
       "      <th></th>\n",
       "      <th>id</th>\n",
       "      <th>call_date</th>\n",
       "      <th>duration</th>\n",
       "      <th>user_id</th>\n",
       "    </tr>\n",
       "  </thead>\n",
       "  <tbody>\n",
       "    <tr>\n",
       "      <td>0</td>\n",
       "      <td>1000_0</td>\n",
       "      <td>2018-07-25</td>\n",
       "      <td>0</td>\n",
       "      <td>1000</td>\n",
       "    </tr>\n",
       "    <tr>\n",
       "      <td>1</td>\n",
       "      <td>1000_1</td>\n",
       "      <td>2018-08-17</td>\n",
       "      <td>0</td>\n",
       "      <td>1000</td>\n",
       "    </tr>\n",
       "    <tr>\n",
       "      <td>2</td>\n",
       "      <td>1000_2</td>\n",
       "      <td>2018-06-11</td>\n",
       "      <td>3</td>\n",
       "      <td>1000</td>\n",
       "    </tr>\n",
       "    <tr>\n",
       "      <td>3</td>\n",
       "      <td>1000_3</td>\n",
       "      <td>2018-09-21</td>\n",
       "      <td>14</td>\n",
       "      <td>1000</td>\n",
       "    </tr>\n",
       "    <tr>\n",
       "      <td>4</td>\n",
       "      <td>1000_4</td>\n",
       "      <td>2018-12-15</td>\n",
       "      <td>6</td>\n",
       "      <td>1000</td>\n",
       "    </tr>\n",
       "    <tr>\n",
       "      <td>...</td>\n",
       "      <td>...</td>\n",
       "      <td>...</td>\n",
       "      <td>...</td>\n",
       "      <td>...</td>\n",
       "    </tr>\n",
       "    <tr>\n",
       "      <td>202602</td>\n",
       "      <td>1499_215</td>\n",
       "      <td>2018-12-26</td>\n",
       "      <td>1</td>\n",
       "      <td>1499</td>\n",
       "    </tr>\n",
       "    <tr>\n",
       "      <td>202603</td>\n",
       "      <td>1499_216</td>\n",
       "      <td>2018-10-18</td>\n",
       "      <td>19</td>\n",
       "      <td>1499</td>\n",
       "    </tr>\n",
       "    <tr>\n",
       "      <td>202604</td>\n",
       "      <td>1499_217</td>\n",
       "      <td>2018-11-10</td>\n",
       "      <td>11</td>\n",
       "      <td>1499</td>\n",
       "    </tr>\n",
       "    <tr>\n",
       "      <td>202605</td>\n",
       "      <td>1499_218</td>\n",
       "      <td>2018-10-06</td>\n",
       "      <td>5</td>\n",
       "      <td>1499</td>\n",
       "    </tr>\n",
       "    <tr>\n",
       "      <td>202606</td>\n",
       "      <td>1499_219</td>\n",
       "      <td>2018-12-14</td>\n",
       "      <td>20</td>\n",
       "      <td>1499</td>\n",
       "    </tr>\n",
       "  </tbody>\n",
       "</table>\n",
       "<p>202607 rows × 4 columns</p>\n",
       "</div>"
      ],
      "text/plain": [
       "              id   call_date  duration  user_id\n",
       "0         1000_0  2018-07-25         0     1000\n",
       "1         1000_1  2018-08-17         0     1000\n",
       "2         1000_2  2018-06-11         3     1000\n",
       "3         1000_3  2018-09-21        14     1000\n",
       "4         1000_4  2018-12-15         6     1000\n",
       "...          ...         ...       ...      ...\n",
       "202602  1499_215  2018-12-26         1     1499\n",
       "202603  1499_216  2018-10-18        19     1499\n",
       "202604  1499_217  2018-11-10        11     1499\n",
       "202605  1499_218  2018-10-06         5     1499\n",
       "202606  1499_219  2018-12-14        20     1499\n",
       "\n",
       "[202607 rows x 4 columns]"
      ]
     },
     "metadata": {},
     "output_type": "display_data"
    },
    {
     "data": {
      "text/html": [
       "<div>\n",
       "<style scoped>\n",
       "    .dataframe tbody tr th:only-of-type {\n",
       "        vertical-align: middle;\n",
       "    }\n",
       "\n",
       "    .dataframe tbody tr th {\n",
       "        vertical-align: top;\n",
       "    }\n",
       "\n",
       "    .dataframe thead th {\n",
       "        text-align: right;\n",
       "    }\n",
       "</style>\n",
       "<table border=\"1\" class=\"dataframe\">\n",
       "  <thead>\n",
       "    <tr style=\"text-align: right;\">\n",
       "      <th></th>\n",
       "      <th>Unnamed: 0</th>\n",
       "      <th>id</th>\n",
       "      <th>mb_used</th>\n",
       "      <th>session_date</th>\n",
       "      <th>user_id</th>\n",
       "      <th>gb_used</th>\n",
       "    </tr>\n",
       "  </thead>\n",
       "  <tbody>\n",
       "    <tr>\n",
       "      <td>0</td>\n",
       "      <td>0</td>\n",
       "      <td>1000_0</td>\n",
       "      <td>112.95</td>\n",
       "      <td>2018-11-25</td>\n",
       "      <td>1000</td>\n",
       "      <td>1</td>\n",
       "    </tr>\n",
       "    <tr>\n",
       "      <td>1</td>\n",
       "      <td>1</td>\n",
       "      <td>1000_1</td>\n",
       "      <td>1,052.81</td>\n",
       "      <td>2018-09-07</td>\n",
       "      <td>1000</td>\n",
       "      <td>2</td>\n",
       "    </tr>\n",
       "    <tr>\n",
       "      <td>2</td>\n",
       "      <td>2</td>\n",
       "      <td>1000_2</td>\n",
       "      <td>1,197.26</td>\n",
       "      <td>2018-06-25</td>\n",
       "      <td>1000</td>\n",
       "      <td>2</td>\n",
       "    </tr>\n",
       "    <tr>\n",
       "      <td>3</td>\n",
       "      <td>3</td>\n",
       "      <td>1000_3</td>\n",
       "      <td>550.27</td>\n",
       "      <td>2018-08-22</td>\n",
       "      <td>1000</td>\n",
       "      <td>1</td>\n",
       "    </tr>\n",
       "    <tr>\n",
       "      <td>4</td>\n",
       "      <td>4</td>\n",
       "      <td>1000_4</td>\n",
       "      <td>302.56</td>\n",
       "      <td>2018-09-24</td>\n",
       "      <td>1000</td>\n",
       "      <td>1</td>\n",
       "    </tr>\n",
       "    <tr>\n",
       "      <td>...</td>\n",
       "      <td>...</td>\n",
       "      <td>...</td>\n",
       "      <td>...</td>\n",
       "      <td>...</td>\n",
       "      <td>...</td>\n",
       "      <td>...</td>\n",
       "    </tr>\n",
       "    <tr>\n",
       "      <td>149391</td>\n",
       "      <td>149391</td>\n",
       "      <td>1499_152</td>\n",
       "      <td>318.90</td>\n",
       "      <td>2018-10-03</td>\n",
       "      <td>1499</td>\n",
       "      <td>1</td>\n",
       "    </tr>\n",
       "    <tr>\n",
       "      <td>149392</td>\n",
       "      <td>149392</td>\n",
       "      <td>1499_153</td>\n",
       "      <td>490.13</td>\n",
       "      <td>2018-12-14</td>\n",
       "      <td>1499</td>\n",
       "      <td>1</td>\n",
       "    </tr>\n",
       "    <tr>\n",
       "      <td>149393</td>\n",
       "      <td>149393</td>\n",
       "      <td>1499_154</td>\n",
       "      <td>0.00</td>\n",
       "      <td>2018-10-27</td>\n",
       "      <td>1499</td>\n",
       "      <td>0</td>\n",
       "    </tr>\n",
       "    <tr>\n",
       "      <td>149394</td>\n",
       "      <td>149394</td>\n",
       "      <td>1499_155</td>\n",
       "      <td>1,246.32</td>\n",
       "      <td>2018-11-26</td>\n",
       "      <td>1499</td>\n",
       "      <td>2</td>\n",
       "    </tr>\n",
       "    <tr>\n",
       "      <td>149395</td>\n",
       "      <td>149395</td>\n",
       "      <td>1499_156</td>\n",
       "      <td>544.37</td>\n",
       "      <td>2018-10-26</td>\n",
       "      <td>1499</td>\n",
       "      <td>1</td>\n",
       "    </tr>\n",
       "  </tbody>\n",
       "</table>\n",
       "<p>149396 rows × 6 columns</p>\n",
       "</div>"
      ],
      "text/plain": [
       "        Unnamed: 0        id  mb_used session_date  user_id  gb_used\n",
       "0                0    1000_0   112.95   2018-11-25     1000        1\n",
       "1                1    1000_1 1,052.81   2018-09-07     1000        2\n",
       "2                2    1000_2 1,197.26   2018-06-25     1000        2\n",
       "3                3    1000_3   550.27   2018-08-22     1000        1\n",
       "4                4    1000_4   302.56   2018-09-24     1000        1\n",
       "...            ...       ...      ...          ...      ...      ...\n",
       "149391      149391  1499_152   318.90   2018-10-03     1499        1\n",
       "149392      149392  1499_153   490.13   2018-12-14     1499        1\n",
       "149393      149393  1499_154     0.00   2018-10-27     1499        0\n",
       "149394      149394  1499_155 1,246.32   2018-11-26     1499        2\n",
       "149395      149395  1499_156   544.37   2018-10-26     1499        1\n",
       "\n",
       "[149396 rows x 6 columns]"
      ]
     },
     "metadata": {},
     "output_type": "display_data"
    },
    {
     "name": "stdout",
     "output_type": "stream",
     "text": [
      "<class 'pandas.core.frame.DataFrame'>\n",
      "RangeIndex: 149396 entries, 0 to 149395\n",
      "Data columns (total 6 columns):\n",
      "Unnamed: 0      149396 non-null int64\n",
      "id              149396 non-null object\n",
      "mb_used         149396 non-null float64\n",
      "session_date    149396 non-null object\n",
      "user_id         149396 non-null int64\n",
      "gb_used         149396 non-null int64\n",
      "dtypes: float64(1), int64(3), object(2)\n",
      "memory usage: 6.8+ MB\n"
     ]
    },
    {
     "data": {
      "text/html": [
       "<div>\n",
       "<style scoped>\n",
       "    .dataframe tbody tr th:only-of-type {\n",
       "        vertical-align: middle;\n",
       "    }\n",
       "\n",
       "    .dataframe tbody tr th {\n",
       "        vertical-align: top;\n",
       "    }\n",
       "\n",
       "    .dataframe thead th {\n",
       "        text-align: right;\n",
       "    }\n",
       "</style>\n",
       "<table border=\"1\" class=\"dataframe\">\n",
       "  <thead>\n",
       "    <tr style=\"text-align: right;\">\n",
       "      <th></th>\n",
       "      <th>id</th>\n",
       "      <th>message_date</th>\n",
       "      <th>user_id</th>\n",
       "    </tr>\n",
       "  </thead>\n",
       "  <tbody>\n",
       "    <tr>\n",
       "      <td>0</td>\n",
       "      <td>1000_0</td>\n",
       "      <td>2018-06-27</td>\n",
       "      <td>1000</td>\n",
       "    </tr>\n",
       "    <tr>\n",
       "      <td>1</td>\n",
       "      <td>1000_1</td>\n",
       "      <td>2018-10-08</td>\n",
       "      <td>1000</td>\n",
       "    </tr>\n",
       "    <tr>\n",
       "      <td>2</td>\n",
       "      <td>1000_2</td>\n",
       "      <td>2018-08-04</td>\n",
       "      <td>1000</td>\n",
       "    </tr>\n",
       "    <tr>\n",
       "      <td>3</td>\n",
       "      <td>1000_3</td>\n",
       "      <td>2018-06-16</td>\n",
       "      <td>1000</td>\n",
       "    </tr>\n",
       "    <tr>\n",
       "      <td>4</td>\n",
       "      <td>1000_4</td>\n",
       "      <td>2018-12-05</td>\n",
       "      <td>1000</td>\n",
       "    </tr>\n",
       "    <tr>\n",
       "      <td>...</td>\n",
       "      <td>...</td>\n",
       "      <td>...</td>\n",
       "      <td>...</td>\n",
       "    </tr>\n",
       "    <tr>\n",
       "      <td>123031</td>\n",
       "      <td>1499_179</td>\n",
       "      <td>2018-12-12</td>\n",
       "      <td>1499</td>\n",
       "    </tr>\n",
       "    <tr>\n",
       "      <td>123032</td>\n",
       "      <td>1499_180</td>\n",
       "      <td>2018-09-28</td>\n",
       "      <td>1499</td>\n",
       "    </tr>\n",
       "    <tr>\n",
       "      <td>123033</td>\n",
       "      <td>1499_181</td>\n",
       "      <td>2018-09-27</td>\n",
       "      <td>1499</td>\n",
       "    </tr>\n",
       "    <tr>\n",
       "      <td>123034</td>\n",
       "      <td>1499_182</td>\n",
       "      <td>2018-11-15</td>\n",
       "      <td>1499</td>\n",
       "    </tr>\n",
       "    <tr>\n",
       "      <td>123035</td>\n",
       "      <td>1499_183</td>\n",
       "      <td>2018-11-16</td>\n",
       "      <td>1499</td>\n",
       "    </tr>\n",
       "  </tbody>\n",
       "</table>\n",
       "<p>123036 rows × 3 columns</p>\n",
       "</div>"
      ],
      "text/plain": [
       "              id message_date  user_id\n",
       "0         1000_0   2018-06-27     1000\n",
       "1         1000_1   2018-10-08     1000\n",
       "2         1000_2   2018-08-04     1000\n",
       "3         1000_3   2018-06-16     1000\n",
       "4         1000_4   2018-12-05     1000\n",
       "...          ...          ...      ...\n",
       "123031  1499_179   2018-12-12     1499\n",
       "123032  1499_180   2018-09-28     1499\n",
       "123033  1499_181   2018-09-27     1499\n",
       "123034  1499_182   2018-11-15     1499\n",
       "123035  1499_183   2018-11-16     1499\n",
       "\n",
       "[123036 rows x 3 columns]"
      ]
     },
     "metadata": {},
     "output_type": "display_data"
    },
    {
     "name": "stdout",
     "output_type": "stream",
     "text": [
      "<class 'pandas.core.frame.DataFrame'>\n",
      "RangeIndex: 123036 entries, 0 to 123035\n",
      "Data columns (total 3 columns):\n",
      "id              123036 non-null object\n",
      "message_date    123036 non-null object\n",
      "user_id         123036 non-null int64\n",
      "dtypes: int64(1), object(2)\n",
      "memory usage: 2.8+ MB\n"
     ]
    },
    {
     "data": {
      "text/html": [
       "<div>\n",
       "<style scoped>\n",
       "    .dataframe tbody tr th:only-of-type {\n",
       "        vertical-align: middle;\n",
       "    }\n",
       "\n",
       "    .dataframe tbody tr th {\n",
       "        vertical-align: top;\n",
       "    }\n",
       "\n",
       "    .dataframe thead th {\n",
       "        text-align: right;\n",
       "    }\n",
       "</style>\n",
       "<table border=\"1\" class=\"dataframe\">\n",
       "  <thead>\n",
       "    <tr style=\"text-align: right;\">\n",
       "      <th></th>\n",
       "      <th>messages_included</th>\n",
       "      <th>mb_per_month_included</th>\n",
       "      <th>minutes_included</th>\n",
       "      <th>rub_monthly_fee</th>\n",
       "      <th>rub_per_gb</th>\n",
       "      <th>rub_per_message</th>\n",
       "      <th>rub_per_minute</th>\n",
       "      <th>tariff_name</th>\n",
       "    </tr>\n",
       "  </thead>\n",
       "  <tbody>\n",
       "    <tr>\n",
       "      <td>0</td>\n",
       "      <td>50</td>\n",
       "      <td>15360</td>\n",
       "      <td>500</td>\n",
       "      <td>550</td>\n",
       "      <td>200</td>\n",
       "      <td>3</td>\n",
       "      <td>3</td>\n",
       "      <td>smart</td>\n",
       "    </tr>\n",
       "    <tr>\n",
       "      <td>1</td>\n",
       "      <td>1000</td>\n",
       "      <td>30720</td>\n",
       "      <td>3000</td>\n",
       "      <td>1950</td>\n",
       "      <td>150</td>\n",
       "      <td>1</td>\n",
       "      <td>1</td>\n",
       "      <td>ultra</td>\n",
       "    </tr>\n",
       "  </tbody>\n",
       "</table>\n",
       "</div>"
      ],
      "text/plain": [
       "   messages_included  mb_per_month_included  minutes_included  \\\n",
       "0                 50                  15360               500   \n",
       "1               1000                  30720              3000   \n",
       "\n",
       "   rub_monthly_fee  rub_per_gb  rub_per_message  rub_per_minute tariff_name  \n",
       "0              550         200                3               3       smart  \n",
       "1             1950         150                1               1       ultra  "
      ]
     },
     "metadata": {},
     "output_type": "display_data"
    },
    {
     "name": "stdout",
     "output_type": "stream",
     "text": [
      "<class 'pandas.core.frame.DataFrame'>\n",
      "RangeIndex: 2 entries, 0 to 1\n",
      "Data columns (total 8 columns):\n",
      "messages_included        2 non-null int64\n",
      "mb_per_month_included    2 non-null int64\n",
      "minutes_included         2 non-null int64\n",
      "rub_monthly_fee          2 non-null int64\n",
      "rub_per_gb               2 non-null int64\n",
      "rub_per_message          2 non-null int64\n",
      "rub_per_minute           2 non-null int64\n",
      "tariff_name              2 non-null object\n",
      "dtypes: int64(7), object(1)\n",
      "memory usage: 256.0+ bytes\n"
     ]
    },
    {
     "data": {
      "text/html": [
       "<div>\n",
       "<style scoped>\n",
       "    .dataframe tbody tr th:only-of-type {\n",
       "        vertical-align: middle;\n",
       "    }\n",
       "\n",
       "    .dataframe tbody tr th {\n",
       "        vertical-align: top;\n",
       "    }\n",
       "\n",
       "    .dataframe thead th {\n",
       "        text-align: right;\n",
       "    }\n",
       "</style>\n",
       "<table border=\"1\" class=\"dataframe\">\n",
       "  <thead>\n",
       "    <tr style=\"text-align: right;\">\n",
       "      <th></th>\n",
       "      <th>user_id</th>\n",
       "      <th>age</th>\n",
       "      <th>churn_date</th>\n",
       "      <th>city</th>\n",
       "      <th>first_name</th>\n",
       "      <th>last_name</th>\n",
       "      <th>reg_date</th>\n",
       "      <th>tariff</th>\n",
       "    </tr>\n",
       "  </thead>\n",
       "  <tbody>\n",
       "    <tr>\n",
       "      <td>0</td>\n",
       "      <td>1000</td>\n",
       "      <td>52</td>\n",
       "      <td>NaN</td>\n",
       "      <td>Краснодар</td>\n",
       "      <td>Рафаил</td>\n",
       "      <td>Верещагин</td>\n",
       "      <td>2018-05-25</td>\n",
       "      <td>ultra</td>\n",
       "    </tr>\n",
       "    <tr>\n",
       "      <td>1</td>\n",
       "      <td>1001</td>\n",
       "      <td>41</td>\n",
       "      <td>NaN</td>\n",
       "      <td>Москва</td>\n",
       "      <td>Иван</td>\n",
       "      <td>Ежов</td>\n",
       "      <td>2018-11-01</td>\n",
       "      <td>smart</td>\n",
       "    </tr>\n",
       "    <tr>\n",
       "      <td>2</td>\n",
       "      <td>1002</td>\n",
       "      <td>59</td>\n",
       "      <td>NaN</td>\n",
       "      <td>Стерлитамак</td>\n",
       "      <td>Евгений</td>\n",
       "      <td>Абрамович</td>\n",
       "      <td>2018-06-17</td>\n",
       "      <td>smart</td>\n",
       "    </tr>\n",
       "    <tr>\n",
       "      <td>3</td>\n",
       "      <td>1003</td>\n",
       "      <td>23</td>\n",
       "      <td>NaN</td>\n",
       "      <td>Москва</td>\n",
       "      <td>Белла</td>\n",
       "      <td>Белякова</td>\n",
       "      <td>2018-08-17</td>\n",
       "      <td>ultra</td>\n",
       "    </tr>\n",
       "    <tr>\n",
       "      <td>4</td>\n",
       "      <td>1004</td>\n",
       "      <td>68</td>\n",
       "      <td>NaN</td>\n",
       "      <td>Новокузнецк</td>\n",
       "      <td>Татьяна</td>\n",
       "      <td>Авдеенко</td>\n",
       "      <td>2018-05-14</td>\n",
       "      <td>ultra</td>\n",
       "    </tr>\n",
       "    <tr>\n",
       "      <td>...</td>\n",
       "      <td>...</td>\n",
       "      <td>...</td>\n",
       "      <td>...</td>\n",
       "      <td>...</td>\n",
       "      <td>...</td>\n",
       "      <td>...</td>\n",
       "      <td>...</td>\n",
       "      <td>...</td>\n",
       "    </tr>\n",
       "    <tr>\n",
       "      <td>495</td>\n",
       "      <td>1495</td>\n",
       "      <td>65</td>\n",
       "      <td>NaN</td>\n",
       "      <td>Иркутск</td>\n",
       "      <td>Авксентий</td>\n",
       "      <td>Фокин</td>\n",
       "      <td>2018-08-28</td>\n",
       "      <td>ultra</td>\n",
       "    </tr>\n",
       "    <tr>\n",
       "      <td>496</td>\n",
       "      <td>1496</td>\n",
       "      <td>36</td>\n",
       "      <td>NaN</td>\n",
       "      <td>Вологда</td>\n",
       "      <td>Трифон</td>\n",
       "      <td>Блохин</td>\n",
       "      <td>2018-01-27</td>\n",
       "      <td>smart</td>\n",
       "    </tr>\n",
       "    <tr>\n",
       "      <td>497</td>\n",
       "      <td>1497</td>\n",
       "      <td>32</td>\n",
       "      <td>NaN</td>\n",
       "      <td>Челябинск</td>\n",
       "      <td>Каролина</td>\n",
       "      <td>Агеева</td>\n",
       "      <td>2018-10-09</td>\n",
       "      <td>smart</td>\n",
       "    </tr>\n",
       "    <tr>\n",
       "      <td>498</td>\n",
       "      <td>1498</td>\n",
       "      <td>68</td>\n",
       "      <td>2018-10-25</td>\n",
       "      <td>Владикавказ</td>\n",
       "      <td>Всеволод</td>\n",
       "      <td>Акимчин</td>\n",
       "      <td>2018-07-19</td>\n",
       "      <td>smart</td>\n",
       "    </tr>\n",
       "    <tr>\n",
       "      <td>499</td>\n",
       "      <td>1499</td>\n",
       "      <td>35</td>\n",
       "      <td>NaN</td>\n",
       "      <td>Пермь</td>\n",
       "      <td>Гектор</td>\n",
       "      <td>Корнилов</td>\n",
       "      <td>2018-09-27</td>\n",
       "      <td>smart</td>\n",
       "    </tr>\n",
       "  </tbody>\n",
       "</table>\n",
       "<p>500 rows × 8 columns</p>\n",
       "</div>"
      ],
      "text/plain": [
       "     user_id  age  churn_date         city first_name  last_name    reg_date  \\\n",
       "0       1000   52         NaN    Краснодар     Рафаил  Верещагин  2018-05-25   \n",
       "1       1001   41         NaN       Москва       Иван       Ежов  2018-11-01   \n",
       "2       1002   59         NaN  Стерлитамак    Евгений  Абрамович  2018-06-17   \n",
       "3       1003   23         NaN       Москва      Белла   Белякова  2018-08-17   \n",
       "4       1004   68         NaN  Новокузнецк    Татьяна   Авдеенко  2018-05-14   \n",
       "..       ...  ...         ...          ...        ...        ...         ...   \n",
       "495     1495   65         NaN      Иркутск  Авксентий      Фокин  2018-08-28   \n",
       "496     1496   36         NaN      Вологда     Трифон     Блохин  2018-01-27   \n",
       "497     1497   32         NaN    Челябинск   Каролина     Агеева  2018-10-09   \n",
       "498     1498   68  2018-10-25  Владикавказ   Всеволод    Акимчин  2018-07-19   \n",
       "499     1499   35         NaN        Пермь     Гектор   Корнилов  2018-09-27   \n",
       "\n",
       "    tariff  \n",
       "0    ultra  \n",
       "1    smart  \n",
       "2    smart  \n",
       "3    ultra  \n",
       "4    ultra  \n",
       "..     ...  \n",
       "495  ultra  \n",
       "496  smart  \n",
       "497  smart  \n",
       "498  smart  \n",
       "499  smart  \n",
       "\n",
       "[500 rows x 8 columns]"
      ]
     },
     "metadata": {},
     "output_type": "display_data"
    },
    {
     "name": "stdout",
     "output_type": "stream",
     "text": [
      "<class 'pandas.core.frame.DataFrame'>\n",
      "RangeIndex: 500 entries, 0 to 499\n",
      "Data columns (total 8 columns):\n",
      "user_id       500 non-null int64\n",
      "age           500 non-null int64\n",
      "churn_date    38 non-null object\n",
      "city          500 non-null object\n",
      "first_name    500 non-null object\n",
      "last_name     500 non-null object\n",
      "reg_date      500 non-null object\n",
      "tariff        500 non-null object\n",
      "dtypes: int64(2), object(6)\n",
      "memory usage: 31.4+ KB\n"
     ]
    }
   ],
   "source": [
    "pd.set_option('display.float_format', '{:,.2f}'.format)\n",
    "calls = pd.read_csv('/datasets/calls.csv')\n",
    "\n",
    "calls.info()\n",
    "\n",
    "\n",
    "#Округлим в большую сторону.\n",
    "calls['duration'] = calls['duration'].apply(math.ceil)\n",
    "display(calls)\n",
    "\n",
    "\n",
    "internet = pd.read_csv('/datasets/internet.csv')\n",
    "#Округлим в большую сторону и переведем сразу в ГБ\n",
    "internet['gb_used'] = (internet['mb_used']/1024).apply(math.ceil)\n",
    "display(internet)\n",
    "internet.info()\n",
    "\n",
    "\n",
    "messages = pd.read_csv('/datasets/messages.csv')\n",
    "display(messages)\n",
    "messages.info()\n",
    "\n",
    "\n",
    "tariffs = pd.read_csv('/datasets/tariffs.csv')\n",
    "display(tariffs)\n",
    "tariffs.info()\n",
    "\n",
    "users = pd.read_csv('/datasets/users.csv')\n",
    "display(users)\n",
    "users.info()"
   ]
  },
  {
   "cell_type": "markdown",
   "metadata": {},
   "source": [
    "#2.Подготовка Данных"
   ]
  },
  {
   "cell_type": "code",
   "execution_count": 3,
   "metadata": {},
   "outputs": [
    {
     "data": {
      "text/html": [
       "<div>\n",
       "<style scoped>\n",
       "    .dataframe tbody tr th:only-of-type {\n",
       "        vertical-align: middle;\n",
       "    }\n",
       "\n",
       "    .dataframe tbody tr th {\n",
       "        vertical-align: top;\n",
       "    }\n",
       "\n",
       "    .dataframe thead th {\n",
       "        text-align: right;\n",
       "    }\n",
       "</style>\n",
       "<table border=\"1\" class=\"dataframe\">\n",
       "  <thead>\n",
       "    <tr style=\"text-align: right;\">\n",
       "      <th></th>\n",
       "      <th>user_id</th>\n",
       "      <th>age</th>\n",
       "      <th>churn_date</th>\n",
       "      <th>city</th>\n",
       "      <th>first_name</th>\n",
       "      <th>last_name</th>\n",
       "      <th>reg_date</th>\n",
       "      <th>tariff</th>\n",
       "      <th>messages_included</th>\n",
       "      <th>mb_per_month_included</th>\n",
       "      <th>minutes_included</th>\n",
       "      <th>rub_monthly_fee</th>\n",
       "      <th>rub_per_gb</th>\n",
       "      <th>rub_per_message</th>\n",
       "      <th>rub_per_minute</th>\n",
       "    </tr>\n",
       "  </thead>\n",
       "  <tbody>\n",
       "    <tr>\n",
       "      <td>0</td>\n",
       "      <td>1000</td>\n",
       "      <td>52</td>\n",
       "      <td>NaN</td>\n",
       "      <td>Краснодар</td>\n",
       "      <td>Рафаил</td>\n",
       "      <td>Верещагин</td>\n",
       "      <td>2018-05-25</td>\n",
       "      <td>ultra</td>\n",
       "      <td>1000</td>\n",
       "      <td>30720</td>\n",
       "      <td>3000</td>\n",
       "      <td>1950</td>\n",
       "      <td>150</td>\n",
       "      <td>1</td>\n",
       "      <td>1</td>\n",
       "    </tr>\n",
       "    <tr>\n",
       "      <td>1</td>\n",
       "      <td>1001</td>\n",
       "      <td>41</td>\n",
       "      <td>NaN</td>\n",
       "      <td>Москва</td>\n",
       "      <td>Иван</td>\n",
       "      <td>Ежов</td>\n",
       "      <td>2018-11-01</td>\n",
       "      <td>smart</td>\n",
       "      <td>50</td>\n",
       "      <td>15360</td>\n",
       "      <td>500</td>\n",
       "      <td>550</td>\n",
       "      <td>200</td>\n",
       "      <td>3</td>\n",
       "      <td>3</td>\n",
       "    </tr>\n",
       "    <tr>\n",
       "      <td>2</td>\n",
       "      <td>1002</td>\n",
       "      <td>59</td>\n",
       "      <td>NaN</td>\n",
       "      <td>Стерлитамак</td>\n",
       "      <td>Евгений</td>\n",
       "      <td>Абрамович</td>\n",
       "      <td>2018-06-17</td>\n",
       "      <td>smart</td>\n",
       "      <td>50</td>\n",
       "      <td>15360</td>\n",
       "      <td>500</td>\n",
       "      <td>550</td>\n",
       "      <td>200</td>\n",
       "      <td>3</td>\n",
       "      <td>3</td>\n",
       "    </tr>\n",
       "    <tr>\n",
       "      <td>3</td>\n",
       "      <td>1003</td>\n",
       "      <td>23</td>\n",
       "      <td>NaN</td>\n",
       "      <td>Москва</td>\n",
       "      <td>Белла</td>\n",
       "      <td>Белякова</td>\n",
       "      <td>2018-08-17</td>\n",
       "      <td>ultra</td>\n",
       "      <td>1000</td>\n",
       "      <td>30720</td>\n",
       "      <td>3000</td>\n",
       "      <td>1950</td>\n",
       "      <td>150</td>\n",
       "      <td>1</td>\n",
       "      <td>1</td>\n",
       "    </tr>\n",
       "    <tr>\n",
       "      <td>4</td>\n",
       "      <td>1004</td>\n",
       "      <td>68</td>\n",
       "      <td>NaN</td>\n",
       "      <td>Новокузнецк</td>\n",
       "      <td>Татьяна</td>\n",
       "      <td>Авдеенко</td>\n",
       "      <td>2018-05-14</td>\n",
       "      <td>ultra</td>\n",
       "      <td>1000</td>\n",
       "      <td>30720</td>\n",
       "      <td>3000</td>\n",
       "      <td>1950</td>\n",
       "      <td>150</td>\n",
       "      <td>1</td>\n",
       "      <td>1</td>\n",
       "    </tr>\n",
       "  </tbody>\n",
       "</table>\n",
       "</div>"
      ],
      "text/plain": [
       "   user_id  age churn_date         city first_name  last_name    reg_date  \\\n",
       "0     1000   52        NaN    Краснодар     Рафаил  Верещагин  2018-05-25   \n",
       "1     1001   41        NaN       Москва       Иван       Ежов  2018-11-01   \n",
       "2     1002   59        NaN  Стерлитамак    Евгений  Абрамович  2018-06-17   \n",
       "3     1003   23        NaN       Москва      Белла   Белякова  2018-08-17   \n",
       "4     1004   68        NaN  Новокузнецк    Татьяна   Авдеенко  2018-05-14   \n",
       "\n",
       "  tariff  messages_included  mb_per_month_included  minutes_included  \\\n",
       "0  ultra               1000                  30720              3000   \n",
       "1  smart                 50                  15360               500   \n",
       "2  smart                 50                  15360               500   \n",
       "3  ultra               1000                  30720              3000   \n",
       "4  ultra               1000                  30720              3000   \n",
       "\n",
       "   rub_monthly_fee  rub_per_gb  rub_per_message  rub_per_minute  \n",
       "0             1950         150                1               1  \n",
       "1              550         200                3               3  \n",
       "2              550         200                3               3  \n",
       "3             1950         150                1               1  \n",
       "4             1950         150                1               1  "
      ]
     },
     "execution_count": 3,
     "metadata": {},
     "output_type": "execute_result"
    }
   ],
   "source": [
    "#Корректируем название столбца с тарифом для корректного слияния:\n",
    "tariffs.rename(columns=lambda x: x.replace('tariff_name', 'tariff'), inplace=True)\n",
    "tariffs.head()\n",
    "#Объединяем таблицы по данным столбца с тарифом:\n",
    "users = users.merge(tariffs, on = 'tariff', how = 'left')\n",
    "users.head()"
   ]
  },
  {
   "cell_type": "code",
   "execution_count": 4,
   "metadata": {},
   "outputs": [
    {
     "name": "stdout",
     "output_type": "stream",
     "text": [
      "В таблице 39613 строк с пропущенными звонками, то есть 19.55% всей выборки.\n"
     ]
    }
   ],
   "source": [
    "#Фильтруем звонки с нулевой длительностью:\n",
    "calls_0 = calls[calls['duration'] == 0]\n",
    "calls_part = len(calls_0)/len(calls)\n",
    "print('В таблице {} строк с пропущенными звонками, то есть {:.2%} всей выборки.'.format(len(calls_0), calls_part))"
   ]
  },
  {
   "cell_type": "markdown",
   "metadata": {},
   "source": [
    "\n",
    "Таких значений оказалось слишком много, чтобы просто избавиться от них. Так как звонок зафиксирован сетью, мобильный оператор снял за него деньги за 1 минуту разговора. Заменим все нулевые значения длительности единицами, а все минуты разговора округлим в большую сторону."
   ]
  },
  {
   "cell_type": "markdown",
   "metadata": {},
   "source": [
    "Поскольку тарифный план предусматривает ежемесячную оплату, сразу сгруппируем помесячно все данные по звонкам, интернет-трафику и сообщениям."
   ]
  },
  {
   "cell_type": "code",
   "execution_count": 5,
   "metadata": {},
   "outputs": [
    {
     "data": {
      "text/html": [
       "<div>\n",
       "<style scoped>\n",
       "    .dataframe tbody tr th:only-of-type {\n",
       "        vertical-align: middle;\n",
       "    }\n",
       "\n",
       "    .dataframe tbody tr th {\n",
       "        vertical-align: top;\n",
       "    }\n",
       "\n",
       "    .dataframe thead th {\n",
       "        text-align: right;\n",
       "    }\n",
       "</style>\n",
       "<table border=\"1\" class=\"dataframe\">\n",
       "  <thead>\n",
       "    <tr style=\"text-align: right;\">\n",
       "      <th></th>\n",
       "      <th>user_id</th>\n",
       "      <th>month</th>\n",
       "      <th>duration_rounded</th>\n",
       "    </tr>\n",
       "  </thead>\n",
       "  <tbody>\n",
       "    <tr>\n",
       "      <td>2205</td>\n",
       "      <td>1354</td>\n",
       "      <td>09 September</td>\n",
       "      <td>312</td>\n",
       "    </tr>\n",
       "    <tr>\n",
       "      <td>2614</td>\n",
       "      <td>1412</td>\n",
       "      <td>08 August</td>\n",
       "      <td>870</td>\n",
       "    </tr>\n",
       "    <tr>\n",
       "      <td>216</td>\n",
       "      <td>1033</td>\n",
       "      <td>11 November</td>\n",
       "      <td>438</td>\n",
       "    </tr>\n",
       "    <tr>\n",
       "      <td>515</td>\n",
       "      <td>1081</td>\n",
       "      <td>11 November</td>\n",
       "      <td>674</td>\n",
       "    </tr>\n",
       "    <tr>\n",
       "      <td>2993</td>\n",
       "      <td>1471</td>\n",
       "      <td>02 February</td>\n",
       "      <td>77</td>\n",
       "    </tr>\n",
       "  </tbody>\n",
       "</table>\n",
       "</div>"
      ],
      "text/plain": [
       "      user_id         month  duration_rounded\n",
       "2205     1354  09 September               312\n",
       "2614     1412     08 August               870\n",
       "216      1033   11 November               438\n",
       "515      1081   11 November               674\n",
       "2993     1471   02 February                77"
      ]
     },
     "metadata": {},
     "output_type": "display_data"
    }
   ],
   "source": [
    "calls.loc[calls['duration'] == 0, 'duration'] = 1\n",
    "calls['duration_rounded'] = np.ceil(calls.duration).astype(int)\n",
    "calls['call_date'] = calls['call_date'].astype('datetime64[ns]')\n",
    "calls['month'] = pd.to_datetime(calls['call_date']).dt.strftime('%m %B')\n",
    "calls_grouped = calls.pivot_table(index = ['user_id','month'], values = 'duration_rounded', aggfunc = 'sum').reset_index()\n",
    "calls_grouped.columns = ['user_id', 'month', 'duration_rounded']\n",
    "display(calls_grouped.sample(5))"
   ]
  },
  {
   "cell_type": "markdown",
   "metadata": {},
   "source": []
  },
  {
   "cell_type": "markdown",
   "metadata": {},
   "source": [
    "Таким же образом округлим до целых мегабайт показатели интернет-трафика и сгруппируем данные по месяцам.\n"
   ]
  },
  {
   "cell_type": "code",
   "execution_count": 6,
   "metadata": {},
   "outputs": [
    {
     "data": {
      "text/html": [
       "<div>\n",
       "<style scoped>\n",
       "    .dataframe tbody tr th:only-of-type {\n",
       "        vertical-align: middle;\n",
       "    }\n",
       "\n",
       "    .dataframe tbody tr th {\n",
       "        vertical-align: top;\n",
       "    }\n",
       "\n",
       "    .dataframe thead th {\n",
       "        text-align: right;\n",
       "    }\n",
       "</style>\n",
       "<table border=\"1\" class=\"dataframe\">\n",
       "  <thead>\n",
       "    <tr style=\"text-align: right;\">\n",
       "      <th></th>\n",
       "      <th>user_id</th>\n",
       "      <th>month</th>\n",
       "      <th>mb_used_rounded</th>\n",
       "    </tr>\n",
       "  </thead>\n",
       "  <tbody>\n",
       "    <tr>\n",
       "      <td>2318</td>\n",
       "      <td>1370</td>\n",
       "      <td>03 March</td>\n",
       "      <td>23268</td>\n",
       "    </tr>\n",
       "    <tr>\n",
       "      <td>3020</td>\n",
       "      <td>1471</td>\n",
       "      <td>11 November</td>\n",
       "      <td>9123</td>\n",
       "    </tr>\n",
       "    <tr>\n",
       "      <td>868</td>\n",
       "      <td>1135</td>\n",
       "      <td>12 December</td>\n",
       "      <td>18454</td>\n",
       "    </tr>\n",
       "    <tr>\n",
       "      <td>646</td>\n",
       "      <td>1101</td>\n",
       "      <td>11 November</td>\n",
       "      <td>9880</td>\n",
       "    </tr>\n",
       "    <tr>\n",
       "      <td>1092</td>\n",
       "      <td>1172</td>\n",
       "      <td>12 December</td>\n",
       "      <td>23711</td>\n",
       "    </tr>\n",
       "  </tbody>\n",
       "</table>\n",
       "</div>"
      ],
      "text/plain": [
       "      user_id        month  mb_used_rounded\n",
       "2318     1370     03 March            23268\n",
       "3020     1471  11 November             9123\n",
       "868      1135  12 December            18454\n",
       "646      1101  11 November             9880\n",
       "1092     1172  12 December            23711"
      ]
     },
     "metadata": {},
     "output_type": "display_data"
    }
   ],
   "source": [
    "internet['mb_used_rounded'] = np.ceil(internet.mb_used).astype(int)\n",
    "#Удалим столбец, дублирующий индексы таблицы:\n",
    "internet = internet.drop(['Unnamed: 0'], axis = 1)\n",
    "#Добавим месяц использования трафика:\n",
    "internet['session_date'] = internet['session_date'].astype('datetime64[ns]')\n",
    "internet['month'] = pd.to_datetime(internet['session_date']).dt.strftime('%m %B')\n",
    "#Сгруппируем данные помесячно:\n",
    "internet_grouped = internet.pivot_table(index = ['user_id','month'], values = 'mb_used_rounded', aggfunc = 'sum').reset_index()\n",
    "internet_grouped.columns = ['user_id', 'month', 'mb_used_rounded']\n",
    "display(internet_grouped.sample(5))"
   ]
  },
  {
   "cell_type": "markdown",
   "metadata": {},
   "source": [
    "Аналогично сгруппируем данные по сообщениям."
   ]
  },
  {
   "cell_type": "code",
   "execution_count": 7,
   "metadata": {},
   "outputs": [
    {
     "data": {
      "text/html": [
       "<div>\n",
       "<style scoped>\n",
       "    .dataframe tbody tr th:only-of-type {\n",
       "        vertical-align: middle;\n",
       "    }\n",
       "\n",
       "    .dataframe tbody tr th {\n",
       "        vertical-align: top;\n",
       "    }\n",
       "\n",
       "    .dataframe thead th {\n",
       "        text-align: right;\n",
       "    }\n",
       "</style>\n",
       "<table border=\"1\" class=\"dataframe\">\n",
       "  <thead>\n",
       "    <tr style=\"text-align: right;\">\n",
       "      <th></th>\n",
       "      <th>user_id</th>\n",
       "      <th>month</th>\n",
       "      <th>messages_number</th>\n",
       "    </tr>\n",
       "  </thead>\n",
       "  <tbody>\n",
       "    <tr>\n",
       "      <td>2171</td>\n",
       "      <td>1404</td>\n",
       "      <td>07 July</td>\n",
       "      <td>48</td>\n",
       "    </tr>\n",
       "    <tr>\n",
       "      <td>38</td>\n",
       "      <td>1005</td>\n",
       "      <td>11 November</td>\n",
       "      <td>51</td>\n",
       "    </tr>\n",
       "    <tr>\n",
       "      <td>2514</td>\n",
       "      <td>1465</td>\n",
       "      <td>06 June</td>\n",
       "      <td>52</td>\n",
       "    </tr>\n",
       "    <tr>\n",
       "      <td>2651</td>\n",
       "      <td>1487</td>\n",
       "      <td>09 September</td>\n",
       "      <td>23</td>\n",
       "    </tr>\n",
       "    <tr>\n",
       "      <td>659</td>\n",
       "      <td>1123</td>\n",
       "      <td>10 October</td>\n",
       "      <td>17</td>\n",
       "    </tr>\n",
       "  </tbody>\n",
       "</table>\n",
       "</div>"
      ],
      "text/plain": [
       "      user_id         month  messages_number\n",
       "2171     1404       07 July               48\n",
       "38       1005   11 November               51\n",
       "2514     1465       06 June               52\n",
       "2651     1487  09 September               23\n",
       "659      1123    10 October               17"
      ]
     },
     "metadata": {},
     "output_type": "display_data"
    }
   ],
   "source": [
    "messages['session_date'] = messages['message_date'].astype('datetime64[ns]')\n",
    "messages['month'] = pd.to_datetime(messages['message_date']).dt.strftime('%m %B')\n",
    "#Сгруппируем данные помесячно:\n",
    "messages_grouped = messages.pivot_table(index = ['user_id','month'], values = 'message_date', aggfunc = 'count').reset_index()\n",
    "messages_grouped.columns = ['user_id', 'month', 'messages_number']\n",
    "display(messages_grouped.sample(5))"
   ]
  },
  {
   "cell_type": "code",
   "execution_count": 8,
   "metadata": {},
   "outputs": [
    {
     "name": "stdout",
     "output_type": "stream",
     "text": [
      "<class 'pandas.core.frame.DataFrame'>\n",
      "Int64Index: 3216 entries, 0 to 3215\n",
      "Data columns (total 19 columns):\n",
      "user_id                  3216 non-null int64\n",
      "month                    3214 non-null object\n",
      "mb_used_rounded          3203 non-null float64\n",
      "messages_number          2717 non-null float64\n",
      "duration_rounded         3174 non-null float64\n",
      "age                      3216 non-null int64\n",
      "churn_date               189 non-null object\n",
      "city                     3216 non-null object\n",
      "first_name               3216 non-null object\n",
      "last_name                3216 non-null object\n",
      "reg_date                 3216 non-null object\n",
      "tariff                   3216 non-null object\n",
      "messages_included        3216 non-null int64\n",
      "mb_per_month_included    3216 non-null int64\n",
      "minutes_included         3216 non-null int64\n",
      "rub_monthly_fee          3216 non-null int64\n",
      "rub_per_gb               3216 non-null int64\n",
      "rub_per_message          3216 non-null int64\n",
      "rub_per_minute           3216 non-null int64\n",
      "dtypes: float64(3), int64(9), object(7)\n",
      "memory usage: 502.5+ KB\n"
     ]
    },
    {
     "data": {
      "text/html": [
       "<div>\n",
       "<style scoped>\n",
       "    .dataframe tbody tr th:only-of-type {\n",
       "        vertical-align: middle;\n",
       "    }\n",
       "\n",
       "    .dataframe tbody tr th {\n",
       "        vertical-align: top;\n",
       "    }\n",
       "\n",
       "    .dataframe thead th {\n",
       "        text-align: right;\n",
       "    }\n",
       "</style>\n",
       "<table border=\"1\" class=\"dataframe\">\n",
       "  <thead>\n",
       "    <tr style=\"text-align: right;\">\n",
       "      <th></th>\n",
       "      <th>user_id</th>\n",
       "      <th>month</th>\n",
       "      <th>mb_used_rounded</th>\n",
       "      <th>messages_number</th>\n",
       "      <th>duration_rounded</th>\n",
       "      <th>age</th>\n",
       "      <th>churn_date</th>\n",
       "      <th>city</th>\n",
       "      <th>first_name</th>\n",
       "      <th>last_name</th>\n",
       "      <th>reg_date</th>\n",
       "      <th>tariff</th>\n",
       "      <th>messages_included</th>\n",
       "      <th>mb_per_month_included</th>\n",
       "      <th>minutes_included</th>\n",
       "      <th>rub_monthly_fee</th>\n",
       "      <th>rub_per_gb</th>\n",
       "      <th>rub_per_message</th>\n",
       "      <th>rub_per_minute</th>\n",
       "    </tr>\n",
       "  </thead>\n",
       "  <tbody>\n",
       "    <tr>\n",
       "      <td>3211</td>\n",
       "      <td>1273</td>\n",
       "      <td>10 October</td>\n",
       "      <td>nan</td>\n",
       "      <td>35.00</td>\n",
       "      <td>320.00</td>\n",
       "      <td>46</td>\n",
       "      <td>NaN</td>\n",
       "      <td>Курган</td>\n",
       "      <td>Рэм</td>\n",
       "      <td>Корнилов</td>\n",
       "      <td>2018-05-15</td>\n",
       "      <td>ultra</td>\n",
       "      <td>1000</td>\n",
       "      <td>30720</td>\n",
       "      <td>3000</td>\n",
       "      <td>1950</td>\n",
       "      <td>150</td>\n",
       "      <td>1</td>\n",
       "      <td>1</td>\n",
       "    </tr>\n",
       "    <tr>\n",
       "      <td>3212</td>\n",
       "      <td>1273</td>\n",
       "      <td>11 November</td>\n",
       "      <td>nan</td>\n",
       "      <td>29.00</td>\n",
       "      <td>286.00</td>\n",
       "      <td>46</td>\n",
       "      <td>NaN</td>\n",
       "      <td>Курган</td>\n",
       "      <td>Рэм</td>\n",
       "      <td>Корнилов</td>\n",
       "      <td>2018-05-15</td>\n",
       "      <td>ultra</td>\n",
       "      <td>1000</td>\n",
       "      <td>30720</td>\n",
       "      <td>3000</td>\n",
       "      <td>1950</td>\n",
       "      <td>150</td>\n",
       "      <td>1</td>\n",
       "      <td>1</td>\n",
       "    </tr>\n",
       "    <tr>\n",
       "      <td>3213</td>\n",
       "      <td>1273</td>\n",
       "      <td>12 December</td>\n",
       "      <td>nan</td>\n",
       "      <td>39.00</td>\n",
       "      <td>263.00</td>\n",
       "      <td>46</td>\n",
       "      <td>NaN</td>\n",
       "      <td>Курган</td>\n",
       "      <td>Рэм</td>\n",
       "      <td>Корнилов</td>\n",
       "      <td>2018-05-15</td>\n",
       "      <td>ultra</td>\n",
       "      <td>1000</td>\n",
       "      <td>30720</td>\n",
       "      <td>3000</td>\n",
       "      <td>1950</td>\n",
       "      <td>150</td>\n",
       "      <td>1</td>\n",
       "      <td>1</td>\n",
       "    </tr>\n",
       "    <tr>\n",
       "      <td>3214</td>\n",
       "      <td>1128</td>\n",
       "      <td>NaN</td>\n",
       "      <td>nan</td>\n",
       "      <td>nan</td>\n",
       "      <td>nan</td>\n",
       "      <td>51</td>\n",
       "      <td>2018-12-23</td>\n",
       "      <td>Волжский</td>\n",
       "      <td>Ксения</td>\n",
       "      <td>Агаева</td>\n",
       "      <td>2018-12-15</td>\n",
       "      <td>ultra</td>\n",
       "      <td>1000</td>\n",
       "      <td>30720</td>\n",
       "      <td>3000</td>\n",
       "      <td>1950</td>\n",
       "      <td>150</td>\n",
       "      <td>1</td>\n",
       "      <td>1</td>\n",
       "    </tr>\n",
       "    <tr>\n",
       "      <td>3215</td>\n",
       "      <td>1371</td>\n",
       "      <td>NaN</td>\n",
       "      <td>nan</td>\n",
       "      <td>nan</td>\n",
       "      <td>nan</td>\n",
       "      <td>50</td>\n",
       "      <td>2018-12-30</td>\n",
       "      <td>Омск</td>\n",
       "      <td>Ириней</td>\n",
       "      <td>Трофимов</td>\n",
       "      <td>2018-12-25</td>\n",
       "      <td>smart</td>\n",
       "      <td>50</td>\n",
       "      <td>15360</td>\n",
       "      <td>500</td>\n",
       "      <td>550</td>\n",
       "      <td>200</td>\n",
       "      <td>3</td>\n",
       "      <td>3</td>\n",
       "    </tr>\n",
       "  </tbody>\n",
       "</table>\n",
       "</div>"
      ],
      "text/plain": [
       "      user_id        month  mb_used_rounded  messages_number  \\\n",
       "3211     1273   10 October              nan            35.00   \n",
       "3212     1273  11 November              nan            29.00   \n",
       "3213     1273  12 December              nan            39.00   \n",
       "3214     1128          NaN              nan              nan   \n",
       "3215     1371          NaN              nan              nan   \n",
       "\n",
       "      duration_rounded  age  churn_date      city first_name last_name  \\\n",
       "3211            320.00   46         NaN    Курган        Рэм  Корнилов   \n",
       "3212            286.00   46         NaN    Курган        Рэм  Корнилов   \n",
       "3213            263.00   46         NaN    Курган        Рэм  Корнилов   \n",
       "3214               nan   51  2018-12-23  Волжский     Ксения    Агаева   \n",
       "3215               nan   50  2018-12-30      Омск     Ириней  Трофимов   \n",
       "\n",
       "        reg_date tariff  messages_included  mb_per_month_included  \\\n",
       "3211  2018-05-15  ultra               1000                  30720   \n",
       "3212  2018-05-15  ultra               1000                  30720   \n",
       "3213  2018-05-15  ultra               1000                  30720   \n",
       "3214  2018-12-15  ultra               1000                  30720   \n",
       "3215  2018-12-25  smart                 50                  15360   \n",
       "\n",
       "      minutes_included  rub_monthly_fee  rub_per_gb  rub_per_message  \\\n",
       "3211              3000             1950         150                1   \n",
       "3212              3000             1950         150                1   \n",
       "3213              3000             1950         150                1   \n",
       "3214              3000             1950         150                1   \n",
       "3215               500              550         200                3   \n",
       "\n",
       "      rub_per_minute  \n",
       "3211               1  \n",
       "3212               1  \n",
       "3213               1  \n",
       "3214               1  \n",
       "3215               3  "
      ]
     },
     "execution_count": 8,
     "metadata": {},
     "output_type": "execute_result"
    }
   ],
   "source": [
    "#Сначала сливаем данные по месяцам и id пользователей, потом привязываем их к ФИО и личным данным клиентов:\n",
    "data = internet_grouped.merge(messages_grouped, on = ['user_id', 'month'], how = 'outer')\n",
    "data = data.merge(calls_grouped, on = ['user_id', 'month'], how = 'outer')\n",
    "data = data.merge(users, on = 'user_id', how = 'outer')\n",
    "data.info()\n",
    "data.tail()\n",
    "\n",
    "\n"
   ]
  },
  {
   "cell_type": "markdown",
   "metadata": {},
   "source": [
    "В столбцах mb_used_rounded, messages_number, duration_rounded после объединения появились пустые значения. Кто-то из клиентов сети использует интернет, но не звонит, или общается только с помощью сообщений. Заменяем в этих столбцах пустые ячейки на нулевые, а вещественный тип данных на целочисленный."
   ]
  },
  {
   "cell_type": "code",
   "execution_count": 9,
   "metadata": {},
   "outputs": [
    {
     "data": {
      "text/html": [
       "<div>\n",
       "<style scoped>\n",
       "    .dataframe tbody tr th:only-of-type {\n",
       "        vertical-align: middle;\n",
       "    }\n",
       "\n",
       "    .dataframe tbody tr th {\n",
       "        vertical-align: top;\n",
       "    }\n",
       "\n",
       "    .dataframe thead th {\n",
       "        text-align: right;\n",
       "    }\n",
       "</style>\n",
       "<table border=\"1\" class=\"dataframe\">\n",
       "  <thead>\n",
       "    <tr style=\"text-align: right;\">\n",
       "      <th></th>\n",
       "      <th>user_id</th>\n",
       "      <th>month</th>\n",
       "      <th>mb_used_rounded</th>\n",
       "      <th>messages_number</th>\n",
       "      <th>duration_rounded</th>\n",
       "      <th>age</th>\n",
       "      <th>churn_date</th>\n",
       "      <th>city</th>\n",
       "      <th>first_name</th>\n",
       "      <th>last_name</th>\n",
       "      <th>reg_date</th>\n",
       "      <th>tariff</th>\n",
       "      <th>messages_included</th>\n",
       "      <th>mb_per_month_included</th>\n",
       "      <th>minutes_included</th>\n",
       "      <th>rub_monthly_fee</th>\n",
       "      <th>rub_per_gb</th>\n",
       "      <th>rub_per_message</th>\n",
       "      <th>rub_per_minute</th>\n",
       "    </tr>\n",
       "  </thead>\n",
       "  <tbody>\n",
       "    <tr>\n",
       "      <td>3214</td>\n",
       "      <td>1128</td>\n",
       "      <td>NaN</td>\n",
       "      <td>0</td>\n",
       "      <td>0</td>\n",
       "      <td>0</td>\n",
       "      <td>51</td>\n",
       "      <td>2018-12-23</td>\n",
       "      <td>Волжский</td>\n",
       "      <td>Ксения</td>\n",
       "      <td>Агаева</td>\n",
       "      <td>2018-12-15</td>\n",
       "      <td>ultra</td>\n",
       "      <td>1000</td>\n",
       "      <td>30720</td>\n",
       "      <td>3000</td>\n",
       "      <td>1950</td>\n",
       "      <td>150</td>\n",
       "      <td>1</td>\n",
       "      <td>1</td>\n",
       "    </tr>\n",
       "    <tr>\n",
       "      <td>3215</td>\n",
       "      <td>1371</td>\n",
       "      <td>NaN</td>\n",
       "      <td>0</td>\n",
       "      <td>0</td>\n",
       "      <td>0</td>\n",
       "      <td>50</td>\n",
       "      <td>2018-12-30</td>\n",
       "      <td>Омск</td>\n",
       "      <td>Ириней</td>\n",
       "      <td>Трофимов</td>\n",
       "      <td>2018-12-25</td>\n",
       "      <td>smart</td>\n",
       "      <td>50</td>\n",
       "      <td>15360</td>\n",
       "      <td>500</td>\n",
       "      <td>550</td>\n",
       "      <td>200</td>\n",
       "      <td>3</td>\n",
       "      <td>3</td>\n",
       "    </tr>\n",
       "  </tbody>\n",
       "</table>\n",
       "</div>"
      ],
      "text/plain": [
       "      user_id month  mb_used_rounded  messages_number  duration_rounded  age  \\\n",
       "3214     1128   NaN                0                0                 0   51   \n",
       "3215     1371   NaN                0                0                 0   50   \n",
       "\n",
       "      churn_date      city first_name last_name    reg_date tariff  \\\n",
       "3214  2018-12-23  Волжский     Ксения    Агаева  2018-12-15  ultra   \n",
       "3215  2018-12-30      Омск     Ириней  Трофимов  2018-12-25  smart   \n",
       "\n",
       "      messages_included  mb_per_month_included  minutes_included  \\\n",
       "3214               1000                  30720              3000   \n",
       "3215                 50                  15360               500   \n",
       "\n",
       "      rub_monthly_fee  rub_per_gb  rub_per_message  rub_per_minute  \n",
       "3214             1950         150                1               1  \n",
       "3215              550         200                3               3  "
      ]
     },
     "metadata": {},
     "output_type": "display_data"
    }
   ],
   "source": [
    "columns_na = ['mb_used_rounded', 'messages_number', 'duration_rounded']\n",
    "data[columns_na] = data[columns_na].fillna(0).astype(int)\n",
    "display(data[data['month'].isna()])"
   ]
  },
  {
   "cell_type": "markdown",
   "metadata": {},
   "source": []
  },
  {
   "cell_type": "markdown",
   "metadata": {},
   "source": [
    "<h1>3.Подготовка расчётных данных</h1>"
   ]
  },
  {
   "cell_type": "code",
   "execution_count": 10,
   "metadata": {},
   "outputs": [],
   "source": [
    "#Создаем столбцы, в которые попадёт сумма выручки компании при превышении клиентом лимита по тарифам:\n",
    "data['revenue_calls'] = (data['duration_rounded'] - data['minutes_included']) * data['rub_per_minute']\n",
    "data['revenue_internet'] = (data['mb_used_rounded'] - data['mb_per_month_included']) * data['rub_per_gb'] / 1024\n",
    "data['revenue_messages'] = (data['messages_number'] - data['messages_included']) * data['rub_per_message']\n",
    "#В случае, если превышения нет, оставим в этих столбцах нули:\n",
    "data.loc[data['revenue_calls'] < 0, 'revenue_calls'] = 0\n",
    "data.loc[data['revenue_internet'] < 0, 'revenue_internet'] = 0\n",
    "data.loc[data['revenue_messages'] < 0, 'revenue_messages'] = 0\n",
    "#Итоговая выручка складывается из тарифа и оплаты за превышение трафика, лимита минут и сообщений:\n",
    "data['revenue_month'] = data['rub_monthly_fee'] + data['revenue_calls'] + data['revenue_internet'] + data['revenue_messages']"
   ]
  },
  {
   "cell_type": "markdown",
   "metadata": {},
   "source": [
    "Итак:\n",
    "\n",
    "Информация об использовании тарифов сгруппирована по месяцам;\n",
    "\n",
    "Собрана из разрозненных файлов в единый датафрейм;\n",
    "\n",
    "Данные проверены на ошибки;\n",
    "\n",
    "Убраны пустые значения;\n",
    "\n",
    "В таблицу добавлен расчётный столбец ежемесячной выручки по каждому пользователю.\n",
    "\n",
    "Приступаем к анализу полученных данных."
   ]
  },
  {
   "cell_type": "markdown",
   "metadata": {},
   "source": [
    "<h1>4.Анализ Данных</h1>"
   ]
  },
  {
   "cell_type": "code",
   "execution_count": 11,
   "metadata": {},
   "outputs": [
    {
     "data": {
      "image/png": "[encoded data removed]",
      "text/plain": [
       "<Figure size 432x288 with 1 Axes>"
      ]
     },
     "metadata": {},
     "output_type": "display_data"
    }
   ],
   "source": [
    "#Диаграмма на основе данных списка клиентов:\n",
    "users['tariff'].value_counts().plot(kind = 'pie', autopct='%1.2f%%', explode = (0, 0.1), shadow = True)\n",
    "plt.title('Доли тарифов Smart и Ultra среди выборки клиентов:')\n",
    "plt.show()"
   ]
  },
  {
   "cell_type": "markdown",
   "metadata": {},
   "source": [
    "70% клиентов \"Мегалайна\" предпочитают универсальный и недорогой тариф Smart.\n",
    "\n",
    "Проверим, как меняются доли тарифов в выборке по месяцам. Возможно, не всегда соотношение было таким."
   ]
  },
  {
   "cell_type": "code",
   "execution_count": 12,
   "metadata": {},
   "outputs": [
    {
     "data": {
      "text/html": [
       "<div>\n",
       "<style scoped>\n",
       "    .dataframe tbody tr th:only-of-type {\n",
       "        vertical-align: middle;\n",
       "    }\n",
       "\n",
       "    .dataframe tbody tr th {\n",
       "        vertical-align: top;\n",
       "    }\n",
       "\n",
       "    .dataframe thead th {\n",
       "        text-align: right;\n",
       "    }\n",
       "</style>\n",
       "<table border=\"1\" class=\"dataframe\">\n",
       "  <thead>\n",
       "    <tr style=\"text-align: right;\">\n",
       "      <th></th>\n",
       "      <th>month</th>\n",
       "      <th>tariff</th>\n",
       "      <th>count_users_part</th>\n",
       "      <th>count_users_total</th>\n",
       "      <th>%</th>\n",
       "    </tr>\n",
       "  </thead>\n",
       "  <tbody>\n",
       "    <tr>\n",
       "      <td>1</td>\n",
       "      <td>01 January</td>\n",
       "      <td>smart</td>\n",
       "      <td>34</td>\n",
       "      <td>43</td>\n",
       "      <td>79.07</td>\n",
       "    </tr>\n",
       "    <tr>\n",
       "      <td>0</td>\n",
       "      <td>01 January</td>\n",
       "      <td>ultra</td>\n",
       "      <td>9</td>\n",
       "      <td>43</td>\n",
       "      <td>20.93</td>\n",
       "    </tr>\n",
       "    <tr>\n",
       "      <td>3</td>\n",
       "      <td>02 February</td>\n",
       "      <td>smart</td>\n",
       "      <td>58</td>\n",
       "      <td>82</td>\n",
       "      <td>70.73</td>\n",
       "    </tr>\n",
       "    <tr>\n",
       "      <td>2</td>\n",
       "      <td>02 February</td>\n",
       "      <td>ultra</td>\n",
       "      <td>24</td>\n",
       "      <td>82</td>\n",
       "      <td>29.27</td>\n",
       "    </tr>\n",
       "  </tbody>\n",
       "</table>\n",
       "</div>"
      ],
      "text/plain": [
       "         month tariff  count_users_part  count_users_total     %\n",
       "1   01 January  smart                34                 43 79.07\n",
       "0   01 January  ultra                 9                 43 20.93\n",
       "3  02 February  smart                58                 82 70.73\n",
       "2  02 February  ultra                24                 82 29.27"
      ]
     },
     "execution_count": 12,
     "metadata": {},
     "output_type": "execute_result"
    }
   ],
   "source": [
    "#Группируем таблицу по месяцу и тарифу. Данные - количество пользователей.\n",
    "grouped_data = data.groupby(['month', 'tariff'])['user_id'].count().reset_index().sort_values(by = ['month','user_id'])\n",
    "grouped_data.columns = ['month', 'tariff', 'count_users_part']\n",
    "#Групппируем таблицу только по месяцу без разбивки по тарифам.\n",
    "grouped_data_2 = data.groupby('month')['user_id'].count().reset_index()\n",
    "grouped_data_2.columns = ['month', 'count_users_total']\n",
    "#Объединяем обе таблицы по месяцу:\n",
    "grouped_data = grouped_data.merge(grouped_data_2, on = 'month', how = 'left').sort_values(by = ['month','tariff'])\n",
    "#Добавляем столбец с долей пользователя конкретного тарифа от общего количества пользователей:\n",
    "grouped_data['%'] = grouped_data['count_users_part'] * 100/ grouped_data['count_users_total']\n",
    "grouped_data.head(4)"
   ]
  },
  {
   "cell_type": "markdown",
   "metadata": {},
   "source": [
    "В первую очередь посмотрим на характеристики распределения данных."
   ]
  },
  {
   "cell_type": "code",
   "execution_count": 13,
   "metadata": {},
   "outputs": [
    {
     "name": "stdout",
     "output_type": "stream",
     "text": [
      "Характеристики распределения длительности разговора, интернет-трафика и количества сообщений для тарифа \"Smart\":\n"
     ]
    },
    {
     "data": {
      "text/html": [
       "<style  type=\"text/css\" >\n",
       "</style><table id=\"T_65eb57ba_8290_11ec_bff3_02420a394340\" ><thead>    <tr>        <th class=\"blank level0\" ></th>        <th class=\"col_heading level0 col0\" >duration_rounded</th>        <th class=\"col_heading level0 col1\" >mb_used_rounded</th>        <th class=\"col_heading level0 col2\" >messages_number</th>    </tr></thead><tbody>\n",
       "                <tr>\n",
       "                        <th id=\"T_65eb57ba_8290_11ec_bff3_02420a394340level0_row0\" class=\"row_heading level0 row0\" >mean</th>\n",
       "                        <td id=\"T_65eb57ba_8290_11ec_bff3_02420a394340row0_col0\" class=\"data row0 col0\" >429.26</td>\n",
       "                        <td id=\"T_65eb57ba_8290_11ec_bff3_02420a394340row0_col1\" class=\"data row0 col1\" >16221.91</td>\n",
       "                        <td id=\"T_65eb57ba_8290_11ec_bff3_02420a394340row0_col2\" class=\"data row0 col2\" >33.37</td>\n",
       "            </tr>\n",
       "            <tr>\n",
       "                        <th id=\"T_65eb57ba_8290_11ec_bff3_02420a394340level0_row1\" class=\"row_heading level0 row1\" >std</th>\n",
       "                        <td id=\"T_65eb57ba_8290_11ec_bff3_02420a394340row1_col0\" class=\"data row1 col0\" >195.04</td>\n",
       "                        <td id=\"T_65eb57ba_8290_11ec_bff3_02420a394340row1_col1\" class=\"data row1 col1\" >5886.30</td>\n",
       "                        <td id=\"T_65eb57ba_8290_11ec_bff3_02420a394340row1_col2\" class=\"data row1 col2\" >28.23</td>\n",
       "            </tr>\n",
       "            <tr>\n",
       "                        <th id=\"T_65eb57ba_8290_11ec_bff3_02420a394340level0_row2\" class=\"row_heading level0 row2\" >var</th>\n",
       "                        <td id=\"T_65eb57ba_8290_11ec_bff3_02420a394340row2_col0\" class=\"data row2 col0\" >38040.44</td>\n",
       "                        <td id=\"T_65eb57ba_8290_11ec_bff3_02420a394340row2_col1\" class=\"data row2 col1\" >34648523.30</td>\n",
       "                        <td id=\"T_65eb57ba_8290_11ec_bff3_02420a394340row2_col2\" class=\"data row2 col2\" >796.96</td>\n",
       "            </tr>\n",
       "    </tbody></table>"
      ],
      "text/plain": [
       "<pandas.io.formats.style.Styler at 0x7feee0cc0a50>"
      ]
     },
     "metadata": {},
     "output_type": "display_data"
    },
    {
     "name": "stdout",
     "output_type": "stream",
     "text": [
      "Характеристики распределения длительности разговора, интернет-трафика и количества сообщений для тарифа \"Ultra\":\n"
     ]
    },
    {
     "data": {
      "text/html": [
       "<style  type=\"text/css\" >\n",
       "</style><table id=\"T_65ee1ebe_8290_11ec_bff3_02420a394340\" ><thead>    <tr>        <th class=\"blank level0\" ></th>        <th class=\"col_heading level0 col0\" >duration_rounded</th>        <th class=\"col_heading level0 col1\" >mb_used_rounded</th>        <th class=\"col_heading level0 col2\" >messages_number</th>    </tr></thead><tbody>\n",
       "                <tr>\n",
       "                        <th id=\"T_65ee1ebe_8290_11ec_bff3_02420a394340level0_row0\" class=\"row_heading level0 row0\" >mean</th>\n",
       "                        <td id=\"T_65ee1ebe_8290_11ec_bff3_02420a394340row0_col0\" class=\"data row0 col0\" >540.23</td>\n",
       "                        <td id=\"T_65ee1ebe_8290_11ec_bff3_02420a394340row0_col1\" class=\"data row0 col1\" >19467.14</td>\n",
       "                        <td id=\"T_65ee1ebe_8290_11ec_bff3_02420a394340row0_col2\" class=\"data row0 col2\" >49.31</td>\n",
       "            </tr>\n",
       "            <tr>\n",
       "                        <th id=\"T_65ee1ebe_8290_11ec_bff3_02420a394340level0_row1\" class=\"row_heading level0 row1\" >std</th>\n",
       "                        <td id=\"T_65ee1ebe_8290_11ec_bff3_02420a394340row1_col0\" class=\"data row1 col0\" >326.03</td>\n",
       "                        <td id=\"T_65ee1ebe_8290_11ec_bff3_02420a394340row1_col1\" class=\"data row1 col1\" >10110.26</td>\n",
       "                        <td id=\"T_65ee1ebe_8290_11ec_bff3_02420a394340row1_col2\" class=\"data row1 col2\" >47.81</td>\n",
       "            </tr>\n",
       "            <tr>\n",
       "                        <th id=\"T_65ee1ebe_8290_11ec_bff3_02420a394340level0_row2\" class=\"row_heading level0 row2\" >var</th>\n",
       "                        <td id=\"T_65ee1ebe_8290_11ec_bff3_02420a394340row2_col0\" class=\"data row2 col0\" >106294.60</td>\n",
       "                        <td id=\"T_65ee1ebe_8290_11ec_bff3_02420a394340row2_col1\" class=\"data row2 col1\" >102217264.28</td>\n",
       "                        <td id=\"T_65ee1ebe_8290_11ec_bff3_02420a394340row2_col2\" class=\"data row2 col2\" >2285.42</td>\n",
       "            </tr>\n",
       "    </tbody></table>"
      ],
      "text/plain": [
       "<pandas.io.formats.style.Styler at 0x7fee5480c090>"
      ]
     },
     "metadata": {},
     "output_type": "display_data"
    }
   ],
   "source": [
    "data_ultra = data.query('tariff == \"ultra\"')\n",
    "data_smart = data.query('tariff == \"smart\"')\n",
    "print('Характеристики распределения длительности разговора, интернет-трафика и количества сообщений для тарифа \"Smart\":')\n",
    "display(data_smart[['duration_rounded', 'mb_used_rounded', 'messages_number']].describe().loc[['mean', \\\n",
    "'std']].append(pd.Series(np.var(data_smart[['duration_rounded', 'mb_used_rounded', \\\n",
    "'messages_number']], ddof = 1), name = 'var')).style.format('{:.2f}'))\n",
    "\n",
    "print('Характеристики распределения длительности разговора, интернет-трафика и количества сообщений для тарифа \"Ultra\":')\n",
    "display(data_ultra[['duration_rounded', 'mb_used_rounded', 'messages_number']].describe().loc[['mean', \\\n",
    "'std']].append(pd.Series(np.var(data_ultra[['duration_rounded', 'mb_used_rounded', \\\n",
    "'messages_number']], ddof = 1), name = 'var')).style.format('{:.2f}'))"
   ]
  },
  {
   "cell_type": "markdown",
   "metadata": {},
   "source": [
    "По характеристикам распределения можно сделать выводы:\n",
    "\n",
    "Средняя длительность разговора не сильно зависит от тарифа. В среднем человеку нужно около 430 минут разговора на тарифе \"Smart\" и 540 - на тарифе \"Ultra\". Среднее и медиана у распределения близки, т.е. выбросов немного.\n",
    "Сообщения сейчас не в моде. Пользователи обоих тарифов за редким исключением не превышают лимит.\n",
    "Основные различия касаются объема интернет-трафика. Пользователи тарифа \"Smart\" превышают лимит 15Гб и платят за дополнительные мегабайты чаще, чем в половине случаев. Пользователи \"Ultra\" используют интернет активнее (в среднем на 3Гб), но больше чем в 75% случаев не выходят за увеличенный лимит в 30Гб.\n"
   ]
  },
  {
   "cell_type": "markdown",
   "metadata": {},
   "source": [
    "Для наглядности построим сравнительные графики длительности разговора, отправки смс и активности пользователя в сети в зависимости от выбранного тарифа."
   ]
  },
  {
   "cell_type": "code",
   "execution_count": 14,
   "metadata": {},
   "outputs": [
    {
     "data": {
      "image/png": "[encoded data removed]",
      "text/plain": [
       "<Figure size 1080x216 with 3 Axes>"
      ]
     },
     "metadata": {},
     "output_type": "display_data"
    }
   ],
   "source": [
    "#Строим гистограммы распределений ежемесячной длительности разговора, количества сообщений и объема интернет-трафика:\n",
    "#tariff = data['tariff']\n",
    "sns.set()\n",
    "fig,axes=plt.subplots(1,3)\n",
    "fig.set_size_inches(15, 3)\n",
    "for tariff in ['smart', 'ultra']:\n",
    "  ax = sns.distplot(data.query('tariff == @tariff')['duration_rounded'], label = tariff, ax = axes[0])\n",
    "  ax1 = sns.distplot(data.query('tariff == @tariff')['mb_used_rounded'], label = tariff, ax = axes[1])\n",
    "  ax2 = sns.distplot(data.query('tariff == @tariff')['messages_number'], label = tariff, ax = axes[2])\n",
    "\n",
    "ax.set(title = \"Распределение длительности звонков\",\n",
    "      xlabel = \"Продолжительность разговора, мин\",\n",
    "      ylabel = \"Плотность вероятности\")\n",
    "ax1.set(title = \"Распределение объёма интернет-трафика\",\n",
    "      xlabel = \"Количество потраченнных мегабайт, Мб\",\n",
    "      ylabel = \"Плотность вероятности\")\n",
    "ax2.set(title = \"Распределение количества сообщений\",\n",
    "      xlabel = \"Количество сообщений, шт\",\n",
    "      ylabel = \"Плотность вероятности\")\n",
    "      \n",
    "ax.legend()\n",
    "ax1.legend()\n",
    "ax2.legend()\n",
    "plt.show()\n",
    "\n"
   ]
  },
  {
   "cell_type": "markdown",
   "metadata": {},
   "source": [
    "В целом поведение пользователя в обоих случаях похожее, но на графиках видно смещение вправо распределения длительности звонков и объёма интернет-трафика по тарифу \"Ultra\". Лимиты больше - использование свободнее.\n",
    "\n",
    "Эти распределения близки к нормальным. Распределение количества сообщений стремится к экспоненциальному виду. Максимум около нуля. Пользователей, отправляющих много sms, мало."
   ]
  },
  {
   "cell_type": "markdown",
   "metadata": {},
   "source": [
    "<h1>5.Проверка гипотез (анализ выручки)</h1>\n"
   ]
  },
  {
   "cell_type": "code",
   "execution_count": 15,
   "metadata": {},
   "outputs": [
    {
     "name": "stdout",
     "output_type": "stream",
     "text": [
      "Характеристики распределения ежемесячной выручки по тарифу \"Smart\":\n"
     ]
    },
    {
     "data": {
      "text/html": [
       "<style  type=\"text/css\" >\n",
       "</style><table id=\"T_6693f58c_8290_11ec_bff3_02420a394340\" ><thead>    <tr>        <th class=\"blank level0\" ></th>        <th class=\"col_heading level0 col0\" >revenue_month</th>    </tr></thead><tbody>\n",
       "                <tr>\n",
       "                        <th id=\"T_6693f58c_8290_11ec_bff3_02420a394340level0_row0\" class=\"row_heading level0 row0\" >count</th>\n",
       "                        <td id=\"T_6693f58c_8290_11ec_bff3_02420a394340row0_col0\" class=\"data row0 col0\" >2230.00</td>\n",
       "            </tr>\n",
       "            <tr>\n",
       "                        <th id=\"T_6693f58c_8290_11ec_bff3_02420a394340level0_row1\" class=\"row_heading level0 row1\" >mean</th>\n",
       "                        <td id=\"T_6693f58c_8290_11ec_bff3_02420a394340row1_col0\" class=\"data row1 col0\" >1250.01</td>\n",
       "            </tr>\n",
       "            <tr>\n",
       "                        <th id=\"T_6693f58c_8290_11ec_bff3_02420a394340level0_row2\" class=\"row_heading level0 row2\" >std</th>\n",
       "                        <td id=\"T_6693f58c_8290_11ec_bff3_02420a394340row2_col0\" class=\"data row2 col0\" >796.99</td>\n",
       "            </tr>\n",
       "            <tr>\n",
       "                        <th id=\"T_6693f58c_8290_11ec_bff3_02420a394340level0_row3\" class=\"row_heading level0 row3\" >min</th>\n",
       "                        <td id=\"T_6693f58c_8290_11ec_bff3_02420a394340row3_col0\" class=\"data row3 col0\" >550.00</td>\n",
       "            </tr>\n",
       "            <tr>\n",
       "                        <th id=\"T_6693f58c_8290_11ec_bff3_02420a394340level0_row4\" class=\"row_heading level0 row4\" >25%</th>\n",
       "                        <td id=\"T_6693f58c_8290_11ec_bff3_02420a394340row4_col0\" class=\"data row4 col0\" >553.00</td>\n",
       "            </tr>\n",
       "            <tr>\n",
       "                        <th id=\"T_6693f58c_8290_11ec_bff3_02420a394340level0_row5\" class=\"row_heading level0 row5\" >50%</th>\n",
       "                        <td id=\"T_6693f58c_8290_11ec_bff3_02420a394340row5_col0\" class=\"data row5 col0\" >985.75</td>\n",
       "            </tr>\n",
       "            <tr>\n",
       "                        <th id=\"T_6693f58c_8290_11ec_bff3_02420a394340level0_row6\" class=\"row_heading level0 row6\" >75%</th>\n",
       "                        <td id=\"T_6693f58c_8290_11ec_bff3_02420a394340row6_col0\" class=\"data row6 col0\" >1700.88</td>\n",
       "            </tr>\n",
       "            <tr>\n",
       "                        <th id=\"T_6693f58c_8290_11ec_bff3_02420a394340level0_row7\" class=\"row_heading level0 row7\" >max</th>\n",
       "                        <td id=\"T_6693f58c_8290_11ec_bff3_02420a394340row7_col0\" class=\"data row7 col0\" >6765.02</td>\n",
       "            </tr>\n",
       "    </tbody></table>"
      ],
      "text/plain": [
       "<pandas.io.formats.style.Styler at 0x7feec8bdad50>"
      ]
     },
     "metadata": {},
     "output_type": "display_data"
    },
    {
     "name": "stdout",
     "output_type": "stream",
     "text": [
      "Характеристики распределения ежемесячной выручки по тарифу \"Ultra\":\n"
     ]
    },
    {
     "data": {
      "text/html": [
       "<style  type=\"text/css\" >\n",
       "</style><table id=\"T_6696a00c_8290_11ec_bff3_02420a394340\" ><thead>    <tr>        <th class=\"blank level0\" ></th>        <th class=\"col_heading level0 col0\" >revenue_month</th>    </tr></thead><tbody>\n",
       "                <tr>\n",
       "                        <th id=\"T_6696a00c_8290_11ec_bff3_02420a394340level0_row0\" class=\"row_heading level0 row0\" >count</th>\n",
       "                        <td id=\"T_6696a00c_8290_11ec_bff3_02420a394340row0_col0\" class=\"data row0 col0\" >986.00</td>\n",
       "            </tr>\n",
       "            <tr>\n",
       "                        <th id=\"T_6696a00c_8290_11ec_bff3_02420a394340level0_row1\" class=\"row_heading level0 row1\" >mean</th>\n",
       "                        <td id=\"T_6696a00c_8290_11ec_bff3_02420a394340row1_col0\" class=\"data row1 col0\" >2060.42</td>\n",
       "            </tr>\n",
       "            <tr>\n",
       "                        <th id=\"T_6696a00c_8290_11ec_bff3_02420a394340level0_row2\" class=\"row_heading level0 row2\" >std</th>\n",
       "                        <td id=\"T_6696a00c_8290_11ec_bff3_02420a394340row2_col0\" class=\"data row2 col0\" >356.14</td>\n",
       "            </tr>\n",
       "            <tr>\n",
       "                        <th id=\"T_6696a00c_8290_11ec_bff3_02420a394340level0_row3\" class=\"row_heading level0 row3\" >min</th>\n",
       "                        <td id=\"T_6696a00c_8290_11ec_bff3_02420a394340row3_col0\" class=\"data row3 col0\" >1950.00</td>\n",
       "            </tr>\n",
       "            <tr>\n",
       "                        <th id=\"T_6696a00c_8290_11ec_bff3_02420a394340level0_row4\" class=\"row_heading level0 row4\" >25%</th>\n",
       "                        <td id=\"T_6696a00c_8290_11ec_bff3_02420a394340row4_col0\" class=\"data row4 col0\" >1950.00</td>\n",
       "            </tr>\n",
       "            <tr>\n",
       "                        <th id=\"T_6696a00c_8290_11ec_bff3_02420a394340level0_row5\" class=\"row_heading level0 row5\" >50%</th>\n",
       "                        <td id=\"T_6696a00c_8290_11ec_bff3_02420a394340row5_col0\" class=\"data row5 col0\" >1950.00</td>\n",
       "            </tr>\n",
       "            <tr>\n",
       "                        <th id=\"T_6696a00c_8290_11ec_bff3_02420a394340level0_row6\" class=\"row_heading level0 row6\" >75%</th>\n",
       "                        <td id=\"T_6696a00c_8290_11ec_bff3_02420a394340row6_col0\" class=\"data row6 col0\" >1950.00</td>\n",
       "            </tr>\n",
       "            <tr>\n",
       "                        <th id=\"T_6696a00c_8290_11ec_bff3_02420a394340level0_row7\" class=\"row_heading level0 row7\" >max</th>\n",
       "                        <td id=\"T_6696a00c_8290_11ec_bff3_02420a394340row7_col0\" class=\"data row7 col0\" >4743.31</td>\n",
       "            </tr>\n",
       "    </tbody></table>"
      ],
      "text/plain": [
       "<pandas.io.formats.style.Styler at 0x7fee53d430d0>"
      ]
     },
     "metadata": {},
     "output_type": "display_data"
    }
   ],
   "source": [
    "print('Характеристики распределения ежемесячной выручки по тарифу \"Smart\":')\n",
    "display(data_smart[['revenue_month']].describe().style.format('{:.2f}'))\n",
    "print('Характеристики распределения ежемесячной выручки по тарифу \"Ultra\":')\n",
    "display(data_ultra[['revenue_month']].describe().style.format('{:.2f}'))"
   ]
  },
  {
   "cell_type": "markdown",
   "metadata": {},
   "source": [
    "<h1>6.Гистограммы для распределения выручки.</h1>"
   ]
  },
  {
   "cell_type": "code",
   "execution_count": 16,
   "metadata": {},
   "outputs": [
    {
     "data": {
      "image/png": "[encoded data removed]",
      "text/plain": [
       "<Figure size 720x432 with 1 Axes>"
      ]
     },
     "metadata": {},
     "output_type": "display_data"
    }
   ],
   "source": [
    "sns.set()\n",
    "fig, ax = plt.subplots()\n",
    "fig.set_size_inches(10, 6)\n",
    "for tariff in ['smart', 'ultra']:\n",
    "  ax = sns.distplot(data.query('tariff == @tariff')['revenue_month'], label = tariff)\n",
    "ax.set(title = \"Распределение выручки по тарифам\",\n",
    "      xlabel = \"Ежемесячная выручка с пользователя, руб\",\n",
    "      ylabel = \"Плотность вероятности\")\n",
    "      \n",
    "ax.legend()\n",
    "plt.show()"
   ]
  },
  {
   "cell_type": "markdown",
   "metadata": {},
   "source": [
    "График наглядно показывает, что выручка подчиняется экспоненциальному распределению. Пик в обоих случаях - выручка, равная абонентской плате. Меньше сумма быть не может. Количество пользователей, превышающих лимит по включенным ресурсам - больше половины на тарифе \"Smart\" и меньше 25% на тарифе \"Ultra\".\n",
    "\n",
    "Проверим гипотезу H0 о том, что средняя выручка по тарифу \"Smart\" и \"Ultra\" в двух соответствующих генеральных совокупностях одинакова.\n",
    "\n"
   ]
  },
  {
   "cell_type": "code",
   "execution_count": 17,
   "metadata": {},
   "outputs": [
    {
     "name": "stdout",
     "output_type": "stream",
     "text": [
      "p-значение: 1.3058658861538062e-282\n",
      "Отвергаем нулевую гипотезу\n"
     ]
    }
   ],
   "source": [
    "alpha = 0.05\n",
    "results = st.ttest_ind(\n",
    "    data_smart['revenue_month'], \n",
    "    data_ultra['revenue_month'],\n",
    "    equal_var = False)\n",
    "print('p-значение:', results.pvalue)\n",
    " \n",
    "if (results.pvalue < alpha):\n",
    "    print(\"Отвергаем нулевую гипотезу\")\n",
    "else:\n",
    "    print(\"Не получилось отвергнуть нулевую гипотезу\")"
   ]
  },
  {
   "cell_type": "markdown",
   "metadata": {},
   "source": [
    "Уровень значимости статистики разности средних наших показателей (p-value) исчезающе мал, поэтому принимаем альтернативную гипотезу: с высокой вероятностью средняя выручка по тарифам отличается, как и в нашей выборке."
   ]
  },
  {
   "cell_type": "code",
   "execution_count": 18,
   "metadata": {},
   "outputs": [
    {
     "name": "stdout",
     "output_type": "stream",
     "text": [
      "Средняя выручка с пользователя по тарифу \"Smart\" 1250.01 рублей.\n",
      "Средняя выручка с пользователя по тарифу \"Ultra\" 2060.42 рублей.\n"
     ]
    }
   ],
   "source": [
    "print('Средняя выручка с пользователя по тарифу \"Smart\" {:.2f} рублей.'.format(data_smart['revenue_month'].mean()))\n",
    "print('Средняя выручка с пользователя по тарифу \"Ultra\" {:.2f} рублей.'.format(data_ultra['revenue_month'].mean()))"
   ]
  },
  {
   "cell_type": "markdown",
   "metadata": {},
   "source": [
    "Проверим еще одну гипотезу: выручка по тарифам не зависит от города проживания абонента (одинакова в Москве и регионах)."
   ]
  },
  {
   "cell_type": "code",
   "execution_count": 19,
   "metadata": {},
   "outputs": [
    {
     "data": {
      "text/plain": [
       "array(['Регионы', 'Москва'], dtype=object)"
      ]
     },
     "execution_count": 19,
     "metadata": {},
     "output_type": "execute_result"
    }
   ],
   "source": [
    "#Формируем столбец с разбивкой Москва/регионы:\n",
    "data['moscow_regions'] = (data['city'] == 'Москва')\n",
    "data.loc[data['moscow_regions'] == True, 'moscow_regions'] = 'Москва'\n",
    "data.loc[data['moscow_regions'] == False, 'moscow_regions'] = 'Регионы'\n",
    "data['moscow_regions'].unique()"
   ]
  },
  {
   "cell_type": "code",
   "execution_count": 20,
   "metadata": {},
   "outputs": [
    {
     "data": {
      "image/png": "[encoded data removed]",
      "text/plain": [
       "<Figure size 1080x360 with 2 Axes>"
      ]
     },
     "metadata": {},
     "output_type": "display_data"
    }
   ],
   "source": [
    "#Строим гистограмму распределения выручки по заданному критерию:\n",
    "#Примечание: в тренажере, видимо, не установлен последний seaborn, нужный график не отображается. Выведу другой.\n",
    "#sns.displot(data=data.sort_values(by = 'tariff'),\n",
    "#            x='revenue_month',\n",
    "#            hue='tariff',\n",
    "#            col='moscow_regions',\n",
    "#            bins=30,\n",
    "#            kde=True)\n",
    "#plt.show()\n",
    "\n",
    "sns.set()\n",
    "fig,axes=plt.subplots(1,2)\n",
    "fig.set_size_inches(15, 5)\n",
    "for regions in ['Москва', 'Регионы']:\n",
    "  ax = sns.distplot(data.query('tariff == \"smart\" and moscow_regions == @regions')['revenue_month'], label = regions, ax = axes[0])\n",
    "  ax1 = sns.distplot(data.query('tariff == \"ultra\"and moscow_regions == @regions')['revenue_month'], label = regions, ax = axes[1])\n",
    "\n",
    "ax.set(title = \"Распределение выручки по тарифу Smart\",\n",
    "      xlabel = \"Выручка по пользователям, руб\",\n",
    "      ylabel = \"Плотность вероятности\")\n",
    "ax1.set(title = \"Распределение выручки по тарифу Ultra\",\n",
    "      xlabel = \"Выручка по пользователям, руб\",\n",
    "      ylabel = \"Плотность вероятности\")\n",
    "      \n",
    "ax.legend()\n",
    "ax1.legend()\n",
    "plt.show()"
   ]
  },
  {
   "cell_type": "code",
   "execution_count": 21,
   "metadata": {},
   "outputs": [
    {
     "name": "stdout",
     "output_type": "stream",
     "text": [
      "Характеристики распределения ежемесячной выручки по тарифу \"Smart\" в Москве:\n"
     ]
    },
    {
     "data": {
      "text/html": [
       "<style  type=\"text/css\" >\n",
       "</style><table id=\"T_676f85e8_8290_11ec_bff3_02420a394340\" ><thead>    <tr>        <th class=\"blank level0\" ></th>        <th class=\"col_heading level0 col0\" >revenue_month</th>    </tr></thead><tbody>\n",
       "                <tr>\n",
       "                        <th id=\"T_676f85e8_8290_11ec_bff3_02420a394340level0_row0\" class=\"row_heading level0 row0\" >count</th>\n",
       "                        <td id=\"T_676f85e8_8290_11ec_bff3_02420a394340row0_col0\" class=\"data row0 col0\" >386.00</td>\n",
       "            </tr>\n",
       "            <tr>\n",
       "                        <th id=\"T_676f85e8_8290_11ec_bff3_02420a394340level0_row1\" class=\"row_heading level0 row1\" >mean</th>\n",
       "                        <td id=\"T_676f85e8_8290_11ec_bff3_02420a394340row1_col0\" class=\"data row1 col0\" >1198.43</td>\n",
       "            </tr>\n",
       "            <tr>\n",
       "                        <th id=\"T_676f85e8_8290_11ec_bff3_02420a394340level0_row2\" class=\"row_heading level0 row2\" >std</th>\n",
       "                        <td id=\"T_676f85e8_8290_11ec_bff3_02420a394340row2_col0\" class=\"data row2 col0\" >727.73</td>\n",
       "            </tr>\n",
       "            <tr>\n",
       "                        <th id=\"T_676f85e8_8290_11ec_bff3_02420a394340level0_row3\" class=\"row_heading level0 row3\" >min</th>\n",
       "                        <td id=\"T_676f85e8_8290_11ec_bff3_02420a394340row3_col0\" class=\"data row3 col0\" >550.00</td>\n",
       "            </tr>\n",
       "            <tr>\n",
       "                        <th id=\"T_676f85e8_8290_11ec_bff3_02420a394340level0_row4\" class=\"row_heading level0 row4\" >25%</th>\n",
       "                        <td id=\"T_676f85e8_8290_11ec_bff3_02420a394340row4_col0\" class=\"data row4 col0\" >550.00</td>\n",
       "            </tr>\n",
       "            <tr>\n",
       "                        <th id=\"T_676f85e8_8290_11ec_bff3_02420a394340level0_row5\" class=\"row_heading level0 row5\" >50%</th>\n",
       "                        <td id=\"T_676f85e8_8290_11ec_bff3_02420a394340row5_col0\" class=\"data row5 col0\" >979.55</td>\n",
       "            </tr>\n",
       "            <tr>\n",
       "                        <th id=\"T_676f85e8_8290_11ec_bff3_02420a394340level0_row6\" class=\"row_heading level0 row6\" >75%</th>\n",
       "                        <td id=\"T_676f85e8_8290_11ec_bff3_02420a394340row6_col0\" class=\"data row6 col0\" >1624.09</td>\n",
       "            </tr>\n",
       "            <tr>\n",
       "                        <th id=\"T_676f85e8_8290_11ec_bff3_02420a394340level0_row7\" class=\"row_heading level0 row7\" >max</th>\n",
       "                        <td id=\"T_676f85e8_8290_11ec_bff3_02420a394340row7_col0\" class=\"data row7 col0\" >5222.43</td>\n",
       "            </tr>\n",
       "    </tbody></table>"
      ],
      "text/plain": [
       "<pandas.io.formats.style.Styler at 0x7feec89cd510>"
      ]
     },
     "metadata": {},
     "output_type": "display_data"
    },
    {
     "name": "stdout",
     "output_type": "stream",
     "text": [
      "Характеристики распределения ежемесячной выручки по тарифу \"Smart\" в регионах:\n"
     ]
    },
    {
     "data": {
      "text/html": [
       "<style  type=\"text/css\" >\n",
       "</style><table id=\"T_6770d74a_8290_11ec_bff3_02420a394340\" ><thead>    <tr>        <th class=\"blank level0\" ></th>        <th class=\"col_heading level0 col0\" >revenue_month</th>    </tr></thead><tbody>\n",
       "                <tr>\n",
       "                        <th id=\"T_6770d74a_8290_11ec_bff3_02420a394340level0_row0\" class=\"row_heading level0 row0\" >count</th>\n",
       "                        <td id=\"T_6770d74a_8290_11ec_bff3_02420a394340row0_col0\" class=\"data row0 col0\" >1844.00</td>\n",
       "            </tr>\n",
       "            <tr>\n",
       "                        <th id=\"T_6770d74a_8290_11ec_bff3_02420a394340level0_row1\" class=\"row_heading level0 row1\" >mean</th>\n",
       "                        <td id=\"T_6770d74a_8290_11ec_bff3_02420a394340row1_col0\" class=\"data row1 col0\" >1260.81</td>\n",
       "            </tr>\n",
       "            <tr>\n",
       "                        <th id=\"T_6770d74a_8290_11ec_bff3_02420a394340level0_row2\" class=\"row_heading level0 row2\" >std</th>\n",
       "                        <td id=\"T_6770d74a_8290_11ec_bff3_02420a394340row2_col0\" class=\"data row2 col0\" >810.51</td>\n",
       "            </tr>\n",
       "            <tr>\n",
       "                        <th id=\"T_6770d74a_8290_11ec_bff3_02420a394340level0_row3\" class=\"row_heading level0 row3\" >min</th>\n",
       "                        <td id=\"T_6770d74a_8290_11ec_bff3_02420a394340row3_col0\" class=\"data row3 col0\" >550.00</td>\n",
       "            </tr>\n",
       "            <tr>\n",
       "                        <th id=\"T_6770d74a_8290_11ec_bff3_02420a394340level0_row4\" class=\"row_heading level0 row4\" >25%</th>\n",
       "                        <td id=\"T_6770d74a_8290_11ec_bff3_02420a394340row4_col0\" class=\"data row4 col0\" >556.00</td>\n",
       "            </tr>\n",
       "            <tr>\n",
       "                        <th id=\"T_6770d74a_8290_11ec_bff3_02420a394340level0_row5\" class=\"row_heading level0 row5\" >50%</th>\n",
       "                        <td id=\"T_6770d74a_8290_11ec_bff3_02420a394340row5_col0\" class=\"data row5 col0\" >987.93</td>\n",
       "            </tr>\n",
       "            <tr>\n",
       "                        <th id=\"T_6770d74a_8290_11ec_bff3_02420a394340level0_row6\" class=\"row_heading level0 row6\" >75%</th>\n",
       "                        <td id=\"T_6770d74a_8290_11ec_bff3_02420a394340row6_col0\" class=\"data row6 col0\" >1723.11</td>\n",
       "            </tr>\n",
       "            <tr>\n",
       "                        <th id=\"T_6770d74a_8290_11ec_bff3_02420a394340level0_row7\" class=\"row_heading level0 row7\" >max</th>\n",
       "                        <td id=\"T_6770d74a_8290_11ec_bff3_02420a394340row7_col0\" class=\"data row7 col0\" >6765.02</td>\n",
       "            </tr>\n",
       "    </tbody></table>"
      ],
      "text/plain": [
       "<pandas.io.formats.style.Styler at 0x7feec8b34a10>"
      ]
     },
     "metadata": {},
     "output_type": "display_data"
    },
    {
     "name": "stdout",
     "output_type": "stream",
     "text": [
      "Характеристики распределения ежемесячной выручки по тарифу \"Ultra\" в Москве:\n"
     ]
    },
    {
     "data": {
      "text/html": [
       "<style  type=\"text/css\" >\n",
       "</style><table id=\"T_6772d81a_8290_11ec_bff3_02420a394340\" ><thead>    <tr>        <th class=\"blank level0\" ></th>        <th class=\"col_heading level0 col0\" >revenue_month</th>    </tr></thead><tbody>\n",
       "                <tr>\n",
       "                        <th id=\"T_6772d81a_8290_11ec_bff3_02420a394340level0_row0\" class=\"row_heading level0 row0\" >count</th>\n",
       "                        <td id=\"T_6772d81a_8290_11ec_bff3_02420a394340row0_col0\" class=\"data row0 col0\" >225.00</td>\n",
       "            </tr>\n",
       "            <tr>\n",
       "                        <th id=\"T_6772d81a_8290_11ec_bff3_02420a394340level0_row1\" class=\"row_heading level0 row1\" >mean</th>\n",
       "                        <td id=\"T_6772d81a_8290_11ec_bff3_02420a394340row1_col0\" class=\"data row1 col0\" >2063.63</td>\n",
       "            </tr>\n",
       "            <tr>\n",
       "                        <th id=\"T_6772d81a_8290_11ec_bff3_02420a394340level0_row2\" class=\"row_heading level0 row2\" >std</th>\n",
       "                        <td id=\"T_6772d81a_8290_11ec_bff3_02420a394340row2_col0\" class=\"data row2 col0\" >330.57</td>\n",
       "            </tr>\n",
       "            <tr>\n",
       "                        <th id=\"T_6772d81a_8290_11ec_bff3_02420a394340level0_row3\" class=\"row_heading level0 row3\" >min</th>\n",
       "                        <td id=\"T_6772d81a_8290_11ec_bff3_02420a394340row3_col0\" class=\"data row3 col0\" >1950.00</td>\n",
       "            </tr>\n",
       "            <tr>\n",
       "                        <th id=\"T_6772d81a_8290_11ec_bff3_02420a394340level0_row4\" class=\"row_heading level0 row4\" >25%</th>\n",
       "                        <td id=\"T_6772d81a_8290_11ec_bff3_02420a394340row4_col0\" class=\"data row4 col0\" >1950.00</td>\n",
       "            </tr>\n",
       "            <tr>\n",
       "                        <th id=\"T_6772d81a_8290_11ec_bff3_02420a394340level0_row5\" class=\"row_heading level0 row5\" >50%</th>\n",
       "                        <td id=\"T_6772d81a_8290_11ec_bff3_02420a394340row5_col0\" class=\"data row5 col0\" >1950.00</td>\n",
       "            </tr>\n",
       "            <tr>\n",
       "                        <th id=\"T_6772d81a_8290_11ec_bff3_02420a394340level0_row6\" class=\"row_heading level0 row6\" >75%</th>\n",
       "                        <td id=\"T_6772d81a_8290_11ec_bff3_02420a394340row6_col0\" class=\"data row6 col0\" >1950.00</td>\n",
       "            </tr>\n",
       "            <tr>\n",
       "                        <th id=\"T_6772d81a_8290_11ec_bff3_02420a394340level0_row7\" class=\"row_heading level0 row7\" >max</th>\n",
       "                        <td id=\"T_6772d81a_8290_11ec_bff3_02420a394340row7_col0\" class=\"data row7 col0\" >3945.26</td>\n",
       "            </tr>\n",
       "    </tbody></table>"
      ],
      "text/plain": [
       "<pandas.io.formats.style.Styler at 0x7feec8944650>"
      ]
     },
     "metadata": {},
     "output_type": "display_data"
    },
    {
     "name": "stdout",
     "output_type": "stream",
     "text": [
      "Характеристики распределения ежемесячной выручки по тарифу \"Ultra\" в регионах:\n"
     ]
    },
    {
     "data": {
      "text/html": [
       "<style  type=\"text/css\" >\n",
       "</style><table id=\"T_67743264_8290_11ec_bff3_02420a394340\" ><thead>    <tr>        <th class=\"blank level0\" ></th>        <th class=\"col_heading level0 col0\" >revenue_month</th>    </tr></thead><tbody>\n",
       "                <tr>\n",
       "                        <th id=\"T_67743264_8290_11ec_bff3_02420a394340level0_row0\" class=\"row_heading level0 row0\" >count</th>\n",
       "                        <td id=\"T_67743264_8290_11ec_bff3_02420a394340row0_col0\" class=\"data row0 col0\" >761.00</td>\n",
       "            </tr>\n",
       "            <tr>\n",
       "                        <th id=\"T_67743264_8290_11ec_bff3_02420a394340level0_row1\" class=\"row_heading level0 row1\" >mean</th>\n",
       "                        <td id=\"T_67743264_8290_11ec_bff3_02420a394340row1_col0\" class=\"data row1 col0\" >2059.47</td>\n",
       "            </tr>\n",
       "            <tr>\n",
       "                        <th id=\"T_67743264_8290_11ec_bff3_02420a394340level0_row2\" class=\"row_heading level0 row2\" >std</th>\n",
       "                        <td id=\"T_67743264_8290_11ec_bff3_02420a394340row2_col0\" class=\"data row2 col0\" >363.56</td>\n",
       "            </tr>\n",
       "            <tr>\n",
       "                        <th id=\"T_67743264_8290_11ec_bff3_02420a394340level0_row3\" class=\"row_heading level0 row3\" >min</th>\n",
       "                        <td id=\"T_67743264_8290_11ec_bff3_02420a394340row3_col0\" class=\"data row3 col0\" >1950.00</td>\n",
       "            </tr>\n",
       "            <tr>\n",
       "                        <th id=\"T_67743264_8290_11ec_bff3_02420a394340level0_row4\" class=\"row_heading level0 row4\" >25%</th>\n",
       "                        <td id=\"T_67743264_8290_11ec_bff3_02420a394340row4_col0\" class=\"data row4 col0\" >1950.00</td>\n",
       "            </tr>\n",
       "            <tr>\n",
       "                        <th id=\"T_67743264_8290_11ec_bff3_02420a394340level0_row5\" class=\"row_heading level0 row5\" >50%</th>\n",
       "                        <td id=\"T_67743264_8290_11ec_bff3_02420a394340row5_col0\" class=\"data row5 col0\" >1950.00</td>\n",
       "            </tr>\n",
       "            <tr>\n",
       "                        <th id=\"T_67743264_8290_11ec_bff3_02420a394340level0_row6\" class=\"row_heading level0 row6\" >75%</th>\n",
       "                        <td id=\"T_67743264_8290_11ec_bff3_02420a394340row6_col0\" class=\"data row6 col0\" >1950.00</td>\n",
       "            </tr>\n",
       "            <tr>\n",
       "                        <th id=\"T_67743264_8290_11ec_bff3_02420a394340level0_row7\" class=\"row_heading level0 row7\" >max</th>\n",
       "                        <td id=\"T_67743264_8290_11ec_bff3_02420a394340row7_col0\" class=\"data row7 col0\" >4743.31</td>\n",
       "            </tr>\n",
       "    </tbody></table>"
      ],
      "text/plain": [
       "<pandas.io.formats.style.Styler at 0x7fee53d44850>"
      ]
     },
     "metadata": {},
     "output_type": "display_data"
    }
   ],
   "source": [
    "data_smart_moscow = data.query('tariff == \"smart\" and moscow_regions == \"Москва\"')\n",
    "data_smart_regions = data.query('tariff == \"smart\" and moscow_regions == \"Регионы\"')\n",
    "print('Характеристики распределения ежемесячной выручки по тарифу \"Smart\" в Москве:')\n",
    "display(data_smart_moscow[['revenue_month']].describe().style.format('{:.2f}'))\n",
    "print('Характеристики распределения ежемесячной выручки по тарифу \"Smart\" в регионах:')\n",
    "display(data_smart_regions[['revenue_month']].describe().style.format('{:.2f}'))\n",
    "\n",
    "data_ultra_moscow = data.query('tariff == \"ultra\" and moscow_regions == \"Москва\"')\n",
    "data_ultra_regions = data.query('tariff == \"ultra\" and moscow_regions == \"Регионы\"')\n",
    "print('Характеристики распределения ежемесячной выручки по тарифу \"Ultra\" в Москве:')\n",
    "display(data_ultra_moscow[['revenue_month']].describe().style.format('{:.2f}'))\n",
    "print('Характеристики распределения ежемесячной выручки по тарифу \"Ultra\" в регионах:')\n",
    "display(data_ultra_regions[['revenue_month']].describe().style.format('{:.2f}'))"
   ]
  },
  {
   "cell_type": "markdown",
   "metadata": {},
   "source": [
    "По графикам и характеристикам распределения выручки по Москве и регионам можно увидеть:\n",
    "\n",
    "Характер распределения выручки по обоим тарифам в Москве и за её пределами одинаков;\n",
    "Средняя выручка в регионах чуть выше, чем аналогичный показатель по Москве.\n",
    "Проведем тест, чтобы отвергнуть/подтвердить нулевую гипотезу отдельно по каждому тарифу.\n",
    "\n"
   ]
  },
  {
   "cell_type": "code",
   "execution_count": 22,
   "metadata": {},
   "outputs": [
    {
     "name": "stdout",
     "output_type": "stream",
     "text": [
      "p-значение: 0.16206691957539598\n",
      "Не получилось отвергнуть нулевую гипотезу\n"
     ]
    }
   ],
   "source": [
    "#Проверяем гипотезу о равенстве выручки по тарифу Smart:\n",
    "alpha = 0.05\n",
    "results = st.ttest_ind(\n",
    "    data_smart_moscow['revenue_month'], \n",
    "    data_smart_regions['revenue_month'],\n",
    "    equal_var = True)\n",
    "print('p-значение:', results.pvalue)\n",
    " \n",
    "if (results.pvalue < alpha):\n",
    "    print(\"Отвергаем нулевую гипотезу\")\n",
    "else:\n",
    "    print(\"Не получилось отвергнуть нулевую гипотезу\")"
   ]
  },
  {
   "cell_type": "code",
   "execution_count": 23,
   "metadata": {},
   "outputs": [
    {
     "name": "stdout",
     "output_type": "stream",
     "text": [
      "p-значение: 0.8777956407389418\n",
      "Не получилось отвергнуть нулевую гипотезу\n"
     ]
    }
   ],
   "source": [
    "#Проверяем гипотезу о равенстве выручки по тарифу Ultra:\n",
    "alpha = 0.05\n",
    "results = st.ttest_ind(\n",
    "    data_ultra_moscow['revenue_month'], \n",
    "    data_ultra_regions['revenue_month'],\n",
    "    equal_var = True)\n",
    "print('p-значение:', results.pvalue)\n",
    " \n",
    "if (results.pvalue < alpha):\n",
    "    print(\"Отвергаем нулевую гипотезу\")\n",
    "else:\n",
    "    print(\"Не получилось отвергнуть нулевую гипотезу\")"
   ]
  },
  {
   "cell_type": "markdown",
   "metadata": {},
   "source": [
    "Вероятность ошибки при отклонении этой гипотезы - болльше 88%. То есть с высокой долей вероятности мы можем утверждать, что по тарифу \"Ultra\" выручка будет одинаковой по всей стране и будет примерно равна абонентской плате. Это подтверждает наша выборка - большинство абонентов укладывается в ежемесячные лимиты, установленные оператором.\n",
    "\n",
    "Третьим этапом сравним выручку сотового оператора по локации абонентов без разбивки по тарифам. Нулевая гипотеза - выручка одинакова вне зависимости от региона.\n",
    "\n",
    "Считаем характеристики распределения выручки по Москве и регионам."
   ]
  },
  {
   "cell_type": "code",
   "execution_count": 24,
   "metadata": {},
   "outputs": [
    {
     "name": "stdout",
     "output_type": "stream",
     "text": [
      "Характеристики распределения ежемесячной выручки оператора в Москве:\n"
     ]
    },
    {
     "data": {
      "text/html": [
       "<style  type=\"text/css\" >\n",
       "</style><table id=\"T_6780bfac_8290_11ec_bff3_02420a394340\" ><thead>    <tr>        <th class=\"blank level0\" ></th>        <th class=\"col_heading level0 col0\" >revenue_month</th>    </tr></thead><tbody>\n",
       "                <tr>\n",
       "                        <th id=\"T_6780bfac_8290_11ec_bff3_02420a394340level0_row0\" class=\"row_heading level0 row0\" >count</th>\n",
       "                        <td id=\"T_6780bfac_8290_11ec_bff3_02420a394340row0_col0\" class=\"data row0 col0\" >611.00</td>\n",
       "            </tr>\n",
       "            <tr>\n",
       "                        <th id=\"T_6780bfac_8290_11ec_bff3_02420a394340level0_row1\" class=\"row_heading level0 row1\" >mean</th>\n",
       "                        <td id=\"T_6780bfac_8290_11ec_bff3_02420a394340row1_col0\" class=\"data row1 col0\" >1517.04</td>\n",
       "            </tr>\n",
       "            <tr>\n",
       "                        <th id=\"T_6780bfac_8290_11ec_bff3_02420a394340level0_row2\" class=\"row_heading level0 row2\" >std</th>\n",
       "                        <td id=\"T_6780bfac_8290_11ec_bff3_02420a394340row2_col0\" class=\"data row2 col0\" >740.82</td>\n",
       "            </tr>\n",
       "            <tr>\n",
       "                        <th id=\"T_6780bfac_8290_11ec_bff3_02420a394340level0_row3\" class=\"row_heading level0 row3\" >min</th>\n",
       "                        <td id=\"T_6780bfac_8290_11ec_bff3_02420a394340row3_col0\" class=\"data row3 col0\" >550.00</td>\n",
       "            </tr>\n",
       "            <tr>\n",
       "                        <th id=\"T_6780bfac_8290_11ec_bff3_02420a394340level0_row4\" class=\"row_heading level0 row4\" >25%</th>\n",
       "                        <td id=\"T_6780bfac_8290_11ec_bff3_02420a394340row4_col0\" class=\"data row4 col0\" >766.00</td>\n",
       "            </tr>\n",
       "            <tr>\n",
       "                        <th id=\"T_6780bfac_8290_11ec_bff3_02420a394340level0_row5\" class=\"row_heading level0 row5\" >50%</th>\n",
       "                        <td id=\"T_6780bfac_8290_11ec_bff3_02420a394340row5_col0\" class=\"data row5 col0\" >1730.27</td>\n",
       "            </tr>\n",
       "            <tr>\n",
       "                        <th id=\"T_6780bfac_8290_11ec_bff3_02420a394340level0_row6\" class=\"row_heading level0 row6\" >75%</th>\n",
       "                        <td id=\"T_6780bfac_8290_11ec_bff3_02420a394340row6_col0\" class=\"data row6 col0\" >1950.00</td>\n",
       "            </tr>\n",
       "            <tr>\n",
       "                        <th id=\"T_6780bfac_8290_11ec_bff3_02420a394340level0_row7\" class=\"row_heading level0 row7\" >max</th>\n",
       "                        <td id=\"T_6780bfac_8290_11ec_bff3_02420a394340row7_col0\" class=\"data row7 col0\" >5222.43</td>\n",
       "            </tr>\n",
       "    </tbody></table>"
      ],
      "text/plain": [
       "<pandas.io.formats.style.Styler at 0x7feec8a60a90>"
      ]
     },
     "metadata": {},
     "output_type": "display_data"
    },
    {
     "name": "stdout",
     "output_type": "stream",
     "text": [
      "Характеристики распределения ежемесячной выручки оператора в регионах:\n"
     ]
    },
    {
     "data": {
      "text/html": [
       "<style  type=\"text/css\" >\n",
       "</style><table id=\"T_67825dbc_8290_11ec_bff3_02420a394340\" ><thead>    <tr>        <th class=\"blank level0\" ></th>        <th class=\"col_heading level0 col0\" >revenue_month</th>    </tr></thead><tbody>\n",
       "                <tr>\n",
       "                        <th id=\"T_67825dbc_8290_11ec_bff3_02420a394340level0_row0\" class=\"row_heading level0 row0\" >count</th>\n",
       "                        <td id=\"T_67825dbc_8290_11ec_bff3_02420a394340row0_col0\" class=\"data row0 col0\" >2605.00</td>\n",
       "            </tr>\n",
       "            <tr>\n",
       "                        <th id=\"T_67825dbc_8290_11ec_bff3_02420a394340level0_row1\" class=\"row_heading level0 row1\" >mean</th>\n",
       "                        <td id=\"T_67825dbc_8290_11ec_bff3_02420a394340row1_col0\" class=\"data row1 col0\" >1494.12</td>\n",
       "            </tr>\n",
       "            <tr>\n",
       "                        <th id=\"T_67825dbc_8290_11ec_bff3_02420a394340level0_row2\" class=\"row_heading level0 row2\" >std</th>\n",
       "                        <td id=\"T_67825dbc_8290_11ec_bff3_02420a394340row2_col0\" class=\"data row2 col0\" >797.17</td>\n",
       "            </tr>\n",
       "            <tr>\n",
       "                        <th id=\"T_67825dbc_8290_11ec_bff3_02420a394340level0_row3\" class=\"row_heading level0 row3\" >min</th>\n",
       "                        <td id=\"T_67825dbc_8290_11ec_bff3_02420a394340row3_col0\" class=\"data row3 col0\" >550.00</td>\n",
       "            </tr>\n",
       "            <tr>\n",
       "                        <th id=\"T_67825dbc_8290_11ec_bff3_02420a394340level0_row4\" class=\"row_heading level0 row4\" >25%</th>\n",
       "                        <td id=\"T_67825dbc_8290_11ec_bff3_02420a394340row4_col0\" class=\"data row4 col0\" >703.00</td>\n",
       "            </tr>\n",
       "            <tr>\n",
       "                        <th id=\"T_67825dbc_8290_11ec_bff3_02420a394340level0_row5\" class=\"row_heading level0 row5\" >50%</th>\n",
       "                        <td id=\"T_67825dbc_8290_11ec_bff3_02420a394340row5_col0\" class=\"data row5 col0\" >1544.34</td>\n",
       "            </tr>\n",
       "            <tr>\n",
       "                        <th id=\"T_67825dbc_8290_11ec_bff3_02420a394340level0_row6\" class=\"row_heading level0 row6\" >75%</th>\n",
       "                        <td id=\"T_67825dbc_8290_11ec_bff3_02420a394340row6_col0\" class=\"data row6 col0\" >1950.00</td>\n",
       "            </tr>\n",
       "            <tr>\n",
       "                        <th id=\"T_67825dbc_8290_11ec_bff3_02420a394340level0_row7\" class=\"row_heading level0 row7\" >max</th>\n",
       "                        <td id=\"T_67825dbc_8290_11ec_bff3_02420a394340row7_col0\" class=\"data row7 col0\" >6765.02</td>\n",
       "            </tr>\n",
       "    </tbody></table>"
      ],
      "text/plain": [
       "<pandas.io.formats.style.Styler at 0x7feec89cc650>"
      ]
     },
     "metadata": {},
     "output_type": "display_data"
    }
   ],
   "source": [
    "data_moscow = data.query('moscow_regions == \"Москва\"')\n",
    "data_regions = data.query('moscow_regions == \"Регионы\"')\n",
    "print('Характеристики распределения ежемесячной выручки оператора в Москве:')\n",
    "display(data_moscow[['revenue_month']].describe().style.format('{:.2f}'))\n",
    "print('Характеристики распределения ежемесячной выручки оператора в регионах:')\n",
    "display(data_regions[['revenue_month']].describe().style.format('{:.2f}'))"
   ]
  },
  {
   "cell_type": "code",
   "execution_count": 25,
   "metadata": {},
   "outputs": [
    {
     "name": "stdout",
     "output_type": "stream",
     "text": [
      "p-значение: 0.4978851055485567\n",
      "Не получилось отвергнуть нулевую гипотезу\n"
     ]
    }
   ],
   "source": [
    "#Проверяем гипотезу о равенстве выручки в целом по Москве/регионам:\n",
    "alpha = 0.05\n",
    "results = st.ttest_ind(\n",
    "    data_moscow['revenue_month'], \n",
    "    data_regions['revenue_month'],\n",
    "    equal_var = False)\n",
    "print('p-значение:', results.pvalue)\n",
    " \n",
    "if (results.pvalue < alpha):\n",
    "    print(\"Отвергаем нулевую гипотезу\")\n",
    "else:\n",
    "    print(\"Не получилось отвергнуть нулевую гипотезу\")"
   ]
  },
  {
   "cell_type": "markdown",
   "metadata": {},
   "source": [
    "Таким образом, вероятность ошибки при отклонении нулевой гипотезы около 50%. Или ошибёмся, или нет :). Принимаем, что выручка оператора не зависит от места проживания абонента."
   ]
  },
  {
   "cell_type": "markdown",
   "metadata": {},
   "source": [
    "<h1>7.Вывод</h1>"
   ]
  },
  {
   "cell_type": "markdown",
   "metadata": {},
   "source": [
    "Проведя статистический анализ выборки из 500 абонентов сотового оператора, можем сделать следующие выводы:\n",
    "\n",
    "Основные различия между пользовательским поведением - значительное увеличение потребления интернет-трафика на тарифе \"Ultra\". Длительность звонков и отправка сообщений значительно не различаются.\n",
    "Пользователи тарифа \"Smart\" в половине случаев не укладываются в лимиты звонков и трафика, но даже с учетом оплаты сверх лимита тратят в среднем меньше суммы абонентской платы тарифа \"Ultra\".\n",
    "Тариф \"Ultra\" более выгоден для мобильного оператора. Меньше 25% пользователей превышают лимиты, но средняя выручка выше за счет высокой абонентской платы."
   ]
  },
  {
   "cell_type": "code",
   "execution_count": null,
   "metadata": {},
   "outputs": [],
   "source": []
  }
 ],
 "metadata": {
  "ExecuteTimeLog": [
   {
    "duration": 776,
    "start_time": "2022-01-27T13:56:03.799Z"
   },
   {
    "duration": 435,
    "start_time": "2022-01-27T13:57:19.263Z"
   },
   {
    "duration": 460,
    "start_time": "2022-01-27T13:58:54.404Z"
   },
   {
    "duration": 681,
    "start_time": "2022-01-27T14:05:39.003Z"
   },
   {
    "duration": 437,
    "start_time": "2022-01-27T14:06:17.938Z"
   },
   {
    "duration": 448,
    "start_time": "2022-01-27T14:06:55.582Z"
   },
   {
    "duration": 494,
    "start_time": "2022-01-27T14:06:59.823Z"
   },
   {
    "duration": 483,
    "start_time": "2022-01-27T14:32:02.514Z"
   },
   {
    "duration": 444,
    "start_time": "2022-01-27T14:32:29.257Z"
   },
   {
    "duration": 570,
    "start_time": "2022-01-27T14:32:40.133Z"
   },
   {
    "duration": 430,
    "start_time": "2022-01-27T14:32:44.284Z"
   },
   {
    "duration": 48,
    "start_time": "2022-01-27T14:32:56.201Z"
   },
   {
    "duration": 460,
    "start_time": "2022-01-27T14:33:06.114Z"
   },
   {
    "duration": 125,
    "start_time": "2022-01-27T14:35:48.261Z"
   },
   {
    "duration": 736,
    "start_time": "2022-01-27T14:36:31.788Z"
   },
   {
    "duration": 145,
    "start_time": "2022-01-27T14:36:32.526Z"
   },
   {
    "duration": 90,
    "start_time": "2022-01-27T14:36:32.673Z"
   },
   {
    "duration": 22,
    "start_time": "2022-01-27T14:36:32.764Z"
   },
   {
    "duration": 45,
    "start_time": "2022-01-27T14:36:32.787Z"
   },
   {
    "duration": 344,
    "start_time": "2022-01-27T14:37:59.208Z"
   },
   {
    "duration": 193,
    "start_time": "2022-01-27T14:38:15.324Z"
   },
   {
    "duration": 147,
    "start_time": "2022-01-27T14:38:18.183Z"
   },
   {
    "duration": 256,
    "start_time": "2022-01-27T14:38:24.333Z"
   },
   {
    "duration": 112,
    "start_time": "2022-01-27T14:38:29.839Z"
   },
   {
    "duration": 31,
    "start_time": "2022-01-27T14:38:31.970Z"
   },
   {
    "duration": 43,
    "start_time": "2022-01-27T14:38:33.961Z"
   },
   {
    "duration": 50,
    "start_time": "2022-01-27T15:07:53.509Z"
   },
   {
    "duration": 41,
    "start_time": "2022-01-27T15:07:58.348Z"
   },
   {
    "duration": 50,
    "start_time": "2022-01-27T15:08:26.077Z"
   },
   {
    "duration": 42,
    "start_time": "2022-01-27T15:08:37.849Z"
   },
   {
    "duration": 44,
    "start_time": "2022-01-27T15:10:25.878Z"
   },
   {
    "duration": 39,
    "start_time": "2022-01-27T15:12:39.608Z"
   },
   {
    "duration": 50,
    "start_time": "2022-01-27T15:12:54.784Z"
   },
   {
    "duration": 181,
    "start_time": "2022-01-27T15:32:04.056Z"
   },
   {
    "duration": 79,
    "start_time": "2022-01-27T15:33:35.550Z"
   },
   {
    "duration": 3,
    "start_time": "2022-01-27T15:33:51.036Z"
   },
   {
    "duration": 45,
    "start_time": "2022-01-27T16:37:34.495Z"
   },
   {
    "duration": 51,
    "start_time": "2022-01-27T16:37:54.076Z"
   },
   {
    "duration": 3155,
    "start_time": "2022-01-27T16:38:34.320Z"
   },
   {
    "duration": 136,
    "start_time": "2022-01-27T16:38:46.918Z"
   },
   {
    "duration": 55,
    "start_time": "2022-01-27T16:39:09.657Z"
   },
   {
    "duration": 63,
    "start_time": "2022-01-27T16:39:36.628Z"
   },
   {
    "duration": 55,
    "start_time": "2022-01-27T16:39:53.489Z"
   },
   {
    "duration": 186,
    "start_time": "2022-01-27T18:15:02.651Z"
   },
   {
    "duration": 54,
    "start_time": "2022-01-27T19:28:11.050Z"
   },
   {
    "duration": 390,
    "start_time": "2022-01-28T12:39:47.436Z"
   },
   {
    "duration": 908,
    "start_time": "2022-01-28T12:39:56.975Z"
   },
   {
    "duration": 263,
    "start_time": "2022-01-28T12:39:57.886Z"
   },
   {
    "duration": 216,
    "start_time": "2022-01-28T12:39:58.160Z"
   },
   {
    "duration": 148,
    "start_time": "2022-01-28T12:39:58.379Z"
   },
   {
    "duration": 31,
    "start_time": "2022-01-28T12:39:58.529Z"
   },
   {
    "duration": 62,
    "start_time": "2022-01-28T12:39:58.562Z"
   },
   {
    "duration": 109,
    "start_time": "2022-01-28T12:39:58.627Z"
   },
   {
    "duration": 96,
    "start_time": "2022-01-28T12:40:09.210Z"
   },
   {
    "duration": 94,
    "start_time": "2022-01-28T12:41:16.540Z"
   },
   {
    "duration": 113,
    "start_time": "2022-01-28T12:41:41.945Z"
   },
   {
    "duration": 16,
    "start_time": "2022-01-28T12:41:46.049Z"
   },
   {
    "duration": 675,
    "start_time": "2022-01-28T15:39:41.922Z"
   },
   {
    "duration": 645,
    "start_time": "2022-01-28T15:39:55.061Z"
   },
   {
    "duration": 1508,
    "start_time": "2022-01-28T15:40:20.982Z"
   },
   {
    "duration": 3,
    "start_time": "2022-01-28T15:40:48.304Z"
   },
   {
    "duration": 327,
    "start_time": "2022-01-28T15:40:49.767Z"
   },
   {
    "duration": 316,
    "start_time": "2022-01-28T15:40:55.296Z"
   },
   {
    "duration": 821,
    "start_time": "2022-01-28T15:41:34.493Z"
   },
   {
    "duration": 589,
    "start_time": "2022-01-28T15:41:35.317Z"
   },
   {
    "duration": -119,
    "start_time": "2022-01-28T15:41:36.027Z"
   },
   {
    "duration": -121,
    "start_time": "2022-01-28T15:41:36.031Z"
   },
   {
    "duration": -122,
    "start_time": "2022-01-28T15:41:36.034Z"
   },
   {
    "duration": -224,
    "start_time": "2022-01-28T15:41:36.138Z"
   },
   {
    "duration": 669,
    "start_time": "2022-01-28T15:41:44.260Z"
   },
   {
    "duration": 355,
    "start_time": "2022-01-28T15:41:53.293Z"
   },
   {
    "duration": 490,
    "start_time": "2022-01-28T15:42:01.210Z"
   },
   {
    "duration": 53,
    "start_time": "2022-01-28T15:42:22.969Z"
   },
   {
    "duration": 31,
    "start_time": "2022-01-28T15:42:24.256Z"
   },
   {
    "duration": 140,
    "start_time": "2022-01-28T15:42:26.032Z"
   },
   {
    "duration": 209,
    "start_time": "2022-01-28T15:42:27.734Z"
   },
   {
    "duration": 7948,
    "start_time": "2022-01-28T19:13:56.936Z"
   },
   {
    "duration": 844,
    "start_time": "2022-01-28T19:14:25.070Z"
   },
   {
    "duration": 338,
    "start_time": "2022-01-28T19:14:25.916Z"
   },
   {
    "duration": 9168,
    "start_time": "2022-01-28T19:14:26.261Z"
   },
   {
    "duration": -266,
    "start_time": "2022-01-28T19:14:35.698Z"
   },
   {
    "duration": -266,
    "start_time": "2022-01-28T19:14:35.699Z"
   },
   {
    "duration": -267,
    "start_time": "2022-01-28T19:14:35.701Z"
   },
   {
    "duration": 8046,
    "start_time": "2022-01-28T19:14:41.760Z"
   },
   {
    "duration": 277,
    "start_time": "2022-01-28T19:15:05.936Z"
   },
   {
    "duration": 139,
    "start_time": "2022-01-28T19:15:21.965Z"
   },
   {
    "duration": 37,
    "start_time": "2022-01-28T19:15:26.487Z"
   },
   {
    "duration": 50,
    "start_time": "2022-01-28T19:15:31.944Z"
   },
   {
    "duration": 261,
    "start_time": "2022-01-28T19:15:53.080Z"
   },
   {
    "duration": 351,
    "start_time": "2022-01-28T19:29:31.014Z"
   },
   {
    "duration": 48,
    "start_time": "2022-01-28T19:30:29.172Z"
   },
   {
    "duration": 331,
    "start_time": "2022-01-28T19:30:31.929Z"
   },
   {
    "duration": 902,
    "start_time": "2022-01-28T19:30:57.844Z"
   },
   {
    "duration": 366,
    "start_time": "2022-01-28T19:30:58.749Z"
   },
   {
    "duration": 288,
    "start_time": "2022-01-28T19:30:59.118Z"
   },
   {
    "duration": 153,
    "start_time": "2022-01-28T19:30:59.409Z"
   },
   {
    "duration": 31,
    "start_time": "2022-01-28T19:30:59.564Z"
   },
   {
    "duration": 52,
    "start_time": "2022-01-28T19:30:59.597Z"
   },
   {
    "duration": 885,
    "start_time": "2022-01-28T19:30:59.659Z"
   },
   {
    "duration": 53,
    "start_time": "2022-01-28T19:31:34.342Z"
   },
   {
    "duration": 53,
    "start_time": "2022-01-28T19:31:37.043Z"
   },
   {
    "duration": 62,
    "start_time": "2022-01-28T19:32:02.223Z"
   },
   {
    "duration": 72,
    "start_time": "2022-01-28T19:32:18.268Z"
   },
   {
    "duration": 74,
    "start_time": "2022-01-28T19:33:05.804Z"
   },
   {
    "duration": 8889,
    "start_time": "2022-01-28T19:33:14.615Z"
   },
   {
    "duration": 957,
    "start_time": "2022-01-28T19:33:50.351Z"
   },
   {
    "duration": 342,
    "start_time": "2022-01-28T19:33:51.311Z"
   },
   {
    "duration": 273,
    "start_time": "2022-01-28T19:33:51.660Z"
   },
   {
    "duration": 167,
    "start_time": "2022-01-28T19:33:51.936Z"
   },
   {
    "duration": 34,
    "start_time": "2022-01-28T19:33:52.107Z"
   },
   {
    "duration": 49,
    "start_time": "2022-01-28T19:33:52.160Z"
   },
   {
    "duration": 237,
    "start_time": "2022-01-28T19:33:52.212Z"
   },
   {
    "duration": 4,
    "start_time": "2022-01-28T19:34:48.596Z"
   },
   {
    "duration": 28,
    "start_time": "2022-01-28T19:34:53.120Z"
   },
   {
    "duration": 53,
    "start_time": "2022-01-28T19:35:01.474Z"
   },
   {
    "duration": 8596,
    "start_time": "2022-01-28T19:38:59.981Z"
   },
   {
    "duration": 890,
    "start_time": "2022-01-28T19:39:50.483Z"
   },
   {
    "duration": 339,
    "start_time": "2022-01-28T19:39:51.376Z"
   },
   {
    "duration": 273,
    "start_time": "2022-01-28T19:39:51.718Z"
   },
   {
    "duration": 154,
    "start_time": "2022-01-28T19:39:51.995Z"
   },
   {
    "duration": 34,
    "start_time": "2022-01-28T19:39:52.160Z"
   },
   {
    "duration": 48,
    "start_time": "2022-01-28T19:39:52.196Z"
   },
   {
    "duration": 392,
    "start_time": "2022-01-28T19:39:52.247Z"
   },
   {
    "duration": 63,
    "start_time": "2022-01-28T19:39:52.641Z"
   },
   {
    "duration": 35525,
    "start_time": "2022-01-28T19:40:11.659Z"
   },
   {
    "duration": 9266,
    "start_time": "2022-01-28T19:43:51.891Z"
   },
   {
    "duration": 8959,
    "start_time": "2022-01-28T19:44:26.475Z"
   },
   {
    "duration": 1221,
    "start_time": "2022-01-28T19:44:43.216Z"
   },
   {
    "duration": 557,
    "start_time": "2022-01-28T19:44:44.441Z"
   },
   {
    "duration": 459,
    "start_time": "2022-01-28T19:44:45.003Z"
   },
   {
    "duration": 215,
    "start_time": "2022-01-28T19:44:45.466Z"
   },
   {
    "duration": 37,
    "start_time": "2022-01-28T19:44:45.685Z"
   },
   {
    "duration": 55,
    "start_time": "2022-01-28T19:44:45.725Z"
   },
   {
    "duration": 297,
    "start_time": "2022-01-28T19:44:45.782Z"
   },
   {
    "duration": 106,
    "start_time": "2022-01-28T19:44:46.083Z"
   },
   {
    "duration": 9199,
    "start_time": "2022-01-28T19:44:54.841Z"
   },
   {
    "duration": 8510,
    "start_time": "2022-01-28T19:48:24.852Z"
   },
   {
    "duration": 8123,
    "start_time": "2022-01-28T19:49:17.036Z"
   },
   {
    "duration": 8354,
    "start_time": "2022-01-28T20:16:58.341Z"
   },
   {
    "duration": 918,
    "start_time": "2022-01-28T20:17:16.269Z"
   },
   {
    "duration": 321,
    "start_time": "2022-01-28T20:17:17.190Z"
   },
   {
    "duration": 272,
    "start_time": "2022-01-28T20:17:17.514Z"
   },
   {
    "duration": 144,
    "start_time": "2022-01-28T20:17:17.789Z"
   },
   {
    "duration": 40,
    "start_time": "2022-01-28T20:17:17.935Z"
   },
   {
    "duration": 47,
    "start_time": "2022-01-28T20:17:17.978Z"
   },
   {
    "duration": 335,
    "start_time": "2022-01-28T20:17:18.028Z"
   },
   {
    "duration": 55,
    "start_time": "2022-01-28T20:17:18.365Z"
   },
   {
    "duration": 9482,
    "start_time": "2022-01-28T20:19:12.004Z"
   },
   {
    "duration": 19199,
    "start_time": "2022-01-28T20:19:57.210Z"
   },
   {
    "duration": 362,
    "start_time": "2022-01-28T20:21:21.134Z"
   },
   {
    "duration": 343,
    "start_time": "2022-01-28T20:21:55.592Z"
   },
   {
    "duration": 926,
    "start_time": "2022-01-28T20:22:01.005Z"
   },
   {
    "duration": 336,
    "start_time": "2022-01-28T20:22:01.935Z"
   },
   {
    "duration": 288,
    "start_time": "2022-01-28T20:22:02.274Z"
   },
   {
    "duration": 146,
    "start_time": "2022-01-28T20:22:02.564Z"
   },
   {
    "duration": 31,
    "start_time": "2022-01-28T20:22:02.712Z"
   },
   {
    "duration": 49,
    "start_time": "2022-01-28T20:22:02.746Z"
   },
   {
    "duration": 238,
    "start_time": "2022-01-28T20:22:02.799Z"
   },
   {
    "duration": 468,
    "start_time": "2022-01-28T20:22:03.040Z"
   },
   {
    "duration": 28,
    "start_time": "2022-01-28T20:22:45.473Z"
   },
   {
    "duration": 46,
    "start_time": "2022-01-28T20:23:01.547Z"
   },
   {
    "duration": 329,
    "start_time": "2022-01-28T20:24:09.751Z"
   },
   {
    "duration": 67,
    "start_time": "2022-01-28T20:24:46.095Z"
   },
   {
    "duration": 59,
    "start_time": "2022-01-28T20:25:22.692Z"
   },
   {
    "duration": 62,
    "start_time": "2022-01-28T20:26:12.940Z"
   },
   {
    "duration": 58,
    "start_time": "2022-01-28T20:27:43.457Z"
   },
   {
    "duration": 59,
    "start_time": "2022-01-28T20:27:59.351Z"
   },
   {
    "duration": 61,
    "start_time": "2022-01-28T20:30:32.645Z"
   },
   {
    "duration": 58,
    "start_time": "2022-01-28T20:30:40.538Z"
   },
   {
    "duration": 61,
    "start_time": "2022-01-28T20:30:53.308Z"
   },
   {
    "duration": 61,
    "start_time": "2022-01-28T20:31:09.325Z"
   },
   {
    "duration": 34,
    "start_time": "2022-01-28T20:32:34.186Z"
   },
   {
    "duration": 9705,
    "start_time": "2022-01-28T20:33:52.893Z"
   },
   {
    "duration": 856,
    "start_time": "2022-01-28T20:34:09.119Z"
   },
   {
    "duration": 323,
    "start_time": "2022-01-28T20:34:09.978Z"
   },
   {
    "duration": 274,
    "start_time": "2022-01-28T20:34:10.304Z"
   },
   {
    "duration": 139,
    "start_time": "2022-01-28T20:34:10.581Z"
   },
   {
    "duration": 30,
    "start_time": "2022-01-28T20:34:10.722Z"
   },
   {
    "duration": 51,
    "start_time": "2022-01-28T20:34:10.754Z"
   },
   {
    "duration": 240,
    "start_time": "2022-01-28T20:34:10.807Z"
   },
   {
    "duration": 46,
    "start_time": "2022-01-28T20:34:11.050Z"
   },
   {
    "duration": -446,
    "start_time": "2022-01-28T20:35:40.609Z"
   },
   {
    "duration": 62,
    "start_time": "2022-01-28T20:40:52.621Z"
   },
   {
    "duration": 59,
    "start_time": "2022-01-28T20:50:15.163Z"
   },
   {
    "duration": 56,
    "start_time": "2022-01-28T20:50:34.127Z"
   },
   {
    "duration": -273,
    "start_time": "2022-01-28T20:52:57.130Z"
   },
   {
    "duration": 8292,
    "start_time": "2022-01-28T20:53:00.209Z"
   },
   {
    "duration": 7,
    "start_time": "2022-01-28T20:53:35.121Z"
   },
   {
    "duration": 922,
    "start_time": "2022-01-28T20:53:41.093Z"
   },
   {
    "duration": 324,
    "start_time": "2022-01-28T20:53:42.017Z"
   },
   {
    "duration": 270,
    "start_time": "2022-01-28T20:53:42.345Z"
   },
   {
    "duration": 148,
    "start_time": "2022-01-28T20:53:42.618Z"
   },
   {
    "duration": 34,
    "start_time": "2022-01-28T20:53:42.769Z"
   },
   {
    "duration": 62,
    "start_time": "2022-01-28T20:53:42.806Z"
   },
   {
    "duration": 290,
    "start_time": "2022-01-28T20:53:42.871Z"
   },
   {
    "duration": 7,
    "start_time": "2022-01-28T20:53:43.164Z"
   },
   {
    "duration": 12,
    "start_time": "2022-01-28T20:54:17.615Z"
   },
   {
    "duration": 10,
    "start_time": "2022-01-28T20:54:58.541Z"
   },
   {
    "duration": 11,
    "start_time": "2022-01-28T20:55:02.047Z"
   },
   {
    "duration": 10,
    "start_time": "2022-01-28T20:55:06.976Z"
   },
   {
    "duration": 7732,
    "start_time": "2022-01-28T21:12:36.227Z"
   },
   {
    "duration": -266,
    "start_time": "2022-01-28T21:13:02.923Z"
   },
   {
    "duration": 7740,
    "start_time": "2022-01-28T21:13:39.152Z"
   },
   {
    "duration": 320,
    "start_time": "2022-01-28T21:13:48.390Z"
   },
   {
    "duration": 366,
    "start_time": "2022-01-28T21:13:56.150Z"
   },
   {
    "duration": 9771,
    "start_time": "2022-01-28T21:14:26.690Z"
   },
   {
    "duration": 9561,
    "start_time": "2022-01-28T21:15:08.709Z"
   },
   {
    "duration": -428,
    "start_time": "2022-01-28T21:15:34.452Z"
   },
   {
    "duration": 944,
    "start_time": "2022-01-28T21:15:40.641Z"
   },
   {
    "duration": 334,
    "start_time": "2022-01-28T21:15:41.588Z"
   },
   {
    "duration": 286,
    "start_time": "2022-01-28T21:15:41.928Z"
   },
   {
    "duration": 147,
    "start_time": "2022-01-28T21:15:42.216Z"
   },
   {
    "duration": 31,
    "start_time": "2022-01-28T21:15:42.366Z"
   },
   {
    "duration": 48,
    "start_time": "2022-01-28T21:15:42.399Z"
   },
   {
    "duration": 328,
    "start_time": "2022-01-28T21:15:42.460Z"
   },
   {
    "duration": 8910,
    "start_time": "2022-01-28T21:18:47.817Z"
   },
   {
    "duration": 1067,
    "start_time": "2022-01-28T21:19:04.768Z"
   },
   {
    "duration": 367,
    "start_time": "2022-01-28T21:19:05.838Z"
   },
   {
    "duration": 285,
    "start_time": "2022-01-28T21:19:06.210Z"
   },
   {
    "duration": 160,
    "start_time": "2022-01-28T21:19:06.499Z"
   },
   {
    "duration": 33,
    "start_time": "2022-01-28T21:19:06.663Z"
   },
   {
    "duration": 50,
    "start_time": "2022-01-28T21:19:06.699Z"
   },
   {
    "duration": 326,
    "start_time": "2022-01-28T21:19:06.760Z"
   },
   {
    "duration": 8285,
    "start_time": "2022-01-28T21:19:31.469Z"
   },
   {
    "duration": 882,
    "start_time": "2022-01-28T21:19:44.221Z"
   },
   {
    "duration": 341,
    "start_time": "2022-01-28T21:19:45.105Z"
   },
   {
    "duration": 275,
    "start_time": "2022-01-28T21:19:45.459Z"
   },
   {
    "duration": 141,
    "start_time": "2022-01-28T21:19:45.737Z"
   },
   {
    "duration": 32,
    "start_time": "2022-01-28T21:19:45.880Z"
   },
   {
    "duration": 60,
    "start_time": "2022-01-28T21:19:45.915Z"
   },
   {
    "duration": 353,
    "start_time": "2022-01-28T21:19:45.978Z"
   },
   {
    "duration": 7681,
    "start_time": "2022-01-28T21:29:50.066Z"
   },
   {
    "duration": 870,
    "start_time": "2022-01-28T21:30:35.417Z"
   },
   {
    "duration": 339,
    "start_time": "2022-01-28T21:30:36.289Z"
   },
   {
    "duration": 307,
    "start_time": "2022-01-28T21:30:36.631Z"
   },
   {
    "duration": 179,
    "start_time": "2022-01-28T21:30:36.941Z"
   },
   {
    "duration": 43,
    "start_time": "2022-01-28T21:30:37.123Z"
   },
   {
    "duration": 48,
    "start_time": "2022-01-28T21:30:37.169Z"
   },
   {
    "duration": 368,
    "start_time": "2022-01-28T21:30:37.219Z"
   },
   {
    "duration": 562,
    "start_time": "2022-01-28T21:34:23.066Z"
   },
   {
    "duration": 515,
    "start_time": "2022-01-28T21:34:27.897Z"
   },
   {
    "duration": 278,
    "start_time": "2022-01-28T21:34:32.400Z"
   },
   {
    "duration": 281,
    "start_time": "2022-01-28T21:34:46.184Z"
   },
   {
    "duration": 203,
    "start_time": "2022-01-28T21:35:00.010Z"
   },
   {
    "duration": 201,
    "start_time": "2022-01-28T21:35:05.559Z"
   },
   {
    "duration": 317,
    "start_time": "2022-01-28T21:35:11.129Z"
   },
   {
    "duration": 271,
    "start_time": "2022-01-28T21:35:36.101Z"
   },
   {
    "duration": 259,
    "start_time": "2022-01-28T21:35:45.286Z"
   },
   {
    "duration": 274,
    "start_time": "2022-01-28T21:35:50.042Z"
   },
   {
    "duration": 8524,
    "start_time": "2022-01-28T21:36:08.076Z"
   },
   {
    "duration": -394,
    "start_time": "2022-01-28T21:36:40.491Z"
   },
   {
    "duration": 873,
    "start_time": "2022-01-28T21:37:02.131Z"
   },
   {
    "duration": 332,
    "start_time": "2022-01-28T21:37:03.006Z"
   },
   {
    "duration": 281,
    "start_time": "2022-01-28T21:37:03.341Z"
   },
   {
    "duration": 140,
    "start_time": "2022-01-28T21:37:03.624Z"
   },
   {
    "duration": 30,
    "start_time": "2022-01-28T21:37:03.766Z"
   },
   {
    "duration": 48,
    "start_time": "2022-01-28T21:37:03.799Z"
   },
   {
    "duration": 321,
    "start_time": "2022-01-28T21:37:03.849Z"
   },
   {
    "duration": 7763,
    "start_time": "2022-01-28T21:37:47.983Z"
   },
   {
    "duration": 893,
    "start_time": "2022-01-28T21:38:17.231Z"
   },
   {
    "duration": 332,
    "start_time": "2022-01-28T21:38:18.127Z"
   },
   {
    "duration": 274,
    "start_time": "2022-01-28T21:38:18.462Z"
   },
   {
    "duration": 141,
    "start_time": "2022-01-28T21:38:18.739Z"
   },
   {
    "duration": 31,
    "start_time": "2022-01-28T21:38:18.883Z"
   },
   {
    "duration": 56,
    "start_time": "2022-01-28T21:38:18.916Z"
   },
   {
    "duration": 320,
    "start_time": "2022-01-28T21:38:18.974Z"
   },
   {
    "duration": 873,
    "start_time": "2022-01-28T21:38:46.651Z"
   },
   {
    "duration": 328,
    "start_time": "2022-01-28T21:38:47.527Z"
   },
   {
    "duration": 268,
    "start_time": "2022-01-28T21:38:47.860Z"
   },
   {
    "duration": 146,
    "start_time": "2022-01-28T21:38:48.131Z"
   },
   {
    "duration": 31,
    "start_time": "2022-01-28T21:38:48.281Z"
   },
   {
    "duration": 50,
    "start_time": "2022-01-28T21:38:48.315Z"
   },
   {
    "duration": 330,
    "start_time": "2022-01-28T21:38:48.368Z"
   },
   {
    "duration": 204,
    "start_time": "2022-01-28T21:39:30.758Z"
   },
   {
    "duration": 850,
    "start_time": "2022-01-28T21:39:41.520Z"
   },
   {
    "duration": 331,
    "start_time": "2022-01-28T21:39:42.374Z"
   },
   {
    "duration": 237,
    "start_time": "2022-01-28T21:39:42.708Z"
   },
   {
    "duration": 157,
    "start_time": "2022-01-28T21:39:42.948Z"
   },
   {
    "duration": 34,
    "start_time": "2022-01-28T21:39:43.108Z"
   },
   {
    "duration": 52,
    "start_time": "2022-01-28T21:39:43.160Z"
   },
   {
    "duration": 346,
    "start_time": "2022-01-28T21:39:43.215Z"
   },
   {
    "duration": 275,
    "start_time": "2022-01-28T21:40:33.422Z"
   },
   {
    "duration": 8826,
    "start_time": "2022-01-28T21:45:26.709Z"
   },
   {
    "duration": 276,
    "start_time": "2022-01-28T21:45:37.394Z"
   },
   {
    "duration": 8214,
    "start_time": "2022-01-28T21:45:47.739Z"
   },
   {
    "duration": 825,
    "start_time": "2022-01-28T21:46:04.083Z"
   },
   {
    "duration": 349,
    "start_time": "2022-01-28T21:46:04.910Z"
   },
   {
    "duration": 270,
    "start_time": "2022-01-28T21:46:05.262Z"
   },
   {
    "duration": 145,
    "start_time": "2022-01-28T21:46:05.535Z"
   },
   {
    "duration": 31,
    "start_time": "2022-01-28T21:46:05.683Z"
   },
   {
    "duration": 54,
    "start_time": "2022-01-28T21:46:05.716Z"
   },
   {
    "duration": 327,
    "start_time": "2022-01-28T21:46:05.772Z"
   },
   {
    "duration": 281,
    "start_time": "2022-01-28T21:54:29.892Z"
   },
   {
    "duration": 970,
    "start_time": "2022-01-28T21:54:54.071Z"
   },
   {
    "duration": 341,
    "start_time": "2022-01-28T21:54:55.044Z"
   },
   {
    "duration": 288,
    "start_time": "2022-01-28T21:54:55.390Z"
   },
   {
    "duration": 146,
    "start_time": "2022-01-28T21:54:55.681Z"
   },
   {
    "duration": 32,
    "start_time": "2022-01-28T21:54:55.829Z"
   },
   {
    "duration": 66,
    "start_time": "2022-01-28T21:54:55.864Z"
   },
   {
    "duration": 338,
    "start_time": "2022-01-28T21:54:55.932Z"
   },
   {
    "duration": 792,
    "start_time": "2022-01-28T21:58:26.599Z"
   },
   {
    "duration": 904,
    "start_time": "2022-01-28T21:59:04.936Z"
   },
   {
    "duration": 471,
    "start_time": "2022-01-28T22:00:17.844Z"
   },
   {
    "duration": 322,
    "start_time": "2022-01-28T22:03:14.986Z"
   },
   {
    "duration": 820,
    "start_time": "2022-01-28T22:03:21.893Z"
   },
   {
    "duration": 837,
    "start_time": "2022-01-28T22:03:22.716Z"
   },
   {
    "duration": 547,
    "start_time": "2022-01-28T22:03:23.557Z"
   },
   {
    "duration": -147,
    "start_time": "2022-01-28T22:03:24.253Z"
   },
   {
    "duration": -243,
    "start_time": "2022-01-28T22:03:24.351Z"
   },
   {
    "duration": 259,
    "start_time": "2022-01-28T22:03:41.701Z"
   },
   {
    "duration": 59,
    "start_time": "2022-01-28T22:03:54.058Z"
   },
   {
    "duration": 56,
    "start_time": "2022-01-28T22:09:44.882Z"
   },
   {
    "duration": 254,
    "start_time": "2022-01-29T16:26:21.511Z"
   },
   {
    "duration": 677,
    "start_time": "2022-01-29T16:27:43.325Z"
   },
   {
    "duration": 672,
    "start_time": "2022-01-29T16:27:44.004Z"
   },
   {
    "duration": 198,
    "start_time": "2022-01-29T16:27:44.679Z"
   },
   {
    "duration": 394,
    "start_time": "2022-01-29T16:27:44.879Z"
   },
   {
    "duration": 5250,
    "start_time": "2022-01-29T16:28:08.682Z"
   },
   {
    "duration": 237,
    "start_time": "2022-01-29T16:28:25.891Z"
   },
   {
    "duration": 3,
    "start_time": "2022-01-29T16:28:45.798Z"
   },
   {
    "duration": 5049,
    "start_time": "2022-01-29T16:28:48.702Z"
   },
   {
    "duration": 657,
    "start_time": "2022-01-29T16:29:30.171Z"
   },
   {
    "duration": 179,
    "start_time": "2022-01-29T16:29:34.547Z"
   },
   {
    "duration": 51,
    "start_time": "2022-01-29T16:29:36.945Z"
   },
   {
    "duration": 58,
    "start_time": "2022-01-29T16:30:06.242Z"
   },
   {
    "duration": 604,
    "start_time": "2022-01-29T16:30:58.598Z"
   },
   {
    "duration": 208,
    "start_time": "2022-01-29T16:31:02.436Z"
   },
   {
    "duration": 53,
    "start_time": "2022-01-29T16:31:05.792Z"
   },
   {
    "duration": 15,
    "start_time": "2022-01-29T16:55:38.864Z"
   },
   {
    "duration": 15,
    "start_time": "2022-01-29T16:56:07.082Z"
   },
   {
    "duration": 4956,
    "start_time": "2022-01-29T16:56:08.625Z"
   },
   {
    "duration": 688,
    "start_time": "2022-01-29T16:56:28.707Z"
   },
   {
    "duration": 683,
    "start_time": "2022-01-29T16:56:29.397Z"
   },
   {
    "duration": 114,
    "start_time": "2022-01-29T16:56:30.082Z"
   },
   {
    "duration": 43,
    "start_time": "2022-01-29T16:56:30.198Z"
   },
   {
    "duration": 28,
    "start_time": "2022-01-29T16:56:30.243Z"
   },
   {
    "duration": 49,
    "start_time": "2022-01-29T16:56:30.272Z"
   },
   {
    "duration": 55,
    "start_time": "2022-01-29T16:56:30.322Z"
   },
   {
    "duration": 98,
    "start_time": "2022-01-29T16:57:20.499Z"
   },
   {
    "duration": 9,
    "start_time": "2022-01-29T16:57:33.353Z"
   },
   {
    "duration": 398,
    "start_time": "2022-01-29T17:08:32.360Z"
   },
   {
    "duration": 227,
    "start_time": "2022-01-29T17:08:40.244Z"
   },
   {
    "duration": 3203,
    "start_time": "2022-01-29T17:08:48.480Z"
   },
   {
    "duration": 5777,
    "start_time": "2022-01-29T17:09:32.933Z"
   },
   {
    "duration": 5934,
    "start_time": "2022-01-29T17:10:31.241Z"
   },
   {
    "duration": 21,
    "start_time": "2022-01-29T17:14:37.132Z"
   },
   {
    "duration": 68,
    "start_time": "2022-01-29T17:14:44.646Z"
   },
   {
    "duration": 35,
    "start_time": "2022-01-29T17:14:52.173Z"
   },
   {
    "duration": 55,
    "start_time": "2022-01-29T17:21:03.051Z"
   },
   {
    "duration": 56,
    "start_time": "2022-01-29T17:26:13.099Z"
   },
   {
    "duration": 194,
    "start_time": "2022-01-29T17:32:12.216Z"
   },
   {
    "duration": 251,
    "start_time": "2022-01-29T17:32:36.049Z"
   },
   {
    "duration": 694,
    "start_time": "2022-01-29T17:32:45.822Z"
   },
   {
    "duration": 726,
    "start_time": "2022-01-29T17:32:46.519Z"
   },
   {
    "duration": 118,
    "start_time": "2022-01-29T17:32:47.248Z"
   },
   {
    "duration": 41,
    "start_time": "2022-01-29T17:32:47.368Z"
   },
   {
    "duration": 161,
    "start_time": "2022-01-29T17:32:47.410Z"
   },
   {
    "duration": 25,
    "start_time": "2022-01-29T17:32:47.573Z"
   },
   {
    "duration": 55,
    "start_time": "2022-01-29T17:32:47.600Z"
   },
   {
    "duration": 276,
    "start_time": "2022-01-29T17:32:47.656Z"
   },
   {
    "duration": 697,
    "start_time": "2022-01-29T17:35:41.653Z"
   },
   {
    "duration": 686,
    "start_time": "2022-01-29T17:35:42.351Z"
   },
   {
    "duration": 116,
    "start_time": "2022-01-29T17:35:43.041Z"
   },
   {
    "duration": 37,
    "start_time": "2022-01-29T17:35:43.159Z"
   },
   {
    "duration": 27,
    "start_time": "2022-01-29T17:35:43.206Z"
   },
   {
    "duration": 26,
    "start_time": "2022-01-29T17:35:43.235Z"
   },
   {
    "duration": 5016,
    "start_time": "2022-01-29T17:35:43.263Z"
   },
   {
    "duration": 189,
    "start_time": "2022-01-29T17:35:48.093Z"
   },
   {
    "duration": 6317,
    "start_time": "2022-01-29T17:36:59.264Z"
   },
   {
    "duration": 5157,
    "start_time": "2022-01-29T17:37:31.096Z"
   },
   {
    "duration": 54,
    "start_time": "2022-01-29T17:37:48.063Z"
   },
   {
    "duration": 202,
    "start_time": "2022-01-29T17:37:59.015Z"
   },
   {
    "duration": 641,
    "start_time": "2022-01-29T17:39:02.683Z"
   },
   {
    "duration": 741,
    "start_time": "2022-01-29T17:39:07.023Z"
   },
   {
    "duration": 645,
    "start_time": "2022-01-29T17:39:07.766Z"
   },
   {
    "duration": 117,
    "start_time": "2022-01-29T17:39:08.413Z"
   },
   {
    "duration": 35,
    "start_time": "2022-01-29T17:39:08.532Z"
   },
   {
    "duration": 45,
    "start_time": "2022-01-29T17:39:08.570Z"
   },
   {
    "duration": 23,
    "start_time": "2022-01-29T17:39:08.617Z"
   },
   {
    "duration": 73,
    "start_time": "2022-01-29T17:39:08.642Z"
   },
   {
    "duration": 261,
    "start_time": "2022-01-29T17:39:08.718Z"
   },
   {
    "duration": 224,
    "start_time": "2022-01-29T17:39:25.140Z"
   },
   {
    "duration": 241,
    "start_time": "2022-01-29T17:39:44.318Z"
   },
   {
    "duration": 32,
    "start_time": "2022-01-29T17:39:52.835Z"
   },
   {
    "duration": 205,
    "start_time": "2022-01-29T17:40:08.871Z"
   },
   {
    "duration": 29,
    "start_time": "2022-01-29T17:40:22.736Z"
   },
   {
    "duration": 33,
    "start_time": "2022-01-29T17:59:31.336Z"
   },
   {
    "duration": 216,
    "start_time": "2022-01-29T18:25:16.890Z"
   },
   {
    "duration": 196,
    "start_time": "2022-01-29T18:25:40.660Z"
   },
   {
    "duration": 196,
    "start_time": "2022-01-29T18:26:30.116Z"
   },
   {
    "duration": 707,
    "start_time": "2022-01-29T18:30:06.648Z"
   },
   {
    "duration": 466,
    "start_time": "2022-01-29T18:30:33.776Z"
   },
   {
    "duration": 5514,
    "start_time": "2022-01-29T18:30:37.260Z"
   },
   {
    "duration": 361,
    "start_time": "2022-01-29T18:30:50.461Z"
   },
   {
    "duration": 434,
    "start_time": "2022-01-29T18:31:19.055Z"
   },
   {
    "duration": 78,
    "start_time": "2022-01-29T18:51:30.318Z"
   },
   {
    "duration": 72,
    "start_time": "2022-01-29T18:52:04.829Z"
   },
   {
    "duration": 1125,
    "start_time": "2022-01-29T18:52:32.767Z"
   },
   {
    "duration": 644,
    "start_time": "2022-01-29T18:52:33.894Z"
   },
   {
    "duration": 109,
    "start_time": "2022-01-29T18:52:34.540Z"
   },
   {
    "duration": 35,
    "start_time": "2022-01-29T18:52:34.652Z"
   },
   {
    "duration": 37,
    "start_time": "2022-01-29T18:52:34.688Z"
   },
   {
    "duration": 25,
    "start_time": "2022-01-29T18:52:34.727Z"
   },
   {
    "duration": 73,
    "start_time": "2022-01-29T18:52:34.754Z"
   },
   {
    "duration": 290,
    "start_time": "2022-01-29T18:52:34.539Z"
   },
   {
    "duration": 288,
    "start_time": "2022-01-29T18:52:34.542Z"
   },
   {
    "duration": 288,
    "start_time": "2022-01-29T18:52:34.543Z"
   },
   {
    "duration": 488,
    "start_time": "2022-01-29T18:53:49.794Z"
   },
   {
    "duration": 432,
    "start_time": "2022-01-29T18:54:08.304Z"
   },
   {
    "duration": 375,
    "start_time": "2022-01-29T18:54:22.075Z"
   },
   {
    "duration": 508,
    "start_time": "2022-01-29T18:54:53.705Z"
   },
   {
    "duration": 467,
    "start_time": "2022-01-29T18:55:05.786Z"
   },
   {
    "duration": 397,
    "start_time": "2022-01-29T18:55:14.485Z"
   },
   {
    "duration": 397,
    "start_time": "2022-01-29T18:55:24.029Z"
   },
   {
    "duration": 388,
    "start_time": "2022-01-29T18:55:30.252Z"
   },
   {
    "duration": 439,
    "start_time": "2022-01-29T18:56:49.340Z"
   },
   {
    "duration": 403,
    "start_time": "2022-01-29T18:57:00.838Z"
   },
   {
    "duration": 408,
    "start_time": "2022-01-29T19:14:12.361Z"
   },
   {
    "duration": 375,
    "start_time": "2022-01-29T19:14:24.890Z"
   },
   {
    "duration": 378,
    "start_time": "2022-01-29T19:20:45.700Z"
   },
   {
    "duration": 415,
    "start_time": "2022-01-29T19:20:56.773Z"
   },
   {
    "duration": 372,
    "start_time": "2022-01-29T19:21:00.518Z"
   },
   {
    "duration": 375,
    "start_time": "2022-01-29T19:21:07.195Z"
   },
   {
    "duration": 381,
    "start_time": "2022-01-29T19:21:29.248Z"
   },
   {
    "duration": 72,
    "start_time": "2022-01-30T17:35:48.408Z"
   },
   {
    "duration": 1171,
    "start_time": "2022-01-30T17:36:26.364Z"
   },
   {
    "duration": 638,
    "start_time": "2022-01-30T17:36:27.537Z"
   },
   {
    "duration": 108,
    "start_time": "2022-01-30T17:36:28.177Z"
   },
   {
    "duration": 36,
    "start_time": "2022-01-30T17:36:28.287Z"
   },
   {
    "duration": 40,
    "start_time": "2022-01-30T17:36:28.325Z"
   },
   {
    "duration": 22,
    "start_time": "2022-01-30T17:36:28.367Z"
   },
   {
    "duration": 68,
    "start_time": "2022-01-30T17:36:28.391Z"
   },
   {
    "duration": -97,
    "start_time": "2022-01-30T17:36:28.558Z"
   },
   {
    "duration": -97,
    "start_time": "2022-01-30T17:36:28.560Z"
   },
   {
    "duration": -97,
    "start_time": "2022-01-30T17:36:28.560Z"
   },
   {
    "duration": 76,
    "start_time": "2022-01-30T17:37:13.603Z"
   },
   {
    "duration": 74,
    "start_time": "2022-01-30T17:37:30.987Z"
   },
   {
    "duration": 470,
    "start_time": "2022-01-30T17:37:44.310Z"
   },
   {
    "duration": 189,
    "start_time": "2022-01-30T17:38:25.157Z"
   },
   {
    "duration": 193,
    "start_time": "2022-01-30T17:39:05.065Z"
   },
   {
    "duration": 228,
    "start_time": "2022-01-30T17:39:10.026Z"
   },
   {
    "duration": 238,
    "start_time": "2022-01-30T17:39:26.131Z"
   },
   {
    "duration": 262,
    "start_time": "2022-01-30T17:39:37.518Z"
   },
   {
    "duration": 747,
    "start_time": "2022-01-30T17:39:54.878Z"
   },
   {
    "duration": 29,
    "start_time": "2022-01-30T17:40:15.182Z"
   },
   {
    "duration": 583,
    "start_time": "2022-01-30T17:40:28.819Z"
   },
   {
    "duration": 226,
    "start_time": "2022-01-30T17:42:22.972Z"
   },
   {
    "duration": 218,
    "start_time": "2022-01-30T17:43:10.471Z"
   },
   {
    "duration": 1130,
    "start_time": "2022-01-30T17:43:17.679Z"
   },
   {
    "duration": 602,
    "start_time": "2022-01-30T17:43:18.811Z"
   },
   {
    "duration": 103,
    "start_time": "2022-01-30T17:43:19.416Z"
   },
   {
    "duration": 41,
    "start_time": "2022-01-30T17:43:19.521Z"
   },
   {
    "duration": 26,
    "start_time": "2022-01-30T17:43:19.563Z"
   },
   {
    "duration": 23,
    "start_time": "2022-01-30T17:43:19.590Z"
   },
   {
    "duration": 216,
    "start_time": "2022-01-30T17:43:19.615Z"
   },
   {
    "duration": 42,
    "start_time": "2022-01-30T17:43:19.833Z"
   },
   {
    "duration": 195,
    "start_time": "2022-01-30T17:43:19.877Z"
   },
   {
    "duration": 752,
    "start_time": "2022-01-30T17:43:20.074Z"
   },
   {
    "duration": 406,
    "start_time": "2022-01-30T17:57:49.928Z"
   },
   {
    "duration": 186,
    "start_time": "2022-01-30T18:07:40.833Z"
   },
   {
    "duration": 1164,
    "start_time": "2022-01-30T18:07:50.508Z"
   },
   {
    "duration": 640,
    "start_time": "2022-01-30T18:07:51.674Z"
   },
   {
    "duration": 95,
    "start_time": "2022-01-30T18:07:52.316Z"
   },
   {
    "duration": 35,
    "start_time": "2022-01-30T18:07:52.413Z"
   },
   {
    "duration": 34,
    "start_time": "2022-01-30T18:07:52.450Z"
   },
   {
    "duration": 23,
    "start_time": "2022-01-30T18:07:52.486Z"
   },
   {
    "duration": 217,
    "start_time": "2022-01-30T18:07:52.511Z"
   },
   {
    "duration": 40,
    "start_time": "2022-01-30T18:07:52.730Z"
   },
   {
    "duration": 192,
    "start_time": "2022-01-30T18:07:52.773Z"
   },
   {
    "duration": 741,
    "start_time": "2022-01-30T18:07:52.967Z"
   },
   {
    "duration": 337,
    "start_time": "2022-01-30T18:28:21.888Z"
   },
   {
    "duration": 406,
    "start_time": "2022-01-30T18:28:49.172Z"
   },
   {
    "duration": 537,
    "start_time": "2022-01-30T18:29:35.045Z"
   },
   {
    "duration": 345,
    "start_time": "2022-01-30T18:33:44.817Z"
   },
   {
    "duration": 239,
    "start_time": "2022-01-30T18:36:37.681Z"
   },
   {
    "duration": 344,
    "start_time": "2022-01-30T18:37:01.495Z"
   },
   {
    "duration": 1141,
    "start_time": "2022-01-30T18:50:52.778Z"
   },
   {
    "duration": 614,
    "start_time": "2022-01-30T18:50:53.921Z"
   },
   {
    "duration": 103,
    "start_time": "2022-01-30T18:50:54.537Z"
   },
   {
    "duration": 37,
    "start_time": "2022-01-30T18:50:54.642Z"
   },
   {
    "duration": 23,
    "start_time": "2022-01-30T18:50:54.681Z"
   },
   {
    "duration": 24,
    "start_time": "2022-01-30T18:50:54.706Z"
   },
   {
    "duration": 271,
    "start_time": "2022-01-30T18:50:54.732Z"
   },
   {
    "duration": 33,
    "start_time": "2022-01-30T18:50:55.005Z"
   },
   {
    "duration": 199,
    "start_time": "2022-01-30T18:50:55.040Z"
   },
   {
    "duration": 722,
    "start_time": "2022-01-30T18:50:55.240Z"
   },
   {
    "duration": 296,
    "start_time": "2022-01-30T19:03:55.227Z"
   },
   {
    "duration": 390,
    "start_time": "2022-01-30T19:12:16.691Z"
   },
   {
    "duration": 1116,
    "start_time": "2022-01-30T19:12:27.570Z"
   },
   {
    "duration": 595,
    "start_time": "2022-01-30T19:12:28.688Z"
   },
   {
    "duration": 98,
    "start_time": "2022-01-30T19:12:29.285Z"
   },
   {
    "duration": 31,
    "start_time": "2022-01-30T19:12:29.385Z"
   },
   {
    "duration": 22,
    "start_time": "2022-01-30T19:12:29.417Z"
   },
   {
    "duration": 41,
    "start_time": "2022-01-30T19:12:29.440Z"
   },
   {
    "duration": 251,
    "start_time": "2022-01-30T19:12:29.483Z"
   },
   {
    "duration": 39,
    "start_time": "2022-01-30T19:12:29.737Z"
   },
   {
    "duration": 182,
    "start_time": "2022-01-30T19:12:29.778Z"
   },
   {
    "duration": 798,
    "start_time": "2022-01-30T19:12:29.962Z"
   },
   {
    "duration": 265,
    "start_time": "2022-01-30T20:54:50.185Z"
   },
   {
    "duration": 237,
    "start_time": "2022-01-31T07:52:23.706Z"
   },
   {
    "duration": 1119,
    "start_time": "2022-01-31T07:52:39.141Z"
   },
   {
    "duration": 597,
    "start_time": "2022-01-31T07:52:40.262Z"
   },
   {
    "duration": 103,
    "start_time": "2022-01-31T07:52:40.861Z"
   },
   {
    "duration": 32,
    "start_time": "2022-01-31T07:52:40.966Z"
   },
   {
    "duration": 25,
    "start_time": "2022-01-31T07:52:41.000Z"
   },
   {
    "duration": 51,
    "start_time": "2022-01-31T07:52:41.027Z"
   },
   {
    "duration": 262,
    "start_time": "2022-01-31T07:52:41.080Z"
   },
   {
    "duration": 37,
    "start_time": "2022-01-31T07:52:41.343Z"
   },
   {
    "duration": 191,
    "start_time": "2022-01-31T07:52:41.382Z"
   },
   {
    "duration": 765,
    "start_time": "2022-01-31T07:52:41.575Z"
   },
   {
    "duration": 389,
    "start_time": "2022-01-31T07:53:31.505Z"
   },
   {
    "duration": 434,
    "start_time": "2022-01-31T07:53:39.470Z"
   },
   {
    "duration": 252,
    "start_time": "2022-01-31T07:53:53.589Z"
   },
   {
    "duration": 191,
    "start_time": "2022-01-31T07:53:59.240Z"
   },
   {
    "duration": 193,
    "start_time": "2022-01-31T07:54:34.508Z"
   },
   {
    "duration": 491,
    "start_time": "2022-01-31T08:04:38.824Z"
   },
   {
    "duration": 256,
    "start_time": "2022-01-31T08:04:49.424Z"
   },
   {
    "duration": 177,
    "start_time": "2022-01-31T08:04:58.872Z"
   },
   {
    "duration": 178,
    "start_time": "2022-01-31T08:05:09.143Z"
   },
   {
    "duration": 67,
    "start_time": "2022-01-31T08:05:30.900Z"
   },
   {
    "duration": 198,
    "start_time": "2022-01-31T08:05:37.140Z"
   },
   {
    "duration": 71,
    "start_time": "2022-01-31T08:05:43.729Z"
   },
   {
    "duration": 174,
    "start_time": "2022-01-31T08:05:50.474Z"
   },
   {
    "duration": 191,
    "start_time": "2022-01-31T08:07:06.772Z"
   },
   {
    "duration": 263,
    "start_time": "2022-01-31T08:07:22.418Z"
   },
   {
    "duration": 205,
    "start_time": "2022-01-31T08:07:47.563Z"
   },
   {
    "duration": 202,
    "start_time": "2022-01-31T08:08:06.874Z"
   },
   {
    "duration": 219,
    "start_time": "2022-01-31T08:08:42.641Z"
   },
   {
    "duration": 211,
    "start_time": "2022-01-31T08:09:20.734Z"
   },
   {
    "duration": 1105,
    "start_time": "2022-01-31T08:14:31.413Z"
   },
   {
    "duration": 611,
    "start_time": "2022-01-31T08:14:32.519Z"
   },
   {
    "duration": 96,
    "start_time": "2022-01-31T08:14:33.132Z"
   },
   {
    "duration": 37,
    "start_time": "2022-01-31T08:14:33.231Z"
   },
   {
    "duration": 24,
    "start_time": "2022-01-31T08:14:33.269Z"
   },
   {
    "duration": 22,
    "start_time": "2022-01-31T08:14:33.295Z"
   },
   {
    "duration": 286,
    "start_time": "2022-01-31T08:14:33.318Z"
   },
   {
    "duration": 30,
    "start_time": "2022-01-31T08:14:33.605Z"
   },
   {
    "duration": 209,
    "start_time": "2022-01-31T08:14:33.637Z"
   },
   {
    "duration": 216,
    "start_time": "2022-01-31T08:14:33.848Z"
   },
   {
    "duration": 210,
    "start_time": "2022-01-31T08:14:34.065Z"
   },
   {
    "duration": 822,
    "start_time": "2022-01-31T08:14:34.277Z"
   },
   {
    "duration": 319,
    "start_time": "2022-01-31T08:20:43.863Z"
   },
   {
    "duration": 4,
    "start_time": "2022-01-31T08:21:22.565Z"
   },
   {
    "duration": 1195,
    "start_time": "2022-01-31T08:21:28.332Z"
   },
   {
    "duration": 623,
    "start_time": "2022-01-31T08:21:29.529Z"
   },
   {
    "duration": 100,
    "start_time": "2022-01-31T08:21:30.154Z"
   },
   {
    "duration": 35,
    "start_time": "2022-01-31T08:21:30.256Z"
   },
   {
    "duration": 27,
    "start_time": "2022-01-31T08:21:30.292Z"
   },
   {
    "duration": 46,
    "start_time": "2022-01-31T08:21:30.321Z"
   },
   {
    "duration": 280,
    "start_time": "2022-01-31T08:21:30.369Z"
   },
   {
    "duration": 38,
    "start_time": "2022-01-31T08:21:30.652Z"
   },
   {
    "duration": 230,
    "start_time": "2022-01-31T08:21:30.693Z"
   },
   {
    "duration": 221,
    "start_time": "2022-01-31T08:21:30.925Z"
   },
   {
    "duration": 216,
    "start_time": "2022-01-31T08:21:31.148Z"
   },
   {
    "duration": 870,
    "start_time": "2022-01-31T08:21:31.365Z"
   },
   {
    "duration": 275,
    "start_time": "2022-01-31T08:21:32.237Z"
   },
   {
    "duration": 208,
    "start_time": "2022-01-31T08:22:29.681Z"
   },
   {
    "duration": 592,
    "start_time": "2022-01-31T08:22:32.976Z"
   },
   {
    "duration": 3,
    "start_time": "2022-01-31T08:22:43.264Z"
   },
   {
    "duration": 94,
    "start_time": "2022-01-31T08:23:17.433Z"
   },
   {
    "duration": 273,
    "start_time": "2022-01-31T08:23:22.511Z"
   },
   {
    "duration": 1166,
    "start_time": "2022-01-31T08:23:31.046Z"
   },
   {
    "duration": 631,
    "start_time": "2022-01-31T08:23:32.214Z"
   },
   {
    "duration": 96,
    "start_time": "2022-01-31T08:23:32.847Z"
   },
   {
    "duration": 42,
    "start_time": "2022-01-31T08:23:32.945Z"
   },
   {
    "duration": 25,
    "start_time": "2022-01-31T08:23:32.988Z"
   },
   {
    "duration": 22,
    "start_time": "2022-01-31T08:23:33.014Z"
   },
   {
    "duration": 279,
    "start_time": "2022-01-31T08:23:33.038Z"
   },
   {
    "duration": 43,
    "start_time": "2022-01-31T08:23:33.319Z"
   },
   {
    "duration": 187,
    "start_time": "2022-01-31T08:23:33.363Z"
   },
   {
    "duration": 202,
    "start_time": "2022-01-31T08:23:33.552Z"
   },
   {
    "duration": 212,
    "start_time": "2022-01-31T08:23:33.755Z"
   },
   {
    "duration": 728,
    "start_time": "2022-01-31T08:23:33.969Z"
   },
   {
    "duration": 293,
    "start_time": "2022-01-31T08:23:34.699Z"
   },
   {
    "duration": 290,
    "start_time": "2022-01-31T08:25:38.693Z"
   },
   {
    "duration": 207,
    "start_time": "2022-01-31T08:25:43.199Z"
   },
   {
    "duration": 221,
    "start_time": "2022-01-31T08:25:47.459Z"
   },
   {
    "duration": 4,
    "start_time": "2022-01-31T08:26:50.858Z"
   },
   {
    "duration": 1181,
    "start_time": "2022-01-31T08:26:56.945Z"
   },
   {
    "duration": 638,
    "start_time": "2022-01-31T08:26:58.128Z"
   },
   {
    "duration": 109,
    "start_time": "2022-01-31T08:26:58.769Z"
   },
   {
    "duration": 39,
    "start_time": "2022-01-31T08:26:58.880Z"
   },
   {
    "duration": 24,
    "start_time": "2022-01-31T08:26:58.921Z"
   },
   {
    "duration": 23,
    "start_time": "2022-01-31T08:26:58.960Z"
   },
   {
    "duration": 277,
    "start_time": "2022-01-31T08:26:58.985Z"
   },
   {
    "duration": 30,
    "start_time": "2022-01-31T08:26:59.264Z"
   },
   {
    "duration": 219,
    "start_time": "2022-01-31T08:26:59.296Z"
   },
   {
    "duration": 229,
    "start_time": "2022-01-31T08:26:59.516Z"
   },
   {
    "duration": 221,
    "start_time": "2022-01-31T08:26:59.747Z"
   },
   {
    "duration": 774,
    "start_time": "2022-01-31T08:26:59.969Z"
   },
   {
    "duration": 332,
    "start_time": "2022-01-31T08:27:00.745Z"
   },
   {
    "duration": 307,
    "start_time": "2022-01-31T08:27:01.079Z"
   },
   {
    "duration": 203,
    "start_time": "2022-01-31T08:27:06.108Z"
   },
   {
    "duration": 301,
    "start_time": "2022-01-31T08:30:25.562Z"
   },
   {
    "duration": 74,
    "start_time": "2022-01-31T08:32:02.901Z"
   },
   {
    "duration": 202,
    "start_time": "2022-01-31T08:32:07.340Z"
   },
   {
    "duration": 1166,
    "start_time": "2022-01-31T08:32:26.670Z"
   },
   {
    "duration": 664,
    "start_time": "2022-01-31T08:32:27.838Z"
   },
   {
    "duration": 104,
    "start_time": "2022-01-31T08:32:28.505Z"
   },
   {
    "duration": 37,
    "start_time": "2022-01-31T08:32:28.611Z"
   },
   {
    "duration": 35,
    "start_time": "2022-01-31T08:32:28.651Z"
   },
   {
    "duration": 27,
    "start_time": "2022-01-31T08:32:28.688Z"
   },
   {
    "duration": 301,
    "start_time": "2022-01-31T08:32:28.717Z"
   },
   {
    "duration": 43,
    "start_time": "2022-01-31T08:32:29.019Z"
   },
   {
    "duration": 210,
    "start_time": "2022-01-31T08:32:29.064Z"
   },
   {
    "duration": 222,
    "start_time": "2022-01-31T08:32:29.276Z"
   },
   {
    "duration": 232,
    "start_time": "2022-01-31T08:32:29.501Z"
   },
   {
    "duration": 870,
    "start_time": "2022-01-31T08:32:29.735Z"
   },
   {
    "duration": 232,
    "start_time": "2022-01-31T08:32:30.607Z"
   },
   {
    "duration": 343,
    "start_time": "2022-01-31T08:32:30.841Z"
   },
   {
    "duration": 203,
    "start_time": "2022-01-31T08:32:59.571Z"
   },
   {
    "duration": 208,
    "start_time": "2022-01-31T08:33:12.277Z"
   },
   {
    "duration": 201,
    "start_time": "2022-01-31T08:33:31.680Z"
   },
   {
    "duration": 200,
    "start_time": "2022-01-31T08:33:34.610Z"
   },
   {
    "duration": 201,
    "start_time": "2022-01-31T08:33:45.504Z"
   },
   {
    "duration": 217,
    "start_time": "2022-01-31T08:34:24.060Z"
   },
   {
    "duration": 206,
    "start_time": "2022-01-31T08:34:33.026Z"
   },
   {
    "duration": 212,
    "start_time": "2022-01-31T08:34:57.345Z"
   },
   {
    "duration": 223,
    "start_time": "2022-01-31T08:35:07.716Z"
   },
   {
    "duration": 252,
    "start_time": "2022-01-31T08:35:17.272Z"
   },
   {
    "duration": 7,
    "start_time": "2022-01-31T08:35:24.994Z"
   },
   {
    "duration": 27,
    "start_time": "2022-01-31T08:35:30.375Z"
   },
   {
    "duration": 4791,
    "start_time": "2022-01-31T08:35:39.911Z"
   },
   {
    "duration": 10,
    "start_time": "2022-01-31T08:35:59.348Z"
   },
   {
    "duration": 9,
    "start_time": "2022-01-31T08:37:44.488Z"
   },
   {
    "duration": 5186,
    "start_time": "2022-01-31T08:39:02.713Z"
   },
   {
    "duration": 1121,
    "start_time": "2022-01-31T08:40:08.114Z"
   },
   {
    "duration": 627,
    "start_time": "2022-01-31T08:40:09.237Z"
   },
   {
    "duration": 110,
    "start_time": "2022-01-31T08:40:09.866Z"
   },
   {
    "duration": 36,
    "start_time": "2022-01-31T08:40:09.978Z"
   },
   {
    "duration": 26,
    "start_time": "2022-01-31T08:40:10.016Z"
   },
   {
    "duration": 25,
    "start_time": "2022-01-31T08:40:10.060Z"
   },
   {
    "duration": 280,
    "start_time": "2022-01-31T08:40:10.087Z"
   },
   {
    "duration": 31,
    "start_time": "2022-01-31T08:40:10.368Z"
   },
   {
    "duration": 212,
    "start_time": "2022-01-31T08:40:10.401Z"
   },
   {
    "duration": 212,
    "start_time": "2022-01-31T08:40:10.615Z"
   },
   {
    "duration": 211,
    "start_time": "2022-01-31T08:40:10.829Z"
   },
   {
    "duration": 924,
    "start_time": "2022-01-31T08:40:11.042Z"
   },
   {
    "duration": 262,
    "start_time": "2022-01-31T08:40:11.968Z"
   },
   {
    "duration": 6018,
    "start_time": "2022-01-31T08:40:12.232Z"
   },
   {
    "duration": 12,
    "start_time": "2022-01-31T08:40:26.806Z"
   },
   {
    "duration": 40,
    "start_time": "2022-01-31T09:43:39.892Z"
   },
   {
    "duration": 47,
    "start_time": "2022-01-31T09:43:47.988Z"
   },
   {
    "duration": 1237,
    "start_time": "2022-01-31T09:44:32.281Z"
   },
   {
    "duration": 691,
    "start_time": "2022-01-31T09:44:33.520Z"
   },
   {
    "duration": 110,
    "start_time": "2022-01-31T09:44:34.213Z"
   },
   {
    "duration": 40,
    "start_time": "2022-01-31T09:44:34.325Z"
   },
   {
    "duration": 33,
    "start_time": "2022-01-31T09:44:34.368Z"
   },
   {
    "duration": 24,
    "start_time": "2022-01-31T09:44:34.403Z"
   },
   {
    "duration": 337,
    "start_time": "2022-01-31T09:44:34.429Z"
   },
   {
    "duration": 54,
    "start_time": "2022-01-31T09:44:34.769Z"
   },
   {
    "duration": 251,
    "start_time": "2022-01-31T09:44:34.826Z"
   },
   {
    "duration": 243,
    "start_time": "2022-01-31T09:44:35.081Z"
   },
   {
    "duration": 228,
    "start_time": "2022-01-31T09:44:35.325Z"
   },
   {
    "duration": 890,
    "start_time": "2022-01-31T09:44:35.554Z"
   },
   {
    "duration": 261,
    "start_time": "2022-01-31T09:44:36.446Z"
   },
   {
    "duration": 12,
    "start_time": "2022-01-31T09:44:36.709Z"
   },
   {
    "duration": 329,
    "start_time": "2022-01-31T09:46:22.956Z"
   },
   {
    "duration": 714,
    "start_time": "2022-01-31T09:54:50.809Z"
   },
   {
    "duration": 387,
    "start_time": "2022-01-31T09:55:31.756Z"
   },
   {
    "duration": 349,
    "start_time": "2022-01-31T09:55:39.232Z"
   },
   {
    "duration": 637,
    "start_time": "2022-01-31T09:55:53.376Z"
   },
   {
    "duration": 499,
    "start_time": "2022-01-31T09:56:01.137Z"
   },
   {
    "duration": 345,
    "start_time": "2022-01-31T09:56:03.894Z"
   },
   {
    "duration": 347,
    "start_time": "2022-01-31T09:56:12.325Z"
   },
   {
    "duration": 324,
    "start_time": "2022-01-31T09:56:15.245Z"
   },
   {
    "duration": 589,
    "start_time": "2022-01-31T09:56:40.301Z"
   },
   {
    "duration": 330,
    "start_time": "2022-01-31T09:56:49.653Z"
   },
   {
    "duration": 339,
    "start_time": "2022-01-31T09:58:58.981Z"
   },
   {
    "duration": 350,
    "start_time": "2022-01-31T09:59:01.101Z"
   },
   {
    "duration": 371,
    "start_time": "2022-01-31T09:59:46.525Z"
   },
   {
    "duration": 338,
    "start_time": "2022-01-31T09:59:49.016Z"
   },
   {
    "duration": 361,
    "start_time": "2022-01-31T10:11:32.536Z"
   },
   {
    "duration": 180,
    "start_time": "2022-01-31T10:11:35.779Z"
   },
   {
    "duration": 216,
    "start_time": "2022-01-31T10:11:41.533Z"
   },
   {
    "duration": 65,
    "start_time": "2022-01-31T10:13:57.197Z"
   },
   {
    "duration": 376,
    "start_time": "2022-01-31T11:03:31.985Z"
   },
   {
    "duration": 90,
    "start_time": "2022-01-31T11:05:57.322Z"
   },
   {
    "duration": 47,
    "start_time": "2022-01-31T11:07:05.823Z"
   },
   {
    "duration": 250,
    "start_time": "2022-01-31T11:17:02.370Z"
   },
   {
    "duration": 253,
    "start_time": "2022-01-31T11:17:37.313Z"
   },
   {
    "duration": 44,
    "start_time": "2022-01-31T11:17:56.781Z"
   },
   {
    "duration": 46,
    "start_time": "2022-01-31T11:18:10.982Z"
   },
   {
    "duration": 45,
    "start_time": "2022-01-31T11:19:08.714Z"
   },
   {
    "duration": 44,
    "start_time": "2022-01-31T11:26:31.437Z"
   },
   {
    "duration": 6,
    "start_time": "2022-01-31T11:28:30.131Z"
   },
   {
    "duration": -192,
    "start_time": "2022-01-31T11:29:05.295Z"
   },
   {
    "duration": 289,
    "start_time": "2022-01-31T11:29:40.429Z"
   },
   {
    "duration": 5063,
    "start_time": "2022-01-31T11:30:19.760Z"
   },
   {
    "duration": 6417,
    "start_time": "2022-01-31T11:30:29.181Z"
   },
   {
    "duration": 1113,
    "start_time": "2022-01-31T11:31:49.909Z"
   },
   {
    "duration": 647,
    "start_time": "2022-01-31T11:31:51.024Z"
   },
   {
    "duration": 116,
    "start_time": "2022-01-31T11:31:51.673Z"
   },
   {
    "duration": 15,
    "start_time": "2022-01-31T11:31:51.791Z"
   },
   {
    "duration": 989,
    "start_time": "2022-01-31T11:31:51.807Z"
   },
   {
    "duration": 322,
    "start_time": "2022-01-31T11:31:52.798Z"
   },
   {
    "duration": -193,
    "start_time": "2022-01-31T11:31:53.316Z"
   },
   {
    "duration": -193,
    "start_time": "2022-01-31T11:31:53.317Z"
   },
   {
    "duration": -193,
    "start_time": "2022-01-31T11:31:53.318Z"
   },
   {
    "duration": -193,
    "start_time": "2022-01-31T11:31:53.319Z"
   },
   {
    "duration": -192,
    "start_time": "2022-01-31T11:31:53.320Z"
   },
   {
    "duration": -192,
    "start_time": "2022-01-31T11:31:53.321Z"
   },
   {
    "duration": -192,
    "start_time": "2022-01-31T11:31:53.322Z"
   },
   {
    "duration": -193,
    "start_time": "2022-01-31T11:31:53.324Z"
   },
   {
    "duration": -193,
    "start_time": "2022-01-31T11:31:53.325Z"
   },
   {
    "duration": -193,
    "start_time": "2022-01-31T11:31:53.326Z"
   },
   {
    "duration": -193,
    "start_time": "2022-01-31T11:31:53.327Z"
   },
   {
    "duration": -193,
    "start_time": "2022-01-31T11:31:53.328Z"
   },
   {
    "duration": -193,
    "start_time": "2022-01-31T11:31:53.329Z"
   },
   {
    "duration": -193,
    "start_time": "2022-01-31T11:31:53.330Z"
   },
   {
    "duration": 1697,
    "start_time": "2022-01-31T11:32:11.249Z"
   },
   {
    "duration": 731,
    "start_time": "2022-01-31T11:32:26.168Z"
   },
   {
    "duration": 1736,
    "start_time": "2022-01-31T11:33:08.533Z"
   },
   {
    "duration": 687,
    "start_time": "2022-01-31T11:33:17.567Z"
   },
   {
    "duration": 245,
    "start_time": "2022-01-31T11:34:32.337Z"
   },
   {
    "duration": 199,
    "start_time": "2022-01-31T11:34:45.518Z"
   },
   {
    "duration": 1284,
    "start_time": "2022-01-31T11:35:01.528Z"
   },
   {
    "duration": 636,
    "start_time": "2022-01-31T11:35:02.814Z"
   },
   {
    "duration": 109,
    "start_time": "2022-01-31T11:35:03.452Z"
   },
   {
    "duration": 15,
    "start_time": "2022-01-31T11:35:03.564Z"
   },
   {
    "duration": 1183,
    "start_time": "2022-01-31T11:35:03.581Z"
   },
   {
    "duration": 867,
    "start_time": "2022-01-31T11:35:04.765Z"
   },
   {
    "duration": 648,
    "start_time": "2022-01-31T11:35:05.633Z"
   },
   {
    "duration": 29,
    "start_time": "2022-01-31T11:35:06.283Z"
   },
   {
    "duration": 385,
    "start_time": "2022-01-31T11:35:06.314Z"
   },
   {
    "duration": -77,
    "start_time": "2022-01-31T11:35:06.778Z"
   },
   {
    "duration": -77,
    "start_time": "2022-01-31T11:35:06.779Z"
   },
   {
    "duration": -79,
    "start_time": "2022-01-31T11:35:06.782Z"
   },
   {
    "duration": -79,
    "start_time": "2022-01-31T11:35:06.783Z"
   },
   {
    "duration": -79,
    "start_time": "2022-01-31T11:35:06.784Z"
   },
   {
    "duration": -79,
    "start_time": "2022-01-31T11:35:06.785Z"
   },
   {
    "duration": -79,
    "start_time": "2022-01-31T11:35:06.786Z"
   },
   {
    "duration": -82,
    "start_time": "2022-01-31T11:35:06.790Z"
   },
   {
    "duration": -180,
    "start_time": "2022-01-31T11:35:06.889Z"
   },
   {
    "duration": -180,
    "start_time": "2022-01-31T11:35:06.890Z"
   },
   {
    "duration": -180,
    "start_time": "2022-01-31T11:35:06.891Z"
   },
   {
    "duration": -182,
    "start_time": "2022-01-31T11:35:06.894Z"
   },
   {
    "duration": -183,
    "start_time": "2022-01-31T11:35:06.896Z"
   },
   {
    "duration": -183,
    "start_time": "2022-01-31T11:35:06.897Z"
   },
   {
    "duration": 15,
    "start_time": "2022-01-31T11:35:59.579Z"
   },
   {
    "duration": 8,
    "start_time": "2022-01-31T11:36:28.034Z"
   },
   {
    "duration": 8,
    "start_time": "2022-01-31T11:36:30.260Z"
   },
   {
    "duration": 242,
    "start_time": "2022-01-31T11:36:33.930Z"
   },
   {
    "duration": 212,
    "start_time": "2022-01-31T11:36:55.217Z"
   },
   {
    "duration": 5335,
    "start_time": "2022-01-31T11:38:07.380Z"
   },
   {
    "duration": 1190,
    "start_time": "2022-01-31T11:38:23.524Z"
   },
   {
    "duration": 623,
    "start_time": "2022-01-31T11:38:24.715Z"
   },
   {
    "duration": 100,
    "start_time": "2022-01-31T11:38:25.340Z"
   },
   {
    "duration": 19,
    "start_time": "2022-01-31T11:38:25.442Z"
   },
   {
    "duration": 989,
    "start_time": "2022-01-31T11:38:25.463Z"
   },
   {
    "duration": 739,
    "start_time": "2022-01-31T11:38:26.461Z"
   },
   {
    "duration": 607,
    "start_time": "2022-01-31T11:38:27.202Z"
   },
   {
    "duration": 29,
    "start_time": "2022-01-31T11:38:27.812Z"
   },
   {
    "duration": 26,
    "start_time": "2022-01-31T11:38:27.843Z"
   },
   {
    "duration": 5173,
    "start_time": "2022-01-31T11:38:27.870Z"
   },
   {
    "duration": -177,
    "start_time": "2022-01-31T11:38:33.222Z"
   },
   {
    "duration": -178,
    "start_time": "2022-01-31T11:38:33.224Z"
   },
   {
    "duration": -178,
    "start_time": "2022-01-31T11:38:33.225Z"
   },
   {
    "duration": -178,
    "start_time": "2022-01-31T11:38:33.226Z"
   },
   {
    "duration": -178,
    "start_time": "2022-01-31T11:38:33.227Z"
   },
   {
    "duration": -178,
    "start_time": "2022-01-31T11:38:33.228Z"
   },
   {
    "duration": -275,
    "start_time": "2022-01-31T11:38:33.325Z"
   },
   {
    "duration": -275,
    "start_time": "2022-01-31T11:38:33.326Z"
   },
   {
    "duration": -275,
    "start_time": "2022-01-31T11:38:33.327Z"
   },
   {
    "duration": -275,
    "start_time": "2022-01-31T11:38:33.328Z"
   },
   {
    "duration": -276,
    "start_time": "2022-01-31T11:38:33.330Z"
   },
   {
    "duration": -276,
    "start_time": "2022-01-31T11:38:33.331Z"
   },
   {
    "duration": -276,
    "start_time": "2022-01-31T11:38:33.332Z"
   },
   {
    "duration": -276,
    "start_time": "2022-01-31T11:38:33.333Z"
   },
   {
    "duration": -276,
    "start_time": "2022-01-31T11:38:33.334Z"
   },
   {
    "duration": 254,
    "start_time": "2022-01-31T11:40:42.134Z"
   },
   {
    "duration": 1151,
    "start_time": "2022-01-31T11:40:50.075Z"
   },
   {
    "duration": 623,
    "start_time": "2022-01-31T11:40:51.228Z"
   },
   {
    "duration": 107,
    "start_time": "2022-01-31T11:40:51.853Z"
   },
   {
    "duration": 307,
    "start_time": "2022-01-31T11:40:51.963Z"
   },
   {
    "duration": -73,
    "start_time": "2022-01-31T11:40:52.348Z"
   },
   {
    "duration": -74,
    "start_time": "2022-01-31T11:40:52.350Z"
   },
   {
    "duration": -74,
    "start_time": "2022-01-31T11:40:52.351Z"
   },
   {
    "duration": -76,
    "start_time": "2022-01-31T11:40:52.354Z"
   },
   {
    "duration": -76,
    "start_time": "2022-01-31T11:40:52.355Z"
   },
   {
    "duration": -76,
    "start_time": "2022-01-31T11:40:52.356Z"
   },
   {
    "duration": -179,
    "start_time": "2022-01-31T11:40:52.460Z"
   },
   {
    "duration": -186,
    "start_time": "2022-01-31T11:40:52.468Z"
   },
   {
    "duration": -186,
    "start_time": "2022-01-31T11:40:52.469Z"
   },
   {
    "duration": -186,
    "start_time": "2022-01-31T11:40:52.470Z"
   },
   {
    "duration": -186,
    "start_time": "2022-01-31T11:40:52.471Z"
   },
   {
    "duration": -187,
    "start_time": "2022-01-31T11:40:52.473Z"
   },
   {
    "duration": -187,
    "start_time": "2022-01-31T11:40:52.474Z"
   },
   {
    "duration": -187,
    "start_time": "2022-01-31T11:40:52.475Z"
   },
   {
    "duration": -187,
    "start_time": "2022-01-31T11:40:52.476Z"
   },
   {
    "duration": -187,
    "start_time": "2022-01-31T11:40:52.477Z"
   },
   {
    "duration": -188,
    "start_time": "2022-01-31T11:40:52.479Z"
   },
   {
    "duration": -188,
    "start_time": "2022-01-31T11:40:52.480Z"
   },
   {
    "duration": -188,
    "start_time": "2022-01-31T11:40:52.481Z"
   },
   {
    "duration": -189,
    "start_time": "2022-01-31T11:40:52.483Z"
   },
   {
    "duration": -189,
    "start_time": "2022-01-31T11:40:52.484Z"
   },
   {
    "duration": -190,
    "start_time": "2022-01-31T11:40:52.486Z"
   },
   {
    "duration": 207,
    "start_time": "2022-01-31T11:41:31.702Z"
   },
   {
    "duration": 213,
    "start_time": "2022-01-31T11:41:37.885Z"
   },
   {
    "duration": 2,
    "start_time": "2022-01-31T11:42:13.347Z"
   },
   {
    "duration": 212,
    "start_time": "2022-01-31T11:42:15.648Z"
   },
   {
    "duration": 17,
    "start_time": "2022-01-31T11:43:32.651Z"
   },
   {
    "duration": 1105,
    "start_time": "2022-01-31T11:43:41.010Z"
   },
   {
    "duration": 597,
    "start_time": "2022-01-31T11:43:42.117Z"
   },
   {
    "duration": 2,
    "start_time": "2022-01-31T11:43:42.717Z"
   },
   {
    "duration": 20,
    "start_time": "2022-01-31T11:43:42.721Z"
   },
   {
    "duration": 16,
    "start_time": "2022-01-31T11:43:42.742Z"
   },
   {
    "duration": 982,
    "start_time": "2022-01-31T11:43:42.759Z"
   },
   {
    "duration": 722,
    "start_time": "2022-01-31T11:43:43.742Z"
   },
   {
    "duration": 597,
    "start_time": "2022-01-31T11:43:44.465Z"
   },
   {
    "duration": 33,
    "start_time": "2022-01-31T11:43:45.065Z"
   },
   {
    "duration": 15,
    "start_time": "2022-01-31T11:43:45.100Z"
   },
   {
    "duration": 14,
    "start_time": "2022-01-31T11:43:45.116Z"
   },
   {
    "duration": 317,
    "start_time": "2022-01-31T11:43:45.132Z"
   },
   {
    "duration": -73,
    "start_time": "2022-01-31T11:43:45.524Z"
   },
   {
    "duration": -74,
    "start_time": "2022-01-31T11:43:45.526Z"
   },
   {
    "duration": -168,
    "start_time": "2022-01-31T11:43:45.621Z"
   },
   {
    "duration": -172,
    "start_time": "2022-01-31T11:43:45.626Z"
   },
   {
    "duration": -172,
    "start_time": "2022-01-31T11:43:45.627Z"
   },
   {
    "duration": -172,
    "start_time": "2022-01-31T11:43:45.628Z"
   },
   {
    "duration": -172,
    "start_time": "2022-01-31T11:43:45.629Z"
   },
   {
    "duration": -172,
    "start_time": "2022-01-31T11:43:45.630Z"
   },
   {
    "duration": -172,
    "start_time": "2022-01-31T11:43:45.631Z"
   },
   {
    "duration": -172,
    "start_time": "2022-01-31T11:43:45.632Z"
   },
   {
    "duration": -172,
    "start_time": "2022-01-31T11:43:45.633Z"
   },
   {
    "duration": -173,
    "start_time": "2022-01-31T11:43:45.634Z"
   },
   {
    "duration": -173,
    "start_time": "2022-01-31T11:43:45.635Z"
   },
   {
    "duration": -174,
    "start_time": "2022-01-31T11:43:45.637Z"
   },
   {
    "duration": 15,
    "start_time": "2022-01-31T11:43:57.927Z"
   },
   {
    "duration": 73,
    "start_time": "2022-01-31T11:45:20.239Z"
   },
   {
    "duration": 86,
    "start_time": "2022-01-31T11:45:38.878Z"
   },
   {
    "duration": 22,
    "start_time": "2022-01-31T11:46:15.790Z"
   },
   {
    "duration": 470,
    "start_time": "2022-01-31T11:46:48.905Z"
   },
   {
    "duration": 1091,
    "start_time": "2022-01-31T11:47:52.778Z"
   },
   {
    "duration": 26,
    "start_time": "2022-01-31T11:48:49.403Z"
   },
   {
    "duration": 591,
    "start_time": "2022-01-31T11:49:27.983Z"
   },
   {
    "duration": 270,
    "start_time": "2022-01-31T11:50:12.297Z"
   },
   {
    "duration": 6,
    "start_time": "2022-01-31T11:50:50.789Z"
   },
   {
    "duration": 5,
    "start_time": "2022-01-31T11:51:11.864Z"
   },
   {
    "duration": 13,
    "start_time": "2022-01-31T11:51:35.197Z"
   },
   {
    "duration": 780,
    "start_time": "2022-01-31T11:51:50.658Z"
   },
   {
    "duration": 65,
    "start_time": "2022-01-31T11:52:16.765Z"
   },
   {
    "duration": 5,
    "start_time": "2022-01-31T11:53:51.639Z"
   },
   {
    "duration": 6,
    "start_time": "2022-01-31T11:54:25.662Z"
   },
   {
    "duration": 5,
    "start_time": "2022-01-31T11:54:34.484Z"
   },
   {
    "duration": 28,
    "start_time": "2022-01-31T11:55:11.103Z"
   },
   {
    "duration": 5,
    "start_time": "2022-01-31T11:55:39.332Z"
   },
   {
    "duration": 68,
    "start_time": "2022-01-31T11:55:56.483Z"
   },
   {
    "duration": 4,
    "start_time": "2022-01-31T11:58:27.802Z"
   },
   {
    "duration": 658,
    "start_time": "2022-01-31T11:58:27.977Z"
   },
   {
    "duration": 3,
    "start_time": "2022-01-31T11:58:28.637Z"
   },
   {
    "duration": 18,
    "start_time": "2022-01-31T11:58:28.642Z"
   },
   {
    "duration": 13,
    "start_time": "2022-01-31T11:58:28.662Z"
   },
   {
    "duration": 1018,
    "start_time": "2022-01-31T11:58:29.045Z"
   },
   {
    "duration": 751,
    "start_time": "2022-01-31T11:58:30.065Z"
   },
   {
    "duration": 606,
    "start_time": "2022-01-31T11:58:30.818Z"
   },
   {
    "duration": 40,
    "start_time": "2022-01-31T11:58:31.426Z"
   },
   {
    "duration": 15,
    "start_time": "2022-01-31T11:58:31.468Z"
   },
   {
    "duration": 24,
    "start_time": "2022-01-31T11:58:31.485Z"
   },
   {
    "duration": 110,
    "start_time": "2022-01-31T11:58:31.511Z"
   },
   {
    "duration": 1183,
    "start_time": "2022-01-31T12:21:58.847Z"
   },
   {
    "duration": 628,
    "start_time": "2022-01-31T12:22:00.033Z"
   },
   {
    "duration": 16,
    "start_time": "2022-01-31T12:22:00.663Z"
   },
   {
    "duration": 14,
    "start_time": "2022-01-31T12:22:00.681Z"
   },
   {
    "duration": 1111,
    "start_time": "2022-01-31T12:22:00.697Z"
   },
   {
    "duration": 768,
    "start_time": "2022-01-31T12:22:01.810Z"
   },
   {
    "duration": 605,
    "start_time": "2022-01-31T12:22:02.580Z"
   },
   {
    "duration": 33,
    "start_time": "2022-01-31T12:22:03.188Z"
   },
   {
    "duration": 14,
    "start_time": "2022-01-31T12:22:03.223Z"
   },
   {
    "duration": 33,
    "start_time": "2022-01-31T12:22:03.239Z"
   },
   {
    "duration": 96,
    "start_time": "2022-01-31T12:22:03.274Z"
   },
   {
    "duration": 21,
    "start_time": "2022-01-31T12:22:03.371Z"
   },
   {
    "duration": 475,
    "start_time": "2022-01-31T12:22:03.393Z"
   },
   {
    "duration": 1071,
    "start_time": "2022-01-31T12:22:03.870Z"
   },
   {
    "duration": 29,
    "start_time": "2022-01-31T12:22:04.943Z"
   },
   {
    "duration": 551,
    "start_time": "2022-01-31T12:22:04.974Z"
   },
   {
    "duration": 6,
    "start_time": "2022-01-31T12:22:05.526Z"
   },
   {
    "duration": 12,
    "start_time": "2022-01-31T12:22:05.533Z"
   },
   {
    "duration": 31,
    "start_time": "2022-01-31T12:22:05.546Z"
   },
   {
    "duration": 789,
    "start_time": "2022-01-31T12:22:05.579Z"
   },
   {
    "duration": 54,
    "start_time": "2022-01-31T12:22:06.370Z"
   },
   {
    "duration": 39,
    "start_time": "2022-01-31T12:22:06.426Z"
   },
   {
    "duration": 7,
    "start_time": "2022-01-31T12:22:06.469Z"
   },
   {
    "duration": 40,
    "start_time": "2022-01-31T12:22:06.478Z"
   },
   {
    "duration": 7,
    "start_time": "2022-01-31T12:22:06.520Z"
   }
  ],
  "kernelspec": {
   "display_name": "Python 3",
   "language": "python",
   "name": "python3"
  },
  "language_info": {
   "codemirror_mode": {
    "name": "ipython",
    "version": 3
   },
   "file_extension": ".py",
   "mimetype": "text/x-python",
   "name": "python",
   "nbconvert_exporter": "python",
   "pygments_lexer": "ipython3",
   "version": "3.7.8"
  },
  "toc": {
   "base_numbering": 1,
   "nav_menu": {},
   "number_sections": true,
   "sideBar": true,
   "skip_h1_title": false,
   "title_cell": "",
   "title_sidebar": "Contents",
   "toc_cell": true,
   "toc_position": {
    "height": "calc(100% - 180px)",
    "left": "10px",
    "top": "150px",
    "width": "232.778px"
   },
   "toc_section_display": true,
   "toc_window_display": true
  }
 },
 "nbformat": 4,
 "nbformat_minor": 2
}
